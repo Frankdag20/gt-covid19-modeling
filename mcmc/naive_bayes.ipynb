{
 "cells": [
  {
   "cell_type": "code",
   "execution_count": 2,
   "metadata": {},
   "outputs": [],
   "source": [
    "import warnings\n",
    "warnings.filterwarnings(\"ignore\")\n",
    "\n",
    "import matplotlib.pyplot as plt\n",
    "import numpy as np\n",
    "import pandas as pd\n",
    "from sklearn.naive_bayes import *\n",
    "from sklearn.linear_model import LinearRegression\n",
    "import numpy as np\n",
    "import matplotlib.pyplot as plt\n",
    "import pystan\n",
    "import pickle\n",
    "import numpy as np\n",
    "import pandas as pd\n",
    "import seaborn as sns\n",
    "import matplotlib.pyplot as plt\n",
    "import datetime\n",
    "from sklearn.model_selection import train_test_split\n",
    "from sklearn.linear_model import BayesianRidge"
   ]
  },
  {
   "cell_type": "code",
   "execution_count": 3,
   "metadata": {},
   "outputs": [
    {
     "name": "stdout",
     "output_type": "stream",
     "text": [
      "['Date', 'Country_Region', 'Last_Update', 'Lat', 'Long_', 'Confirmed', 'Deaths', 'Recovered', 'Active', 'FIPS', 'Incident_Rate', 'People_Tested', 'People_Hospitalized', 'Mortality_Rate', 'UID', 'ISO3', 'Testing_Rate', 'Hospitalization_Rate']\n"
     ]
    }
   ],
   "source": [
    "u='https://raw.githubusercontent.com/CSSEGISandData/COVID-19/master/csse_covid_19_data/csse_covid_19_daily_reports_us/'\n",
    "c1 = \"Date,Country_Region,Last_Update,Lat,Long_,Confirmed,\"\n",
    "c2 = \"Deaths,Recovered,Active,FIPS,Incident_Rate,People_Tested,People_Hospitalized,Mortality_Rate,UID,ISO3,\"\n",
    "c3 = \"Testing_Rate,Hospitalization_Rate\"\n",
    "labels = c1+c2+c3\n",
    "cols = labels.split(',')\n",
    "print cols"
   ]
  },
  {
   "cell_type": "code",
   "execution_count": 4,
   "metadata": {},
   "outputs": [
    {
     "name": "stdout",
     "output_type": "stream",
     "text": [
      "59\n"
     ]
    }
   ],
   "source": [
    "df_all = pd.DataFrame(columns = cols)\n",
    "start_date = datetime.date(2020, 4, 12)\n",
    "end_date = datetime.date(2020, 7, 13)\n",
    "delta = datetime.timedelta(days=1)\n",
    "date = start_date\n",
    "while(date <= end_date):\n",
    "    date_df = pd.DataFrame(columns = [date])\n",
    "    if(date.month/10 ==0):\n",
    "        mo = '0' + str(date.month)\n",
    "    else:\n",
    "        mo = str(date.month)\n",
    "    if(date.day /10 ==0):\n",
    "        day = '0'+ str(date.day)\n",
    "    else:\n",
    "        day = str(date.day)\n",
    "    url = u + mo +'-'+ day +'-' + str(date.year)+\".csv\"\n",
    "    df = pd.read_csv(url, index_col =0)\n",
    "    df_all = pd.concat([df_all, df])\n",
    "    if(date == start_date):\n",
    "        print len(df_all.index)\n",
    "    date += delta"
   ]
  },
  {
   "cell_type": "code",
   "execution_count": 5,
   "metadata": {},
   "outputs": [],
   "source": [
    "df_all = df_all.reset_index()"
   ]
  },
  {
   "cell_type": "code",
   "execution_count": 6,
   "metadata": {},
   "outputs": [],
   "source": [
    "df_az = df_all.loc[df_all['index']==\"Arizona\"]\n",
    "df_az = df_az.reset_index()\n",
    "conf_az = df_az['Confirmed']\n",
    "\n",
    "df_ny = df_all.loc[df_all['index']==\"New York\"]\n",
    "df_ny = df_ny.reset_index()\n",
    "conf_ny = df_ny['Confirmed']\n",
    "\n",
    "df_sc = df_all.loc[df_all['index']==\"South Carolina\"]\n",
    "df_sc = df_sc.reset_index()\n",
    "conf_sc = df_sc['Confirmed']\n",
    "\n",
    "df_nj = df_all.loc[df_all['index']==\"New Jersey\"]\n",
    "df_nj = df_nj.reset_index()\n",
    "conf_nj = df_nj['Confirmed']\n",
    "\n",
    "df_ma = df_all.loc[df_all['index']==\"Massachusetts\"]\n",
    "df_ma = df_ma.reset_index()\n",
    "conf_ma = df_ma['Confirmed']\n",
    "\n",
    "df_ga = df_all.loc[df_all['index']==\"Georgia\"]\n",
    "df_ga = df_ga.reset_index()\n",
    "conf_ga = df_ga['Confirmed']\n",
    "\n",
    "df_mi = df_all.loc[df_all['index']==\"Michigan\"]\n",
    "df_mi = df_mi.reset_index()\n",
    "conf_mi = df_mi['Confirmed']\n",
    "\n",
    "df_fl = df_all.loc[df_all['index']==\"Florida\"]\n",
    "df_fl = df_fl.reset_index()\n",
    "conf_fl = df_fl['Confirmed']\n",
    "\n",
    "df_ca = df_all.loc[df_all['index']==\"California\"]\n",
    "df_ca = df_ca.reset_index()\n",
    "conf_ca = df_ca['Confirmed']\n",
    "\n",
    "df_wa = df_all.loc[df_all['index']==\"Washington\"]\n",
    "df_wa = df_wa.reset_index()\n",
    "conf_wa = df_wa['Confirmed']\n",
    "\n"
   ]
  },
  {
   "cell_type": "code",
   "execution_count": 7,
   "metadata": {},
   "outputs": [],
   "source": [
    "test_period = 20\n",
    "\n",
    "train_az = df_az.iloc[:-test_period]\n",
    "test_az = df_az.iloc[-test_period:]\n",
    "\n",
    "\n",
    "train_ny = df_ny.iloc[:-test_period]\n",
    "test_ny = df_ny.iloc[-test_period:]\n",
    "\n",
    "\n",
    "train_nj = df_nj.iloc[:-test_period]\n",
    "test_nj = df_nj.iloc[-test_period:]\n",
    "\n",
    "\n",
    "train_mi = df_mi.iloc[:-test_period]\n",
    "test_mi = df_mi.iloc[-test_period:]\n",
    "\n",
    "\n",
    "train_sc = df_sc.iloc[:-test_period]\n",
    "test_sc = df_sc.iloc[-test_period:]\n",
    "\n",
    "\n",
    "train_ga = df_ga.iloc[:-test_period]\n",
    "test_ga = df_ga.iloc[-test_period:]\n",
    "\n",
    "\n",
    "train_fl = df_fl.iloc[:-test_period]\n",
    "test_fl = df_fl.iloc[-test_period:]\n",
    "\n",
    "\n",
    "train_ca = df_ca.iloc[:-test_period]\n",
    "test_ca = df_ca.iloc[-test_period:]\n",
    "\n",
    "\n",
    "train_wa = df_wa.iloc[:-test_period]\n",
    "test_wa = df_wa.iloc[-test_period:]\n",
    "\n",
    "\n",
    "train_ma = df_ma.iloc[:-test_period]\n",
    "test_ma = df_ma.iloc[-test_period:]"
   ]
  },
  {
   "cell_type": "code",
   "execution_count": 8,
   "metadata": {},
   "outputs": [],
   "source": [
    "train_ny = train_ny[\"Confirmed\"]\n",
    "test_ny = test_ny[\"Confirmed\"]\n",
    "\n",
    "train_nj = train_nj[\"Confirmed\"]\n",
    "test_nj = test_nj[\"Confirmed\"]\n",
    "\n",
    "train_ma = train_ma[\"Confirmed\"]\n",
    "test_ma = test_ma[\"Confirmed\"]\n",
    "\n",
    "train_ca = train_ca[\"Confirmed\"]\n",
    "test_ca = test_ca[\"Confirmed\"]\n",
    "\n",
    "train_wa = train_wa[\"Confirmed\"]\n",
    "test_wa = test_wa[\"Confirmed\"]\n",
    "\n",
    "train_mi = train_mi[\"Confirmed\"]\n",
    "test_mi = test_mi[\"Confirmed\"]\n",
    "\n",
    "train_ga = train_ga[\"Confirmed\"]\n",
    "test_ga = test_ga[\"Confirmed\"]\n",
    "\n",
    "train_az = train_az[\"Confirmed\"]\n",
    "test_az = test_az[\"Confirmed\"]\n",
    "\n",
    "train_sc = train_sc[\"Confirmed\"]\n",
    "test_sc = test_sc[\"Confirmed\"]\n",
    "\n",
    "train_fl = train_fl[\"Confirmed\"]\n",
    "test_fl = test_fl[\"Confirmed\"]"
   ]
  },
  {
   "cell_type": "code",
   "execution_count": 9,
   "metadata": {},
   "outputs": [],
   "source": [
    "trend_removed_ny = train_ny.diff()\n",
    "trend_removed_nj = train_nj.diff()\n",
    "trend_removed_ca = train_ca.diff()\n",
    "trend_removed_ma = train_ma.diff()\n",
    "trend_removed_wa = train_wa.diff()\n",
    "trend_removed_sc = train_sc.diff()\n",
    "trend_removed_fl = train_fl.diff()\n",
    "trend_removed_az = train_az.diff()\n",
    "trend_removed_mi = train_mi.diff()\n",
    "trend_removed_ga = train_ga.diff()\n"
   ]
  },
  {
   "cell_type": "code",
   "execution_count": 10,
   "metadata": {},
   "outputs": [],
   "source": [
    "t_train_ny = np.arange(len(train_ny)).reshape(-1,1)\n",
    "trend_removed_ny = trend_removed_ny / ((t_train_ny+1)**(1/2)).reshape(-1)\n",
    "t_train_nj = np.arange(len(train_nj)).reshape(-1,1)\n",
    "trend_removed_nj = trend_removed_nj / ((t_train_nj+1)**(1/2)).reshape(-1)\n",
    "t_train_wa = np.arange(len(train_wa)).reshape(-1,1)\n",
    "trend_removed_wa = trend_removed_wa / ((t_train_wa+1)**(1/2)).reshape(-1)\n",
    "t_train_ma = np.arange(len(train_ma)).reshape(-1,1)\n",
    "trend_removed_ma = trend_removed_ma / ((t_train_ma+1)**(1/2)).reshape(-1)\n",
    "t_train_ca = np.arange(len(train_ca)).reshape(-1,1)\n",
    "trend_removed_ca = trend_removed_ca / ((t_train_ca+1)**(1/2)).reshape(-1)\n",
    "t_train_sc = np.arange(len(train_sc)).reshape(-1,1)\n",
    "trend_removed_sc = trend_removed_sc / ((t_train_sc+1)**(1/2)).reshape(-1)\n",
    "t_train_az = np.arange(len(train_az)).reshape(-1,1)\n",
    "trend_removed_az = trend_removed_az / ((t_train_az+1)**(1/2)).reshape(-1)\n",
    "t_train_ga = np.arange(len(train_ga)).reshape(-1,1)\n",
    "trend_removed_ga = trend_removed_ga / ((t_train_ga+1)**(1/2)).reshape(-1)\n",
    "t_train_mi = np.arange(len(train_mi)).reshape(-1,1)\n",
    "trend_removed_mi = trend_removed_mi / ((t_train_mi+1)**(1/2)).reshape(-1)\n",
    "t_train_fl = np.arange(len(train_fl)).reshape(-1,1)\n",
    "trend_removed_fl = trend_removed_fl / ((t_train_fl+1)**(1/2)).reshape(-1)\n",
    "\n"
   ]
  },
  {
   "cell_type": "code",
   "execution_count": 12,
   "metadata": {},
   "outputs": [],
   "source": [
    "n_bins = 40\n",
    "bins_fl = np.linspace(trend_removed_fl.min(), trend_removed_fl.max(), n_bins)\n",
    "binned_fl = np.digitize(trend_removed_fl, bins_fl)\n",
    "binned_series_fl = pd.Series(binned_fl, index = trend_removed_fl.index)"
   ]
  },
  {
   "cell_type": "code",
   "execution_count": 13,
   "metadata": {},
   "outputs": [],
   "source": [
    "bin_means_fl = {}\n",
    "\n",
    "for binn in range(1,n_bins+1):\n",
    "    bin_means_fl[binn] = trend_removed_fl[binned_fl == binn].mean()"
   ]
  },
  {
   "cell_type": "code",
   "execution_count": 14,
   "metadata": {},
   "outputs": [],
   "source": [
    "lagged_list_fl = []\n",
    "for s in range(30):\n",
    "    lagged_list_fl.append(binned_series_fl.shift(s))\n",
    "    \n",
    "lagged_frame_fl = pd.concat(lagged_list_fl,1).dropna()\n",
    "\n",
    "train_X_fl = lagged_frame_fl.iloc[:,1:]\n",
    "train_y_fl = lagged_frame_fl.iloc[:,0]"
   ]
  },
  {
   "cell_type": "code",
   "execution_count": 15,
   "metadata": {},
   "outputs": [
    {
     "data": {
      "text/html": [
       "<div>\n",
       "<style scoped>\n",
       "    .dataframe tbody tr th:only-of-type {\n",
       "        vertical-align: middle;\n",
       "    }\n",
       "\n",
       "    .dataframe tbody tr th {\n",
       "        vertical-align: top;\n",
       "    }\n",
       "\n",
       "    .dataframe thead th {\n",
       "        text-align: right;\n",
       "    }\n",
       "</style>\n",
       "<table border=\"1\" class=\"dataframe\">\n",
       "  <thead>\n",
       "    <tr style=\"text-align: right;\">\n",
       "      <th></th>\n",
       "      <th>1</th>\n",
       "      <th>2</th>\n",
       "      <th>3</th>\n",
       "      <th>4</th>\n",
       "      <th>5</th>\n",
       "      <th>6</th>\n",
       "      <th>7</th>\n",
       "      <th>8</th>\n",
       "      <th>9</th>\n",
       "      <th>10</th>\n",
       "      <th>...</th>\n",
       "      <th>20</th>\n",
       "      <th>21</th>\n",
       "      <th>22</th>\n",
       "      <th>23</th>\n",
       "      <th>24</th>\n",
       "      <th>25</th>\n",
       "      <th>26</th>\n",
       "      <th>27</th>\n",
       "      <th>28</th>\n",
       "      <th>29</th>\n",
       "    </tr>\n",
       "  </thead>\n",
       "  <tbody>\n",
       "    <tr>\n",
       "      <th>29</th>\n",
       "      <td>4.0</td>\n",
       "      <td>6.0</td>\n",
       "      <td>1.0</td>\n",
       "      <td>6.0</td>\n",
       "      <td>3.0</td>\n",
       "      <td>3.0</td>\n",
       "      <td>6.0</td>\n",
       "      <td>4.0</td>\n",
       "      <td>5.0</td>\n",
       "      <td>8.0</td>\n",
       "      <td>...</td>\n",
       "      <td>6.0</td>\n",
       "      <td>5.0</td>\n",
       "      <td>6.0</td>\n",
       "      <td>5.0</td>\n",
       "      <td>12.0</td>\n",
       "      <td>6.0</td>\n",
       "      <td>7.0</td>\n",
       "      <td>4.0</td>\n",
       "      <td>40.0</td>\n",
       "      <td>40.0</td>\n",
       "    </tr>\n",
       "    <tr>\n",
       "      <th>30</th>\n",
       "      <td>1.0</td>\n",
       "      <td>4.0</td>\n",
       "      <td>6.0</td>\n",
       "      <td>1.0</td>\n",
       "      <td>6.0</td>\n",
       "      <td>3.0</td>\n",
       "      <td>3.0</td>\n",
       "      <td>6.0</td>\n",
       "      <td>4.0</td>\n",
       "      <td>5.0</td>\n",
       "      <td>...</td>\n",
       "      <td>2.0</td>\n",
       "      <td>6.0</td>\n",
       "      <td>5.0</td>\n",
       "      <td>6.0</td>\n",
       "      <td>5.0</td>\n",
       "      <td>12.0</td>\n",
       "      <td>6.0</td>\n",
       "      <td>7.0</td>\n",
       "      <td>4.0</td>\n",
       "      <td>40.0</td>\n",
       "    </tr>\n",
       "    <tr>\n",
       "      <th>31</th>\n",
       "      <td>7.0</td>\n",
       "      <td>1.0</td>\n",
       "      <td>4.0</td>\n",
       "      <td>6.0</td>\n",
       "      <td>1.0</td>\n",
       "      <td>6.0</td>\n",
       "      <td>3.0</td>\n",
       "      <td>3.0</td>\n",
       "      <td>6.0</td>\n",
       "      <td>4.0</td>\n",
       "      <td>...</td>\n",
       "      <td>11.0</td>\n",
       "      <td>2.0</td>\n",
       "      <td>6.0</td>\n",
       "      <td>5.0</td>\n",
       "      <td>6.0</td>\n",
       "      <td>5.0</td>\n",
       "      <td>12.0</td>\n",
       "      <td>6.0</td>\n",
       "      <td>7.0</td>\n",
       "      <td>4.0</td>\n",
       "    </tr>\n",
       "    <tr>\n",
       "      <th>32</th>\n",
       "      <td>2.0</td>\n",
       "      <td>7.0</td>\n",
       "      <td>1.0</td>\n",
       "      <td>4.0</td>\n",
       "      <td>6.0</td>\n",
       "      <td>1.0</td>\n",
       "      <td>6.0</td>\n",
       "      <td>3.0</td>\n",
       "      <td>3.0</td>\n",
       "      <td>6.0</td>\n",
       "      <td>...</td>\n",
       "      <td>7.0</td>\n",
       "      <td>11.0</td>\n",
       "      <td>2.0</td>\n",
       "      <td>6.0</td>\n",
       "      <td>5.0</td>\n",
       "      <td>6.0</td>\n",
       "      <td>5.0</td>\n",
       "      <td>12.0</td>\n",
       "      <td>6.0</td>\n",
       "      <td>7.0</td>\n",
       "    </tr>\n",
       "    <tr>\n",
       "      <th>33</th>\n",
       "      <td>6.0</td>\n",
       "      <td>2.0</td>\n",
       "      <td>7.0</td>\n",
       "      <td>1.0</td>\n",
       "      <td>4.0</td>\n",
       "      <td>6.0</td>\n",
       "      <td>1.0</td>\n",
       "      <td>6.0</td>\n",
       "      <td>3.0</td>\n",
       "      <td>3.0</td>\n",
       "      <td>...</td>\n",
       "      <td>1.0</td>\n",
       "      <td>7.0</td>\n",
       "      <td>11.0</td>\n",
       "      <td>2.0</td>\n",
       "      <td>6.0</td>\n",
       "      <td>5.0</td>\n",
       "      <td>6.0</td>\n",
       "      <td>5.0</td>\n",
       "      <td>12.0</td>\n",
       "      <td>6.0</td>\n",
       "    </tr>\n",
       "  </tbody>\n",
       "</table>\n",
       "<p>5 rows × 29 columns</p>\n",
       "</div>"
      ],
      "text/plain": [
       "     1    2    3    4    5    6    7    8    9    10  ...    20    21    22  \\\n",
       "29  4.0  6.0  1.0  6.0  3.0  3.0  6.0  4.0  5.0  8.0  ...   6.0   5.0   6.0   \n",
       "30  1.0  4.0  6.0  1.0  6.0  3.0  3.0  6.0  4.0  5.0  ...   2.0   6.0   5.0   \n",
       "31  7.0  1.0  4.0  6.0  1.0  6.0  3.0  3.0  6.0  4.0  ...  11.0   2.0   6.0   \n",
       "32  2.0  7.0  1.0  4.0  6.0  1.0  6.0  3.0  3.0  6.0  ...   7.0  11.0   2.0   \n",
       "33  6.0  2.0  7.0  1.0  4.0  6.0  1.0  6.0  3.0  3.0  ...   1.0   7.0  11.0   \n",
       "\n",
       "     23    24    25    26    27    28    29  \n",
       "29  5.0  12.0   6.0   7.0   4.0  40.0  40.0  \n",
       "30  6.0   5.0  12.0   6.0   7.0   4.0  40.0  \n",
       "31  5.0   6.0   5.0  12.0   6.0   7.0   4.0  \n",
       "32  6.0   5.0   6.0   5.0  12.0   6.0   7.0  \n",
       "33  2.0   6.0   5.0   6.0   5.0  12.0   6.0  \n",
       "\n",
       "[5 rows x 29 columns]"
      ]
     },
     "execution_count": 15,
     "metadata": {},
     "output_type": "execute_result"
    }
   ],
   "source": [
    "train_X_fl.head()"
   ]
  },
  {
   "cell_type": "code",
   "execution_count": 20,
   "metadata": {},
   "outputs": [],
   "source": [
    "def get_mean_from_class(prediction):\n",
    "    \n",
    "    return(bin_means_fl[prediction[0]])"
   ]
  },
  {
   "cell_type": "code",
   "execution_count": 21,
   "metadata": {},
   "outputs": [
    {
     "data": {
      "text/plain": [
       "GaussianNB(priors=None, var_smoothing=1e-09)"
      ]
     },
     "execution_count": 21,
     "metadata": {},
     "output_type": "execute_result"
    }
   ],
   "source": [
    "model = GaussianNB()\n",
    "model.fit(train_X_fl, train_y_fl)"
   ]
  },
  {
   "cell_type": "code",
   "execution_count": 22,
   "metadata": {},
   "outputs": [],
   "source": [
    "pred_insample = model.predict(train_X_fl)\n",
    "pred_insample = pd.DataFrame(pred_insample, index = train_y_fl.index)\n",
    "\n",
    "resulting_prediction = pd.Series(np.nan, index = train_y_fl.index)\n",
    "for row in range(len(pred_insample)):\n",
    "    resulting_prediction.iloc[row] = get_mean_from_class(pred_insample.values[row])"
   ]
  },
  {
   "cell_type": "code",
   "execution_count": 24,
   "metadata": {},
   "outputs": [
    {
     "data": {
      "text/plain": [
       "[<matplotlib.lines.Line2D at 0x7f34676dcf10>]"
      ]
     },
     "execution_count": 24,
     "metadata": {},
     "output_type": "execute_result"
    },
    {
     "data": {
      "image/png": "[encoded data removed]",
      "text/plain": [
       "<Figure size 864x432 with 1 Axes>"
      ]
     },
     "metadata": {
      "needs_background": "light"
     },
     "output_type": "display_data"
    }
   ],
   "source": [
    "plt.figure(figsize = (12,6))\n",
    "plt.plot(trend_removed_fl)\n",
    "plt.plot(resulting_prediction)"
   ]
  },
  {
   "cell_type": "code",
   "execution_count": 26,
   "metadata": {},
   "outputs": [],
   "source": [
    "prediction_frame = pd.DataFrame(np.nan, index = test_fl.index, columns = range(train_X_fl.shape[1]))\n",
    "predictions = pd.Series(index = test_fl.index)\n",
    "\n",
    "prediction_frame.iloc[0,1:] = train_X_fl.iloc[-1,:-1].values\n",
    "prediction_frame.iloc[0,0] = train_y_fl.iloc[-1]"
   ]
  },
  {
   "cell_type": "code",
   "execution_count": 28,
   "metadata": {},
   "outputs": [],
   "source": [
    "for i in range(len(test_fl)):\n",
    "    pred = model.predict(prediction_frame.iloc[i,:].values.reshape(1,-1))\n",
    "    pred_num = get_mean_from_class(pred.reshape(-1))\n",
    "    predictions.iloc[i] = pred_num\n",
    "    try:\n",
    "        prediction_frame.iloc[i+1,1:] = prediction_frame.iloc[i,:-1].values\n",
    "        prediction_frame.iloc[i+1,0] = pred[0]\n",
    "    except:\n",
    "        pass"
   ]
  },
  {
   "cell_type": "code",
   "execution_count": 32,
   "metadata": {},
   "outputs": [],
   "source": [
    "trend_test = np.arange(len(train_fl),len(train_fl)+len(test_fl)).reshape(-1,1)\n",
    "\n",
    "final_prediction = predictions.cumsum()* ((trend_test+1)**(1/2)).reshape(-1)+train_fl.iloc[-1]"
   ]
  },
  {
   "cell_type": "code",
   "execution_count": 34,
   "metadata": {},
   "outputs": [
    {
     "data": {
      "text/plain": [
       "[<matplotlib.lines.Line2D at 0x7f3467361d50>]"
      ]
     },
     "execution_count": 34,
     "metadata": {},
     "output_type": "execute_result"
    },
    {
     "data": {
      "image/png": "[encoded data removed]",
      "text/plain": [
       "<Figure size 864x432 with 1 Axes>"
      ]
     },
     "metadata": {
      "needs_background": "light"
     },
     "output_type": "display_data"
    }
   ],
   "source": [
    "plt.figure(figsize = (12,6))\n",
    "plt.plot(train_fl)\n",
    "plt.plot(test_fl)\n",
    "plt.plot(final_prediction)"
   ]
  },
  {
   "cell_type": "code",
   "execution_count": null,
   "metadata": {},
   "outputs": [],
   "source": []
  }
 ],
 "metadata": {
  "kernelspec": {
   "display_name": "venv",
   "language": "python",
   "name": "venv"
  },
  "language_info": {
   "codemirror_mode": {
    "name": "ipython",
    "version": 2
   },
   "file_extension": ".py",
   "mimetype": "text/x-python",
   "name": "python",
   "nbconvert_exporter": "python",
   "pygments_lexer": "ipython2",
   "version": "2.7.15rc1"
  }
 },
 "nbformat": 4,
 "nbformat_minor": 2
}
