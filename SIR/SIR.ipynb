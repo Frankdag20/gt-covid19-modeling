{
 "cells": [
  {
   "cell_type": "code",
   "execution_count": 1,
   "metadata": {},
   "outputs": [
    {
     "name": "stdout",
     "output_type": "stream",
     "text": [
      "C:\\Users\\frank\\GTREU\\SIR\n"
     ]
    }
   ],
   "source": [
    "import numpy as np\n",
    "import pickle\n",
    "import pandas as pd\n",
    "import matplotlib.pyplot as plt\n",
    "import os\n",
    "import math\n",
    "from scipy.integrate import odeint\n",
    "from scipy.optimize import minimize\n",
    "import scipy.stats as st\n",
    "from scipy import integrate\n",
    "from lmfit import minimize, Parameters, Parameter, report_fit\n",
    "\n",
    "pathName = os.getcwd()\n",
    "print(pathName)"
   ]
  },
  {
   "cell_type": "markdown",
   "metadata": {},
   "source": [
    "# Initialize Five States and Import Data"
   ]
  },
  {
   "cell_type": "code",
   "execution_count": 2,
   "metadata": {},
   "outputs": [],
   "source": [
    "dates = ['3/2/20', '3/3/20', '3/4/20', '3/5/20', '3/6/20', '3/7/20', '3/8/20', '3/9/20', '3/10/20', '3/11/20', '3/12/20', '3/13/20', '3/14/20', '3/15/20', '3/16/20', '3/17/20', '3/18/20', '3/19/20', '3/20/20', '3/21/20',\n",
    "        '3/22/20', '3/23/20', '3/24/20', '3/25/20', '3/26/20', '3/27/20', '3/28/20', '3/29/20', '3/30/20', '3/31/20', '4/1/20', '4/2/20', '4/3/20', '4/4/20', '4/5/20', '4/6/20', '4/7/20', '4/8/20', '4/9/20', '4/10/20', '4/11/20',\n",
    "        '4/12/20', '4/13/20', '4/14/20', '4/15/20', '4/16/20', '4/17/20', '4/18/20', '4/19/20', '4/20/20', '4/21/20', '4/22/20', '4/23/20', '4/24/20', '4/25/20', '4/26/20', '4/27/20', '4/28/20', '4/29/20', '4/30/20', '5/1/20', \n",
    "        '5/2/20', '5/3/20', '5/4/20', '5/5/20', '5/6/20', '5/7/20', '5/8/20', '5/9/20', '5/10/20', '5/11/20', '5/12/20', '5/13/20', '5/14/20', '5/15/20', '5/16/20', '5/17/20', '5/18/20', '5/19/20', '5/20/20', '5/21/20',\n",
    "        '5/22/20', '5/23/20', '5/24/20', '5/25/20', '5/26/20', '5/27/20', '5/28/20', '5/29/20', '5/30/20', '5/31/20', '6/1/20', '6/2/20', '6/3/20', '6/4/20', '6/5/20', '6/6/20', '6/7/20', '6/8/20', '6/9/20', '6/10/20', '6/11/20',\n",
    "        '6/12/20', '6/13/20', '6/14/20', '6/15/20', '6/16/20', '6/17/20', '6/18/20', '6/19/20', '6/20/20', '6/21/20', '6/22/20', '6/23/20', '6/24/20', '6/25/20', '6/26/20', '6/27/20', '6/28/20', '6/29/20', '6/30/20', '7/1/20', \n",
    "        '7/2/20', '7/3/20', '7/4/20', '7/5/20', '7/6/20', '7/7/20', '7/8/20', '7/9/20', '7/10/20', '7/11/20', '7/12/20', '7/13/20', '7/14/20', '7/15/20']\n",
    "\n",
    "# Scrape CSV file from JHU Github\n",
    "\n",
    "# Cases\n",
    "url = \"https://raw.githubusercontent.com/CSSEGISandData/COVID-19/master/csse_covid_19_data/csse_covid_19_time_series/time_series_covid19_confirmed_US.csv\"\n",
    "df = pd.read_csv(url, index_col=0)\n",
    "\n",
    "us_temp = df.loc[(df['Country_Region'] == 'US')]\n",
    "\n",
    "# Deaths\n",
    "url2 = \"https://raw.githubusercontent.com/CSSEGISandData/COVID-19/master/csse_covid_19_data/csse_covid_19_time_series/time_series_covid19_deaths_US.csv\"\n",
    "dfDeaths = pd.read_csv(url2, index_col=0)\n",
    "\n",
    "us_tempDeaths = dfDeaths.loc[(dfDeaths['Country_Region'] == 'US')]\n",
    "\n",
    "# Recovered\n",
    "url3 = \"https://raw.githubusercontent.com/CSSEGISandData/COVID-19/master/csse_covid_19_data/csse_covid_19_time_series/time_series_covid19_recovered_global.csv\"\n",
    "dfRec = pd.read_csv(url3, index_col=0)\n",
    "us_tempRec = dfRec.loc[(dfRec['Country/Region'] == 'US')]"
   ]
  },
  {
   "cell_type": "code",
   "execution_count": 3,
   "metadata": {},
   "outputs": [],
   "source": [
    "# Fill US array up with daily corona cases\n",
    "\n",
    "popUS = 326690000\n",
    "\n",
    "# United States\n",
    "usa = []\n",
    "k=0\n",
    "tempI = 0\n",
    "tempD = 0\n",
    "tempR = 0\n",
    "for i in dates:\n",
    "    usaI = sum(us_temp[i]) - tempI\n",
    "    usaD = sum(us_tempDeaths[i])\n",
    "    usaR = sum(us_tempRec[i])\n",
    "    tempusaR = sum(us_tempRec[i])\n",
    "    tempusaI = sum(us_temp[i])\n",
    "    tempusaD = sum(us_tempDeaths[i])\n",
    "    usaS = popUS - tempusaR - tempusaI - tempusaD\n",
    "    insert = [usaS, usaI, (tempusaD+tempusaR)]\n",
    "    usa.append(insert)\n",
    "    tempI = tempusaI\n",
    "    tempD = tempusaD\n",
    "    tempR = tempusaR\n",
    "    k += 1    "
   ]
  },
  {
   "cell_type": "markdown",
   "metadata": {},
   "source": [
    "# SIR Model"
   ]
  },
  {
   "cell_type": "code",
   "execution_count": 4,
   "metadata": {},
   "outputs": [],
   "source": [
    "# beta is infection rate\n",
    "# gamma is recovery/mortality rate\n",
    "\n",
    "def SIR(y, t, beta, gamma):\n",
    "    S, I, R = y\n",
    "    N = S+I+R\n",
    "    # Ordinary differential equations\n",
    "    dS = (-beta * S * I) / N\n",
    "    dI = ((beta * S * I) / N) - (gamma * I)\n",
    "    dR = gamma * I\n",
    "    return(dS, dI, dR)"
   ]
  },
  {
   "cell_type": "markdown",
   "metadata": {},
   "source": [
    "# Parameter Fitting with Least-Squares"
   ]
  },
  {
   "cell_type": "code",
   "execution_count": 5,
   "metadata": {},
   "outputs": [
    {
     "data": {
      "image/png": "[encoded data removed]",
      "text/plain": [
       "<Figure size 432x288 with 1 Axes>"
      ]
     },
     "metadata": {},
     "output_type": "display_data"
    }
   ],
   "source": [
    "# Run SIR for US\n",
    "N = popUS\n",
    "I0 = 100\n",
    "R0 = 0\n",
    "S0 = N - I0 - R0\n",
    "\n",
    "days = 130\n",
    "gamma = 0.1\n",
    "beta= 0.5\n",
    "\n",
    "# Init parameters for optimization\n",
    "params = Parameters()\n",
    "params.add('beta', value=beta, min=0, max=5)\n",
    "params.add('gamma', value=gamma, min=0, max=5)\n",
    "\n",
    "t = np.linspace(0, days, days)\n",
    "y0 = S0, I0, R0\n",
    "\n",
    "# Integrate equations over t\n",
    "def ode_sol(t, init, params):\n",
    "    beta, gamma = params['beta'].value, params['gamma'].value\n",
    "    out = odeint(SIR, init, t, args=(beta, gamma))\n",
    "    return out\n",
    "\n",
    "res = ode_sol(t, y0, params)\n",
    "S, I, R = res.T\n",
    "\n",
    "# Plot data on curves\n",
    "fig = plt.figure(facecolor='w')\n",
    "ax = fig.add_subplot(111, facecolor='#dddddd', axisbelow=True)\n",
    "ax.plot(t, S/1000000, 'b', alpha=0.5, lw=2, label='Susceptible')\n",
    "ax.plot(t, I/1000000, 'r', alpha=0.5, lw=2, label='Infected')\n",
    "ax.plot(t, R/1000000, 'g', alpha=0.5, lw=2, label='Recovered with immunity')\n",
    "ax.set_xlabel('Time (days)')\n",
    "ax.set_ylabel('Number (millions)')\n",
    "ax.set_ylim(0,400)\n",
    "ax.yaxis.set_tick_params(length=0)\n",
    "ax.xaxis.set_tick_params(length=0)\n",
    "ax.grid(b=True, which='major', c='w', lw=2, ls='-')\n",
    "legend = ax.legend()\n",
    "legend.get_frame().set_alpha(0.5)\n",
    "for spine in ('top', 'right', 'bottom', 'left'):\n",
    "    ax.spines[spine].set_visible(False)\n",
    "plt.show()"
   ]
  },
  {
   "cell_type": "code",
   "execution_count": 6,
   "metadata": {},
   "outputs": [
    {
     "data": {
      "text/html": [
       "<table><tr><th> name </th><th> value </th><th> initial value </th><th> min </th><th> max </th><th> vary </th></tr><tr><td> beta </td><td>  0.50000000 </td><td> 0.5 </td><td>  0.00000000 </td><td>  5.00000000 </td><td> True </td></tr><tr><td> gamma </td><td>  0.10000000 </td><td> 0.1 </td><td>  0.00000000 </td><td>  5.00000000 </td><td> True </td></tr></table>"
      ],
      "text/plain": [
       "Parameters([('beta', <Parameter 'beta', value=0.5, bounds=[0:5]>),\n",
       "            ('gamma', <Parameter 'gamma', value=0.1, bounds=[0:5]>)])"
      ]
     },
     "execution_count": 6,
     "metadata": {},
     "output_type": "execute_result"
    }
   ],
   "source": [
    "def error(param, init, tspan, data):\n",
    "    sol = ode_sol(tspan, init, param)\n",
    "\n",
    "    return (sol[:, 0:3] - data).ravel()\n",
    "\n",
    "params"
   ]
  },
  {
   "cell_type": "code",
   "execution_count": 7,
   "metadata": {},
   "outputs": [],
   "source": [
    "# Fit model to United States\n",
    "\n",
    "I0 = 100\n",
    "R0 = 0\n",
    "N0 = popUS\n",
    "days = 91\n",
    "S0 = N0 - I0 - R0\n",
    "tspan = np.arange(0, days, 1)\n",
    "\n",
    "data =  usa[0:days]\n",
    "\n",
    "init = [S0, I0, R0]\n",
    "\n",
    "# Fit the model\n",
    "result = minimize(error, params, args=(init, tspan, data), method='leastsq')"
   ]
  },
  {
   "cell_type": "code",
   "execution_count": 8,
   "metadata": {},
   "outputs": [
    {
     "data": {
      "text/html": [
       "<table><tr><th> name </th><th> value </th><th> standard error </th><th> relative error </th><th> initial value </th><th> min </th><th> max </th><th> vary </th></tr><tr><td> beta </td><td>  2.85828791 </td><td>  0.06379108 </td><td> (2.23%) </td><td> 0.5 </td><td>  0.00000000 </td><td>  5.00000000 </td><td> True </td></tr><tr><td> gamma </td><td>  2.78723503 </td><td>  0.06725630 </td><td> (2.41%) </td><td> 0.1 </td><td>  0.00000000 </td><td>  5.00000000 </td><td> True </td></tr></table>"
      ],
      "text/plain": [
       "Parameters([('beta',\n",
       "             <Parameter 'beta', value=2.858287908343438 +/- 0.0638, bounds=[0:5]>),\n",
       "            ('gamma',\n",
       "             <Parameter 'gamma', value=2.787235027816675 +/- 0.0673, bounds=[0:5]>)])"
      ]
     },
     "execution_count": 8,
     "metadata": {},
     "output_type": "execute_result"
    }
   ],
   "source": [
    "# Check fitted parameters\n",
    "result.params"
   ]
  },
  {
   "cell_type": "code",
   "execution_count": 9,
   "metadata": {},
   "outputs": [
    {
     "name": "stdout",
     "output_type": "stream",
     "text": [
      "[[Fit Statistics]]\n",
      "    # fitting method   = leastsq\n",
      "    # function evals   = 120\n",
      "    # data points      = 273\n",
      "    # variables        = 2\n",
      "    chi-square         = 5.6262e+13\n",
      "    reduced chi-square = 2.0761e+11\n",
      "    Akaike info crit   = 7116.07857\n",
      "    Bayesian info crit = 7123.29752\n",
      "[[Variables]]\n",
      "    beta:   2.85828791 +/- 0.06379108 (2.23%) (init = 0.5)\n",
      "    gamma:  2.78723503 +/- 0.06725630 (2.41%) (init = 0.1)\n",
      "[[Correlations]] (unreported correlations are < 0.100)\n",
      "    C(beta, gamma) =  1.000\n"
     ]
    }
   ],
   "source": [
    "report_fit(result)"
   ]
  },
  {
   "cell_type": "code",
   "execution_count": 10,
   "metadata": {},
   "outputs": [
    {
     "data": {
      "image/png": "[encoded data removed]",
      "text/plain": [
       "<Figure size 432x288 with 1 Axes>"
      ]
     },
     "metadata": {},
     "output_type": "display_data"
    }
   ],
   "source": [
    "# Plot daily cases for United States\n",
    "printUSS = [0]*len(dates)\n",
    "printUSI = [0]*len(dates)\n",
    "printUSR = [0]*len(dates)\n",
    "k=0\n",
    "\n",
    "for i in usa:\n",
    "    printUSS[k] = i[0]/1000000\n",
    "    printUSI[k] = i[1]/1000\n",
    "    printUSR[k] = i[2]/1000\n",
    "    k+=1\n",
    "\n",
    "t = np.linspace(0, len(dates), len(dates))\n",
    "fig = plt.figure(facecolor='w')\n",
    "ax = fig.add_subplot(111, facecolor='#dddddd', axisbelow=True)\n",
    "ax.plot(t, printUSS, 'b', alpha=0.5, lw=2, label='Cumulative Susceptible')\n",
    "ax.plot(t, printUSI, 'r', alpha=0.5, lw=2, label='Daily Infected')\n",
    "ax.plot(t, printUSR, 'g', alpha=0.5, lw=2, label='Cumulative Recovered')\n",
    "ax.set_xlabel('Time (days)')\n",
    "ax.set_ylabel('Number (thousands for I, R, millions for S)')\n",
    "ax.set_ylim(0,100)\n",
    "ax.yaxis.set_tick_params(length=0)\n",
    "ax.xaxis.set_tick_params(length=0)\n",
    "ax.grid(b=True, which='major', c='w', lw=2, ls='-')\n",
    "legend = ax.legend()\n",
    "legend.get_frame().set_alpha(0.5)\n",
    "for spine in ('top', 'right', 'bottom', 'left'):\n",
    "    ax.spines[spine].set_visible(False)\n",
    "plt.show()"
   ]
  },
  {
   "cell_type": "code",
   "execution_count": 11,
   "metadata": {},
   "outputs": [
    {
     "data": {
      "image/png": "[encoded data removed]",
      "text/plain": [
       "<Figure size 432x288 with 1 Axes>"
      ]
     },
     "metadata": {},
     "output_type": "display_data"
    }
   ],
   "source": [
    "# Plot SIR model using fitted parameters for US\n",
    "I0 = 100\n",
    "R0 = 0\n",
    "N0 = popUS\n",
    "S0 = N0 - I0 - R0\n",
    "days = 136\n",
    "t = np.linspace(0, days, days)\n",
    "y0 = S0, I0, R0\n",
    "res = ode_sol(t, y0, result.params)\n",
    "S, I, R = res.T\n",
    "\n",
    "# Plot data on curves\n",
    "fig = plt.figure(facecolor='w')\n",
    "ax = fig.add_subplot(111, facecolor='#dddddd', axisbelow=True)\n",
    "ax.plot(t, S/1000000, 'b', alpha=0.5, lw=2, label='Susceptible')\n",
    "ax.plot(t, I/1000, 'r', alpha=0.5, lw=2, label='Infected')\n",
    "ax.plot(t, R/1000, 'g', alpha=0.5, lw=2, label='Recovered')\n",
    "ax.plot(t, printUSS, 'p', alpha=0.5, lw=2, label='Recorded Susceptible')\n",
    "ax.plot(t, printUSI, 'p', alpha=0.5, lw=2, label='Recorded Infected (Daily Cases)')\n",
    "ax.plot(t, printUSR, 'p', alpha=0.5, lw=2, label='Recorded Recoveries')\n",
    "ax.axvline(x=91, ymin=0, ymax=500, label=\"Prediction Start\")\n",
    "ax.set_xlabel('Time (days)')\n",
    "ax.set_ylabel('Number (millions for S, thousands for I, R)')\n",
    "ax.set_ylim(0,400)\n",
    "ax.yaxis.set_tick_params(length=0)\n",
    "ax.xaxis.set_tick_params(length=0)\n",
    "ax.grid(b=True, which='major', c='w', lw=2, ls='-')\n",
    "legend = ax.legend()\n",
    "legend.get_frame().set_alpha(0.5)\n",
    "for spine in ('top', 'right', 'bottom', 'left'):\n",
    "    ax.spines[spine].set_visible(False)\n",
    "plt.show()"
   ]
  },
  {
   "cell_type": "code",
   "execution_count": 12,
   "metadata": {},
   "outputs": [
    {
     "name": "stdout",
     "output_type": "stream",
     "text": [
      "2487.821355117364\n",
      "2487.821355117364\n"
     ]
    }
   ],
   "source": [
    "from sklearn.metrics import mean_squared_error\n",
    "\n",
    "# Use two methods for calculating MSE for sanity check\n",
    "\n",
    "print(mean_squared_error(printUSI[91:136],I[91:136]/1000))\n",
    "\n",
    "MSE = np.square(np.subtract(printUSI[91:136],I[91:136]/1000)).mean()\n",
    "\n",
    "print(MSE)"
   ]
  },
  {
   "cell_type": "markdown",
   "metadata": {},
   "source": [
    "# Generate CSVs of Predictions"
   ]
  },
  {
   "cell_type": "code",
   "execution_count": 29,
   "metadata": {},
   "outputs": [],
   "source": [
    "# Fit model to United States with different prediction start dates\n",
    "\n",
    "I0 = 100\n",
    "R0 = 0\n",
    "N0 = popUS\n",
    "S0 = N0 - I0 - R0\n",
    "init = [S0, I0, R0]\n",
    "\n",
    "# Init empty predictions dictionary\n",
    "predictions = {}\n",
    "\n",
    "for i in range(91, len(dates)):\n",
    "    days = i\n",
    "    tspan = np.arange(0, days, 1)\n",
    "    data =  usa[0:days]\n",
    "\n",
    "    # Fit the model\n",
    "    result = minimize(error, params, args=(init, tspan, data), method='leastsq')\n",
    "    \n",
    "    days = i + 7\n",
    "    t = np.linspace(0, days, days)\n",
    "    y0 = S0, I0, R0\n",
    "    res = ode_sol(t, y0, result.params)\n",
    "    S, I, R = res.T\n",
    "    \n",
    "    # Add these prediction infected values into dictionary\n",
    "    predictions[dates[i]] = I[(days-7):days]"
   ]
  },
  {
   "cell_type": "code",
   "execution_count": 14,
   "metadata": {},
   "outputs": [],
   "source": [
    "from datetime import datetime\n",
    "\n",
    "# Put all the data into the desired format\n",
    "quant = []\n",
    "loca = []\n",
    "targ = []\n",
    "forc = []\n",
    "poin = []\n",
    "end_date = []\n",
    "keys = []\n",
    "\n",
    "for key, value in predictions.items():\n",
    "    keys.append(key)\n",
    "\n",
    "forc_keys = keys + [\"7/16/20\", \"7/17/20\", \"7/18/20\", \"7/19/20\", \"7/20/20\", \"7/21/20\", \"7/22/20\", \"7/23/20\"]\n",
    "    \n",
    "# Loop through and situate everything correctly\n",
    "j = 0\n",
    "for i in range(len(keys)):\n",
    "    x = datetime.strptime(keys[i], '%m/%d/%y')\n",
    "    forc_date = x.strftime('%Y-%m-%d')\n",
    "    point_date = keys[i]\n",
    "    for k in range(7):\n",
    "        quant.append(\"NA\")\n",
    "        loca.append(\"US\")\n",
    "        targ.append(\"1 wk ahead inc case\")\n",
    "        forc.append(forc_date)\n",
    "        # Make sure point predictions are end dates are iterated\n",
    "        poin.append(predictions[point_date][k])\n",
    "        y = datetime.strptime(forc_keys[j+k], '%m/%d/%y')\n",
    "        end_date.append(y.strftime('%Y-%m-%d'))\n",
    "    j = j + 1\n",
    "        \n",
    "# Instantiate the output CSV dictionary\n",
    "output_csv = {\"location\" : loca, \n",
    "              \"target\" : targ,\n",
    "             \"target_end_date\" : end_date,\n",
    "             \"forecast_date\" : forc,\n",
    "             \"point\" : poin,\n",
    "             \"quantile\" : quant}\n",
    "\n",
    "# convert to pandas dataframe for easy transfer to CSV\n",
    "out = pd.DataFrame(output_csv)"
   ]
  },
  {
   "cell_type": "code",
   "execution_count": 30,
   "metadata": {},
   "outputs": [],
   "source": [
    "# Iterate through and create separate CSV files for each forecast date\n",
    "# Also reformat dates to correct format\n",
    "for i in dates[91:len(dates)]:\n",
    "    z = datetime.strptime(i, '%m/%d/%y')\n",
    "    z_date = z.strftime('%Y-%m-%d')\n",
    "    to_file = out[out[\"forecast_date\"] == z_date]\n",
    "    to_file.to_csv(f'{z_date}-Basic-SIR.csv', index=False) "
   ]
  },
  {
   "cell_type": "code",
   "execution_count": 28,
   "metadata": {},
   "outputs": [
    {
     "data": {
      "text/html": [
       "<div>\n",
       "<style scoped>\n",
       "    .dataframe tbody tr th:only-of-type {\n",
       "        vertical-align: middle;\n",
       "    }\n",
       "\n",
       "    .dataframe tbody tr th {\n",
       "        vertical-align: top;\n",
       "    }\n",
       "\n",
       "    .dataframe thead th {\n",
       "        text-align: right;\n",
       "    }\n",
       "</style>\n",
       "<table border=\"1\" class=\"dataframe\">\n",
       "  <thead>\n",
       "    <tr style=\"text-align: right;\">\n",
       "      <th></th>\n",
       "      <th>location</th>\n",
       "      <th>target</th>\n",
       "      <th>target_end_date</th>\n",
       "      <th>forecast_date</th>\n",
       "      <th>point</th>\n",
       "      <th>quantile</th>\n",
       "    </tr>\n",
       "  </thead>\n",
       "  <tbody>\n",
       "    <tr>\n",
       "      <th>133</th>\n",
       "      <td>US</td>\n",
       "      <td>1 wk ahead inc case</td>\n",
       "      <td>2020-06-20</td>\n",
       "      <td>2020-06-20</td>\n",
       "      <td>65865.127227</td>\n",
       "      <td>NA</td>\n",
       "    </tr>\n",
       "    <tr>\n",
       "      <th>134</th>\n",
       "      <td>US</td>\n",
       "      <td>1 wk ahead inc case</td>\n",
       "      <td>2020-06-21</td>\n",
       "      <td>2020-06-20</td>\n",
       "      <td>68520.303023</td>\n",
       "      <td>NA</td>\n",
       "    </tr>\n",
       "    <tr>\n",
       "      <th>135</th>\n",
       "      <td>US</td>\n",
       "      <td>1 wk ahead inc case</td>\n",
       "      <td>2020-06-22</td>\n",
       "      <td>2020-06-20</td>\n",
       "      <td>71197.329140</td>\n",
       "      <td>NA</td>\n",
       "    </tr>\n",
       "    <tr>\n",
       "      <th>136</th>\n",
       "      <td>US</td>\n",
       "      <td>1 wk ahead inc case</td>\n",
       "      <td>2020-06-23</td>\n",
       "      <td>2020-06-20</td>\n",
       "      <td>73887.132111</td>\n",
       "      <td>NA</td>\n",
       "    </tr>\n",
       "    <tr>\n",
       "      <th>137</th>\n",
       "      <td>US</td>\n",
       "      <td>1 wk ahead inc case</td>\n",
       "      <td>2020-06-24</td>\n",
       "      <td>2020-06-20</td>\n",
       "      <td>76579.853064</td>\n",
       "      <td>NA</td>\n",
       "    </tr>\n",
       "    <tr>\n",
       "      <th>138</th>\n",
       "      <td>US</td>\n",
       "      <td>1 wk ahead inc case</td>\n",
       "      <td>2020-06-25</td>\n",
       "      <td>2020-06-20</td>\n",
       "      <td>79264.878531</td>\n",
       "      <td>NA</td>\n",
       "    </tr>\n",
       "    <tr>\n",
       "      <th>139</th>\n",
       "      <td>US</td>\n",
       "      <td>1 wk ahead inc case</td>\n",
       "      <td>2020-06-26</td>\n",
       "      <td>2020-06-20</td>\n",
       "      <td>81930.886381</td>\n",
       "      <td>NA</td>\n",
       "    </tr>\n",
       "  </tbody>\n",
       "</table>\n",
       "</div>"
      ],
      "text/plain": [
       "    location               target target_end_date forecast_date         point  \\\n",
       "133       US  1 wk ahead inc case      2020-06-20    2020-06-20  65865.127227   \n",
       "134       US  1 wk ahead inc case      2020-06-21    2020-06-20  68520.303023   \n",
       "135       US  1 wk ahead inc case      2020-06-22    2020-06-20  71197.329140   \n",
       "136       US  1 wk ahead inc case      2020-06-23    2020-06-20  73887.132111   \n",
       "137       US  1 wk ahead inc case      2020-06-24    2020-06-20  76579.853064   \n",
       "138       US  1 wk ahead inc case      2020-06-25    2020-06-20  79264.878531   \n",
       "139       US  1 wk ahead inc case      2020-06-26    2020-06-20  81930.886381   \n",
       "\n",
       "    quantile  \n",
       "133       NA  \n",
       "134       NA  \n",
       "135       NA  \n",
       "136       NA  \n",
       "137       NA  \n",
       "138       NA  \n",
       "139       NA  "
      ]
     },
     "execution_count": 28,
     "metadata": {},
     "output_type": "execute_result"
    }
   ],
   "source": [
    "# Example of one of the CSV files\n",
    "out[out[\"forecast_date\"] == \"2020-06-20\"]"
   ]
  }
 ],
 "metadata": {
  "kernelspec": {
   "display_name": "Python 3",
   "language": "python",
   "name": "python3"
  },
  "language_info": {
   "codemirror_mode": {
    "name": "ipython",
    "version": 3
   },
   "file_extension": ".py",
   "mimetype": "text/x-python",
   "name": "python",
   "nbconvert_exporter": "python",
   "pygments_lexer": "ipython3",
   "version": "3.7.3"
  }
 },
 "nbformat": 4,
 "nbformat_minor": 4
}
