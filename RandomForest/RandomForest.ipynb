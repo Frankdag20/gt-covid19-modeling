{
 "cells": [
  {
   "cell_type": "code",
   "execution_count": 80,
   "metadata": {},
   "outputs": [
    {
     "name": "stdout",
     "output_type": "stream",
     "text": [
      "C:\\Users\\frank\\GTREU\\RandomForest\n"
     ]
    }
   ],
   "source": [
    "import numpy as np\n",
    "import pickle\n",
    "import pandas as pd\n",
    "import matplotlib.pyplot as plt\n",
    "import os\n",
    "import math\n",
    "from scipy.integrate import odeint\n",
    "from scipy.optimize import minimize\n",
    "import scipy.stats as st\n",
    "from scipy import integrate\n",
    "from lmfit import minimize, Parameters, Parameter, report_fit\n",
    "from statsmodels.base.model import GenericLikelihoodModel\n",
    "from scipy import stats\n",
    "import seaborn as sns\n",
    "\n",
    "pathName = os.getcwd()\n",
    "print(pathName)"
   ]
  },
  {
   "cell_type": "markdown",
   "metadata": {},
   "source": [
    "# Gather and Clean Data"
   ]
  },
  {
   "cell_type": "code",
   "execution_count": 81,
   "metadata": {},
   "outputs": [],
   "source": [
    "dates = ['3/2/20', '3/3/20', '3/4/20', '3/5/20', '3/6/20','3/7/20', '3/8/20', '3/9/20', '3/10/20', '3/11/20','3/12/20', '3/13/20', '3/14/20', '3/15/20', '3/16/20','3/17/20', '3/18/20', '3/19/20', '3/20/20', '3/21/20','3/22/20', '3/23/20', '3/24/20', '3/25/20', '3/26/20','3/27/20', '3/28/20', '3/29/20', '3/30/20', '3/31/20','4/1/20', '4/2/20', '4/3/20', '4/4/20', '4/5/20', '4/6/20',\n",
    "        '4/7/20', '4/8/20', '4/9/20', '4/10/20', '4/11/20','4/12/20', '4/13/20', '4/14/20', '4/15/20', '4/16/20','4/17/20', '4/18/20', '4/19/20', '4/20/20', '4/21/20','4/22/20', '4/23/20', '4/24/20', '4/25/20', '4/26/20','4/27/20', '4/28/20', '4/29/20', '4/30/20', '5/1/20', '5/2/20', '5/3/20', '5/4/20', '5/5/20', '5/6/20','5/7/20', '5/8/20', '5/9/20', '5/10/20', '5/11/20','5/12/20', '5/13/20', '5/14/20', '5/15/20', '5/16/20','5/17/20', '5/18/20', '5/19/20', '5/20/20', '5/21/20',\n",
    "        '5/22/20', '5/23/20', '5/24/20', '5/25/20', '5/26/20','5/27/20', '5/28/20', '5/29/20', '5/30/20', '5/31/20', '6/1/20', '6/2/20', '6/3/20', '6/4/20', '6/5/20', '6/6/20','6/7/20', '6/8/20', '6/9/20', '6/10/20', '6/11/20','6/12/20', '6/13/20', '6/14/20', '6/15/20', '6/16/20','6/17/20', '6/18/20', '6/19/20', '6/20/20', '6/21/20','6/22/20', '6/23/20', '6/24/20', '6/25/20', '6/26/20','6/27/20', '6/28/20', '6/29/20', '6/30/20', '7/1/20', \n",
    "         '7/2/20', '7/3/20', '7/4/20', '7/5/20', '7/6/20','7/7/20', '7/8/20', '7/9/20', '7/10/20', '7/11/20','7/12/20', '7/13/20', '7/14/20', '7/15/20']\n",
    "          \n",
    "dates2 = ['2020-03-02', '2020-03-03', '2020-03-04', '2020-03-05', '2020-03-06','2020-03-07', '2020-03-08', '2020-03-09', '2020-03-10', '2020-03-11','2020-03-12', '2020-03-13','2020-03-14', '2020-03-15', '2020-03-16', '2020-03-17','2020-03-18', '2020-03-19', '2020-03-20', '2020-03-21', '2020-03-22','2020-03-23', '2020-03-24', '2020-03-25', '2020-03-26', '2020-03-27',\n",
    "         '2020-03-28', '2020-03-29', '2020-03-30', '2020-03-31', '2020-04-01','2020-04-02', '2020-04-03', '2020-04-04', '2020-04-05', '2020-04-06','2020-04-07', '2020-04-08', '2020-04-09', '2020-04-10', '2020-04-11','2020-04-12', '2020-04-13','2020-04-14', '2020-04-15', '2020-04-16', '2020-04-17','2020-04-18', '2020-04-19', '2020-04-20', '2020-04-21', '2020-04-22','2020-04-23', '2020-04-24', '2020-04-25', '2020-04-26', '2020-04-27',\n",
    "         '2020-04-28', '2020-04-29', '2020-04-30', '2020-05-01', '2020-05-02', '2020-05-03', '2020-05-04', '2020-05-05', '2020-05-06','2020-05-07', '2020-05-08', '2020-05-09', '2020-05-10', '2020-05-11','2020-05-12', '2020-05-13','2020-05-14', '2020-05-15', '2020-05-16', '2020-05-17','2020-05-18', '2020-05-19', '2020-05-20', '2020-05-21', '2020-05-22','2020-05-23', '2020-05-24', '2020-05-25', '2020-05-26', '2020-05-27',\n",
    "         '2020-05-28', '2020-05-29', '2020-05-30', '2020-05-31', '2020-06-01','2020-06-02', '2020-06-03', '2020-06-04', '2020-06-05', '2020-06-06','2020-06-07', '2020-06-08', '2020-06-09', '2020-06-10', '2020-06-11','2020-06-12', '2020-06-13','2020-06-14', '2020-06-15', '2020-06-16', '2020-06-17','2020-06-18', '2020-06-19', '2020-06-20', '2020-06-21', '2020-06-22','2020-06-23', '2020-06-24', '2020-06-25', '2020-06-26', '2020-06-27','2020-06-28', '2020-06-29', '2020-06-30', '2020-07-01','2020-07-02', '2020-07-03', '2020-07-04', '2020-07-05', '2020-07-06','2020-07-07', '2020-07-08', '2020-07-09', '2020-07-10', '2020-07-11','2020-07-12', '2020-07-13','2020-07-14', '2020-07-15']\n",
    "    \n",
    "dates3 = ['3/2/2020', '3/3/2020', '3/4/2020', '3/5/2020', '3/6/2020','3/7/2020', '3/8/2020', '3/9/2020', '3/10/2020', '3/11/2020','3/12/2020', '3/13/2020', '3/14/2020', '3/15/2020', '3/16/2020','3/17/2020', '3/18/2020', '3/19/2020', '3/20/2020', '3/21/2020','3/22/2020', '3/23/2020', '3/24/2020', '3/25/2020', '3/26/2020','3/27/2020', '3/28/2020', '3/29/2020', '3/30/2020', '3/31/2020',\n",
    "        '4/1/2020', '4/2/2020', '4/3/2020', '4/4/2020', '4/5/2020', '4/6/2020','4/7/2020', '4/8/2020', '4/9/2020', '4/10/2020', '4/11/2020','4/12/2020', '4/13/2020', '4/14/2020', '4/15/2020', '4/16/2020','4/17/2020', '4/18/2020', '4/19/2020', '4/20/2020', '4/21/2020','4/22/2020', '4/23/2020', '4/24/2020', '4/25/2020', '4/26/2020','4/27/2020', '4/28/2020', '4/29/2020', '4/30/2020', '5/1/2020', \n",
    "        '5/2/2020', '5/3/2020', '5/4/2020', '5/5/2020', '5/6/2020','5/7/2020', '5/8/2020', '5/9/2020', '5/10/2020', '5/11/2020','5/12/2020', '5/13/2020', '5/14/2020', '5/15/2020', '5/16/2020','5/17/2020', '5/18/2020', '5/19/2020', '5/20/2020', '5/21/2020','5/22/2020', '5/23/2020', '5/24/2020', '5/25/2020', '5/26/2020','5/27/2020', '5/28/2020', '5/29/2020', '5/30/2020', '5/31/2020', \n",
    "        '6/1/2020', '6/2/2020', '6/3/2020', '6/4/2020', '6/5/2020', '6/6/2020','6/7/2020', '6/8/2020', '6/9/2020', '6/10/2020', '6/11/2020','6/12/2020', '6/13/2020', '6/14/2020', '6/15/2020', '6/16/2020','6/17/2020', '6/18/2020', '6/19/2020', '6/20/2020', '6/21/2020','6/22/2020', '6/23/2020', '6/24/2020', '6/25/2020', '6/26/2020','6/27/2020', '6/28/2020', '6/29/2020', '6/30/2020', '7/1/2020', \n",
    "        '7/2/2020', '7/3/2020', '7/4/2020', '7/5/2020', '7/6/2020','7/7/2020', '7/8/2020', '7/9/2020', '7/10/2020', '7/11/2020','7/12/2020', '7/13/2020', '7/14/2020', '7/15/2020']\n",
    "\n",
    "# Scrape CSV file from JHU Github\n",
    "\n",
    "# Cases\n",
    "url = \"https://raw.githubusercontent.com/CSSEGISandData/COVID-19/master/csse_covid_19_data/csse_covid_19_time_series/time_series_covid19_confirmed_US.csv\"\n",
    "df = pd.read_csv(url, index_col=0)\n",
    "\n",
    "ny_temp = df.loc[(df['Province_State'] == 'New York')]\n",
    "wash_temp = df.loc[(df['Province_State'] == 'Washington')]\n",
    "cali_temp = df.loc[(df['Province_State'] == 'California')]\n",
    "nj_temp = df.loc[(df['Province_State'] == 'New Jersey')]\n",
    "mass_temp = df.loc[(df['Province_State'] == 'Massachusetts')]\n",
    "\n",
    "us_temp = df.loc[(df['Country_Region'] == 'US')]\n",
    "\n",
    "# Deaths\n",
    "url2 = \"https://raw.githubusercontent.com/CSSEGISandData/COVID-19/master/csse_covid_19_data/csse_covid_19_time_series/time_series_covid19_deaths_US.csv\"\n",
    "dfDeaths = pd.read_csv(url2, index_col=0)\n",
    "\n",
    "ny_tempDeaths = dfDeaths.loc[(dfDeaths['Province_State'] == 'New York')]\n",
    "wash_tempDeaths = dfDeaths.loc[(dfDeaths['Province_State'] == 'Washington')]\n",
    "cali_tempDeaths = dfDeaths.loc[(dfDeaths['Province_State'] == 'California')]\n",
    "nj_tempDeaths = dfDeaths.loc[(dfDeaths['Province_State'] == 'New Jersey')]\n",
    "mass_tempDeaths = dfDeaths.loc[(dfDeaths['Province_State'] == 'Massachusetts')]\n",
    "\n",
    "us_tempDeaths = dfDeaths.loc[(dfDeaths['Country_Region'] == 'US')]\n",
    "\n",
    "# Recovered\n",
    "url3 = \"https://raw.githubusercontent.com/CSSEGISandData/COVID-19/master/csse_covid_19_data/csse_covid_19_time_series/time_series_covid19_recovered_global.csv\"\n",
    "dfRec = pd.read_csv(url3, index_col=0)\n",
    "us_tempRec = dfRec.loc[(dfRec['Country/Region'] == 'US')]"
   ]
  },
  {
   "cell_type": "markdown",
   "metadata": {},
   "source": [
    "### Oxford Policy Data"
   ]
  },
  {
   "cell_type": "code",
   "execution_count": 120,
   "metadata": {},
   "outputs": [
    {
     "name": "stdout",
     "output_type": "stream",
     "text": [
      "136\n"
     ]
    }
   ],
   "source": [
    "econ_index = pd.read_csv(\"OxCGRT_timeseries_index_economic.csv\")\n",
    "us_ec_index = econ_index.loc[(econ_index['CountryName'] == 'United States')]\n",
    "\n",
    "health_index = pd.read_csv(\"OxCGRT_timeseries_index_health.csv\")\n",
    "us_health_index = health_index.loc[(health_index['CountryName'] == 'United States')]\n",
    "\n",
    "gov_index = pd.read_csv(\"OxCGRT_timeseries_index_govresponse.csv\")\n",
    "us_gov_index = gov_index.loc[(gov_index['CountryName'] == 'United States')]\n",
    "\n",
    "string_index = pd.read_csv(\"OxCGRT_timeseries_index_stringency.csv\")\n",
    "us_string_index = string_index.loc[(string_index['CountryName'] == 'United States')]\n",
    "\n",
    "usEcon = []\n",
    "for i in dates3:\n",
    "    usEcon.append(us_ec_index[i].values[0])\n",
    "    \n",
    "usHealth = []\n",
    "for i in dates3:\n",
    "    usHealth.append(us_health_index[i].values[0])\n",
    "    \n",
    "usGov = []\n",
    "for i in dates3:\n",
    "    usGov.append(us_gov_index[i].values[0])\n",
    "\n",
    "usString = []\n",
    "for i in dates3:\n",
    "    usString.append(us_string_index[i].values[0])"
   ]
  },
  {
   "cell_type": "code",
   "execution_count": 83,
   "metadata": {},
   "outputs": [],
   "source": [
    "import glob\n",
    "\n",
    "# Create an array of all the dataframes\n",
    "policy = []\n",
    "\n",
    "# Iterate through all files that aren't index ones\n",
    "# and store each list in the policy list\n",
    "for filepath in glob.iglob(r'*.csv', recursive=True):\n",
    "    if 'OxCGRT_' in filepath and 'index' not in filepath:\n",
    "        x = pd.read_csv(filepath)\n",
    "        y = x.loc[(x['CountryName'] == 'United States')]\n",
    "        z = []\n",
    "        for i in dates3:\n",
    "            z.append(x[i].values[0])\n",
    "        policy.append(z)"
   ]
  },
  {
   "cell_type": "markdown",
   "metadata": {},
   "source": [
    "### Apple Mobility Data"
   ]
  },
  {
   "cell_type": "code",
   "execution_count": 112,
   "metadata": {},
   "outputs": [
    {
     "name": "stdout",
     "output_type": "stream",
     "text": [
      "136\n"
     ]
    }
   ],
   "source": [
    "mobility = pd.read_csv(\"applemobilitytrends-2020-07-27.csv\")\n",
    "us_mob = mobility.loc[(mobility['region'] == 'United States')]\n",
    "us_mob_transit = us_mob.loc[(us_mob['transportation_type'] == 'transit')]\n",
    "us_mob_drive = us_mob.loc[(us_mob['transportation_type'] == 'driving')]\n",
    "us_mob_walk = us_mob.loc[(us_mob['transportation_type'] == 'walking')]\n",
    "\n",
    "mobility_car_us = []\n",
    "for i in dates2:\n",
    "    mobility_car_us.append(us_mob_drive[i].values[0])\n",
    "\n",
    "mobility_walk_us = []\n",
    "for i in dates2:\n",
    "    mobility_walk_us.append(us_mob_walk[i].values[0])\n",
    "\n",
    "mobility_trans_us = []\n",
    "for i in dates2:\n",
    "    mobility_trans_us.append(us_mob_transit[i].values[0])"
   ]
  },
  {
   "cell_type": "markdown",
   "metadata": {},
   "source": [
    "### Aggregate Data"
   ]
  },
  {
   "cell_type": "code",
   "execution_count": 85,
   "metadata": {},
   "outputs": [],
   "source": [
    "# Fill US array up with daily corona cases\n",
    "\n",
    "popUS = 326690000\n",
    "\n",
    "# United States\n",
    "usa = []\n",
    "usDeaths = []\n",
    "usRec = []\n",
    "k=0\n",
    "tempI = 0\n",
    "tempD = 0\n",
    "tempR = 0\n",
    "for i in dates:\n",
    "    usaI = sum(us_temp[i]) - tempI\n",
    "    usaD = sum(us_tempDeaths[i]) - tempD\n",
    "    usaR = sum(us_tempRec[i]) - tempR\n",
    "    tempusaR = sum(us_tempRec[i])\n",
    "    tempusaI = sum(us_temp[i])\n",
    "    tempusaD = sum(us_tempDeaths[i])\n",
    "    usaS = popUS - tempusaR - tempusaI - tempusaD #nyI - nyD - nyR\n",
    "    insert = usaI\n",
    "    usDeaths.append(tempusaD)\n",
    "    usRec.append(tempusaR)\n",
    "    #insert = [usaS, usaI, tempusaR, tempusaD]#, nyI, nyD]\n",
    "    usa.append(insert)\n",
    "    tempI = tempusaI\n",
    "    tempD = tempusaD\n",
    "    tempR = tempusaR\n",
    "    k += 1    "
   ]
  },
  {
   "cell_type": "markdown",
   "metadata": {},
   "source": [
    "# Features"
   ]
  },
  {
   "cell_type": "code",
   "execution_count": 113,
   "metadata": {},
   "outputs": [],
   "source": [
    "# Labels are values we predict\n",
    "day = 136\n",
    "labels = np.array(usa[0:day])\n",
    "\n",
    "# We can now get feature list\n",
    "feature = pd.DataFrame()\n",
    "feature['econ'] = usEcon[0:day]\n",
    "#feature['health'] = usHealth[0:day]\n",
    "feature['gov'] = usGov[0:day]\n",
    "#feature['stringency'] = usString[0:day]\n",
    "x = np.nan_to_num(mobility_trans_us)\n",
    "feature['transit'] = x[0:day]\n",
    "y = np.nan_to_num(mobility_car_us)\n",
    "feature['car'] = y[0:day]\n",
    "z = np.nan_to_num(mobility_walk_us)\n",
    "feature['walk'] = z[0:day]\n",
    "feature['deaths'] = usDeaths[0:day]\n",
    "feature['recovery'] = usRec[0:day]\n",
    "feature['day'] = list(range(0,day,1))\n",
    "feature['contact'] = policy[0][0:day]\n",
    "feature['debtrelief'] = policy[1][0:day]\n",
    "feature['domtravel'] = policy[2][0:day]\n",
    "feature['incomesupp'] = policy[3][0:day]\n",
    "feature['inttravel'] = policy[4][0:day]\n",
    "feature['pubevents'] = policy[5][0:day]\n",
    "feature['pubgatherings'] = policy[6][0:day]\n",
    "feature['pubinfo'] = policy[7][0:day]\n",
    "feature['pubtransport'] = policy[8][0:day]\n",
    "feature['school'] = policy[9][0:day]\n",
    "feature['stayhome'] = policy[10][0:day]\n",
    "feature['testing'] = policy[11][0:day]\n",
    "feature['work'] = policy[12][0:day]\n",
    "\n",
    "# Save names\n",
    "feature_list = list(feature.columns)\n",
    "\n",
    "# Convert to np array\n",
    "features = np.array(feature)"
   ]
  },
  {
   "cell_type": "markdown",
   "metadata": {},
   "source": [
    "# Training and Test Sets"
   ]
  },
  {
   "cell_type": "code",
   "execution_count": 134,
   "metadata": {},
   "outputs": [
    {
     "name": "stdout",
     "output_type": "stream",
     "text": [
      "Training Features Shape: (121, 21)\n",
      "Training Labels Shape: (121,)\n",
      "Testing Features Shape: (15, 21)\n",
      "Testing Labels Shape: (15,)\n"
     ]
    }
   ],
   "source": [
    "# Use Skicit-learn to split data\n",
    "from sklearn.model_selection import train_test_split\n",
    "\n",
    "# Split the data\n",
    "end_pred = 121\n",
    "train_features = features[0:end_pred]\n",
    "test_features = features[end_pred:136]\n",
    "train_labels = labels[0:end_pred]\n",
    "test_labels = labels[end_pred:136]\n",
    "\n",
    "# Use train_test_split\n",
    "#train_features, test_features, train_labels, test_labels = train_test_split(features, labels, \n",
    "#                                                                            test_size = 0.25, random_state = 42)\n",
    "#end_pred = train_features.shape[0]\n",
    "\n",
    "print('Training Features Shape:', train_features.shape)\n",
    "print('Training Labels Shape:', train_labels.shape)\n",
    "print('Testing Features Shape:', test_features.shape)\n",
    "print('Testing Labels Shape:', test_labels.shape)"
   ]
  },
  {
   "cell_type": "markdown",
   "metadata": {},
   "source": [
    "# Train Model"
   ]
  },
  {
   "cell_type": "code",
   "execution_count": 135,
   "metadata": {},
   "outputs": [
    {
     "data": {
      "text/plain": [
       "RandomForestRegressor(n_estimators=1000, random_state=42)"
      ]
     },
     "execution_count": 135,
     "metadata": {},
     "output_type": "execute_result"
    }
   ],
   "source": [
    "# Import random forest model\n",
    "from sklearn.ensemble import RandomForestRegressor\n",
    "\n",
    "# Begin model \n",
    "rf = RandomForestRegressor(n_estimators= 1000, random_state=42)\n",
    "\n",
    "# Train model on training data\n",
    "rf.fit(train_features, train_labels)"
   ]
  },
  {
   "cell_type": "code",
   "execution_count": 136,
   "metadata": {},
   "outputs": [],
   "source": [
    "rf_new = RandomForestRegressor(n_estimators = 1000, criterion = 'mse', max_depth = None, \n",
    "                               min_samples_split = 2, min_samples_leaf = 1)"
   ]
  },
  {
   "cell_type": "markdown",
   "metadata": {},
   "source": [
    "# Predict"
   ]
  },
  {
   "cell_type": "code",
   "execution_count": 137,
   "metadata": {},
   "outputs": [
    {
     "name": "stdout",
     "output_type": "stream",
     "text": [
      "Mean Absolute Error: 14186.44 degrees.\n",
      "[43741.212 44158.496 44303.855 41525.396 41061.631 42508.824 43785.316\n",
      " 43789.291 43869.142 44364.826 44322.47  41285.868 43268.403 43862.759\n",
      " 43843.872]\n"
     ]
    }
   ],
   "source": [
    "# Use the forest's predict method on the test data\n",
    "predictions = rf.predict(test_features)\n",
    "predictions_fit = rf.predict(train_features)\n",
    "# Calculate the absolute errors\n",
    "errors = abs(predictions - test_labels)\n",
    "\n",
    "# Print out the mean absolute error (mae)\n",
    "print('Mean Absolute Error:', round(np.mean(errors), 2), 'degrees.')\n",
    "print(predictions)"
   ]
  },
  {
   "cell_type": "code",
   "execution_count": 138,
   "metadata": {},
   "outputs": [
    {
     "name": "stdout",
     "output_type": "stream",
     "text": [
      "Accuracy: 76.43 %.\n"
     ]
    }
   ],
   "source": [
    "# Calculate mean absolute percentage error (MAPE)\n",
    "mape = 100 * (errors / test_labels)\n",
    "\n",
    "# Calculate and display accuracy\n",
    "accuracy = 100 - np.mean(mape)\n",
    "print('Accuracy:', round(accuracy, 2), '%.')"
   ]
  },
  {
   "cell_type": "markdown",
   "metadata": {},
   "source": [
    "### Plot"
   ]
  },
  {
   "cell_type": "code",
   "execution_count": 139,
   "metadata": {},
   "outputs": [
    {
     "data": {
      "image/png": "[encoded data removed]",
      "text/plain": [
       "<Figure size 432x288 with 1 Axes>"
      ]
     },
     "metadata": {},
     "output_type": "display_data"
    }
   ],
   "source": [
    "days = 136\n",
    "t = np.linspace(0, days, days)\n",
    "\n",
    "predi = [0]*(days-len(predictions))\n",
    "for i in predictions.tolist():\n",
    "    predi.append(i)\n",
    "\n",
    "predi_fit = []\n",
    "for i in predictions_fit.tolist():\n",
    "    predi_fit.append(i)\n",
    "for i in range(days-len(predi_fit)):\n",
    "    predi_fit.append(0)\n",
    "    \n",
    "# Plot data on curves\n",
    "fig = plt.figure(facecolor='w')\n",
    "ax = fig.add_subplot(111, facecolor='#dddddd', axisbelow=True)\n",
    "ax.plot(t, predi, 'b', alpha=0.5, lw=2, label='Predicted Infection')\n",
    "ax.plot(t, predi_fit, 'r', alpha=0.5, lw=2, label='Fitted Prediction')\n",
    "ax.plot(t, usa[0:days], alpha=0.5, lw=2, label='US Cases')\n",
    "ax.axvline(x=len(predictions_fit), ymin=0, ymax=500, label=\"Prediction Start\")\n",
    "ax.set_xlabel('Time (days)')\n",
    "ax.set_ylabel('Number')\n",
    "ax.set_ylim(0,100000)\n",
    "ax.yaxis.set_tick_params(length=0)\n",
    "ax.xaxis.set_tick_params(length=0)\n",
    "ax.grid(b=True, which='major', c='w', lw=2, ls='-')\n",
    "legend = ax.legend()\n",
    "legend.get_frame().set_alpha(0.5)\n",
    "for spine in ('top', 'right', 'bottom', 'left'):\n",
    "    ax.spines[spine].set_visible(False)\n",
    "plt.show()"
   ]
  },
  {
   "cell_type": "code",
   "execution_count": 93,
   "metadata": {},
   "outputs": [
    {
     "data": {
      "text/plain": [
       "array([[  100.   , 20211.901],\n",
       "       [  101.   , 21604.26 ],\n",
       "       [  102.   , 22402.782],\n",
       "       [  103.   , 22402.782],\n",
       "       [  104.   , 18670.735],\n",
       "       [  105.   , 20409.411],\n",
       "       [  106.   , 21921.427],\n",
       "       [  107.   , 22268.516],\n",
       "       [  108.   , 22556.152],\n",
       "       [  109.   , 22402.782]])"
      ]
     },
     "execution_count": 93,
     "metadata": {},
     "output_type": "execute_result"
    }
   ],
   "source": [
    "from statsmodels.nonparametric.smoothers_lowess import lowess as lowess\n",
    "\n",
    "t = list(range(end_pred,120,1))\n",
    "t_fit = list(range(0,end_pred,1))\n",
    "\n",
    "ss1 = lowess(predictions, t, frac=0.15)\n",
    "ss2 = lowess(predictions_fit, t_fit, frac=0.15)\n",
    "\n",
    "ss1[:10,:] # We get back smoothed y value for each x value in the data"
   ]
  },
  {
   "cell_type": "code",
   "execution_count": 94,
   "metadata": {},
   "outputs": [
    {
     "data": {
      "image/png": "[encoded data removed]",
      "text/plain": [
       "<Figure size 432x288 with 1 Axes>"
      ]
     },
     "metadata": {},
     "output_type": "display_data"
    }
   ],
   "source": [
    "days = 120\n",
    "t = np.linspace(0, days, days)\n",
    "\n",
    "predi = [0]*(days-len(ss1))\n",
    "prediMSE = []\n",
    "for i in ss1:\n",
    "    predi.append(i[1])\n",
    "    prediMSE.append(i[1])\n",
    "    \n",
    "predi_fit = []\n",
    "for i in ss2:\n",
    "    predi_fit.append(i[1])\n",
    "for i in range(days-len(predi_fit)):\n",
    "    predi_fit.append(0)\n",
    "\n",
    "# Plot data on curves\n",
    "fig = plt.figure(facecolor='w')\n",
    "ax = fig.add_subplot(111, facecolor='#dddddd', axisbelow=True)\n",
    "ax.plot(t, predi, 'b', alpha=0.5, lw=2, label='Predicted Infection')\n",
    "ax.plot(t, predi_fit, 'r', alpha=0.5, lw=2, label='Fitted Prediction')\n",
    "ax.plot(t, usa[0:days], alpha=0.5, lw=2, label='US Cases')\n",
    "ax.axvline(x=end_pred+0.7, ymin=0, ymax=500, label=\"Prediction Start\")\n",
    "ax.set_xlabel('Time (days)')\n",
    "ax.set_ylabel('Number')\n",
    "ax.set_ylim(0,100000)\n",
    "ax.yaxis.set_tick_params(length=0)\n",
    "ax.xaxis.set_tick_params(length=0)\n",
    "ax.grid(b=True, which='major', c='w', lw=2, ls='-')\n",
    "legend = ax.legend()\n",
    "legend.get_frame().set_alpha(0.5)\n",
    "for spine in ('top', 'right', 'bottom', 'left'):\n",
    "    ax.spines[spine].set_visible(False)\n",
    "plt.show()"
   ]
  },
  {
   "cell_type": "markdown",
   "metadata": {},
   "source": [
    "### Evaluate Fit"
   ]
  },
  {
   "cell_type": "code",
   "execution_count": 95,
   "metadata": {},
   "outputs": [
    {
     "name": "stdout",
     "output_type": "stream",
     "text": [
      "134311560.2292579\n",
      "134311560.2292579\n"
     ]
    }
   ],
   "source": [
    "from sklearn.metrics import mean_squared_error\n",
    "\n",
    "print(mean_squared_error(usa[end_pred:120],prediMSE))\n",
    "\n",
    "MSE = np.square(np.subtract(usa[end_pred:120],prediMSE)).mean()\n",
    "\n",
    "print(MSE)"
   ]
  },
  {
   "cell_type": "markdown",
   "metadata": {},
   "source": [
    "# Find Most Important Factors"
   ]
  },
  {
   "cell_type": "code",
   "execution_count": 96,
   "metadata": {},
   "outputs": [
    {
     "name": "stdout",
     "output_type": "stream",
     "text": [
      "Variable: recovery             Importance: 0.27\n",
      "Variable: day                  Importance: 0.24\n",
      "Variable: deaths               Importance: 0.23\n",
      "Variable: work                 Importance: 0.07\n",
      "Variable: gov                  Importance: 0.06\n",
      "Variable: econ                 Importance: 0.04\n",
      "Variable: transit              Importance: 0.02\n",
      "Variable: walk                 Importance: 0.02\n",
      "Variable: car                  Importance: 0.01\n",
      "Variable: domtravel            Importance: 0.01\n",
      "Variable: contact              Importance: 0.0\n",
      "Variable: debtrelief           Importance: 0.0\n",
      "Variable: incomesupp           Importance: 0.0\n",
      "Variable: inttravel            Importance: 0.0\n",
      "Variable: pubevents            Importance: 0.0\n",
      "Variable: pubgatherings        Importance: 0.0\n",
      "Variable: pubinfo              Importance: 0.0\n",
      "Variable: pubtransport         Importance: 0.0\n",
      "Variable: school               Importance: 0.0\n",
      "Variable: stayhome             Importance: 0.0\n",
      "Variable: testing              Importance: 0.0\n"
     ]
    }
   ],
   "source": [
    "# Get numerical feature importances\n",
    "importances = list(rf.feature_importances_)\n",
    "\n",
    "# List of tuples with variable and importance\n",
    "feature_importances = [(feature, round(importance, 2)) for feature, importance in zip(feature_list, importances)]\n",
    "\n",
    "# Sort the feature importances by most important first\n",
    "feature_importances = sorted(feature_importances, key = lambda x: x[1], reverse = True)\n",
    "\n",
    "# Print out the feature and importances \n",
    "[print('Variable: {:20} Importance: {}'.format(*pair)) for pair in feature_importances];"
   ]
  },
  {
   "cell_type": "code",
   "execution_count": 111,
   "metadata": {},
   "outputs": [
    {
     "name": "stdout",
     "output_type": "stream",
     "text": [
      "136\n"
     ]
    },
    {
     "data": {
      "image/png": "[encoded data removed]",
      "text/plain": [
       "<Figure size 432x288 with 1 Axes>"
      ]
     },
     "metadata": {},
     "output_type": "display_data"
    }
   ],
   "source": [
    "# Import matplotlib for plotting and use magic command for Jupyter Notebooks\n",
    "import matplotlib.pyplot as plt\n",
    "\n",
    "%matplotlib inline\n",
    "\n",
    "# Set the style\n",
    "plt.style.use('fivethirtyeight')\n",
    "\n",
    "# list of x locations for plotting\n",
    "x_values = list(range(len(importances)))\n",
    "\n",
    "# Make a bar chart\n",
    "plt.bar(x_values, importances, orientation = 'vertical')\n",
    "\n",
    "# Tick labels for x axis\n",
    "plt.xticks(x_values, feature_list, rotation='vertical')\n",
    "\n",
    "# Axis labels and title\n",
    "plt.ylabel('Importance'); plt.xlabel('Variable'); plt.title('Variable Importances'); "
   ]
  },
  {
   "cell_type": "markdown",
   "metadata": {},
   "source": [
    "# Generate CSVs of Predictions"
   ]
  },
  {
   "cell_type": "code",
   "execution_count": 143,
   "metadata": {},
   "outputs": [],
   "source": [
    "# Fit model to United States with different prediction start dates\n",
    "\n",
    "# Init empty predictions dictionary\n",
    "predictions = {}\n",
    "predictions_2 = {}\n",
    "\n",
    "for i in range(91, len(dates)-15):\n",
    "    # Split the data\n",
    "    end_pred = i\n",
    "    train_features = features[0:end_pred]\n",
    "    test_features = features[end_pred:end_pred+7]\n",
    "    train_labels = labels[0:end_pred]\n",
    "    test_labels = labels[end_pred:end_pred+7]\n",
    "    \n",
    "    # Begin model \n",
    "    rf = RandomForestRegressor(n_estimators= 1000, random_state=42)\n",
    "    # Train model on training data\n",
    "    rf.fit(train_features, train_labels)\n",
    "    \n",
    "    # Use the forest's predict method on the test data\n",
    "    pre = rf.predict(test_features)\n",
    "    \n",
    "    # Add these prediction infected values into dictionary\n",
    "    predictions[dates[i]] = pre\n",
    "    \n",
    "    # Split the data\n",
    "    end_pred = i\n",
    "    train_features = features[0:end_pred]\n",
    "    test_features = features[end_pred:end_pred+14]\n",
    "    train_labels = labels[0:end_pred]\n",
    "    test_labels = labels[end_pred:end_pred+14]\n",
    "    \n",
    "    # Begin model \n",
    "    rf = RandomForestRegressor(n_estimators= 1000, random_state=42)\n",
    "    # Train model on training data\n",
    "    rf.fit(train_features, train_labels)\n",
    "    \n",
    "    # Use the forest's predict method on the test data\n",
    "    pre = rf.predict(test_features)\n",
    "    \n",
    "    # Add these prediction infected values into dictionary\n",
    "    predictions_2[dates[i]] = pre"
   ]
  },
  {
   "cell_type": "code",
   "execution_count": 145,
   "metadata": {},
   "outputs": [],
   "source": [
    "from datetime import datetime\n",
    "\n",
    "# Put all the data into the desired format\n",
    "quant = []\n",
    "loca = []\n",
    "targ = []\n",
    "forc = []\n",
    "poin = []\n",
    "end_date = []\n",
    "keys = []\n",
    "\n",
    "for key, value in predictions.items():\n",
    "    keys.append(key)\n",
    "\n",
    "forc_keys = keys + [\"7/1/20\", \"7/2/20\", \"7/3/20\", \"7/4/20\", \"7/5/20\", \"7/6/20\", \"7/7/20\", \"7/8/20\", \"7/9/20\", \"7/10/20\", \"7/11/20\", \"7/12/20\", \"7/13/20\", \"7/14/20\"]\n",
    "    \n",
    "# Loop through and situate everything correctly\n",
    "j = 0\n",
    "for i in range(len(keys)):\n",
    "    x = datetime.strptime(keys[i], '%m/%d/%y')\n",
    "    forc_date = x.strftime('%Y-%m-%d')\n",
    "    point_date = keys[i]\n",
    "    for k in range(7):\n",
    "        quant.append(\"NA\")\n",
    "        loca.append(\"US\")\n",
    "        targ.append(\"1 wk ahead inc case\")\n",
    "        forc.append(forc_date)\n",
    "        # Make sure point predictions are end dates are iterated\n",
    "        poin.append(predictions[point_date][k])\n",
    "        y = datetime.strptime(forc_keys[j+k], '%m/%d/%y')\n",
    "        end_date.append(y.strftime('%Y-%m-%d'))\n",
    "        \n",
    "    for s in range(14):\n",
    "        quant.append(\"NA\")\n",
    "        loca.append(\"US\")\n",
    "        targ.append(\"2 wk ahead inc case\")\n",
    "        forc.append(forc_date)\n",
    "        # Make sure point predictions are end dates are iterated\n",
    "        poin.append(predictions_2[point_date][s])\n",
    "        y = datetime.strptime(forc_keys[j+s], '%m/%d/%y')\n",
    "        end_date.append(y.strftime('%Y-%m-%d'))\n",
    "        \n",
    "    j = j + 1\n",
    "        \n",
    "# Instantiate the output CSV dictionary\n",
    "output_csv = {\"location\" : loca, \n",
    "              \"target\" : targ,\n",
    "             \"target_end_date\" : end_date,\n",
    "             \"forecast_date\" : forc,\n",
    "             \"point\" : poin,\n",
    "             \"quantile\" : quant}\n",
    "\n",
    "# convert to pandas dataframe for easy transfer to CSV\n",
    "out = pd.DataFrame(output_csv)"
   ]
  },
  {
   "cell_type": "code",
   "execution_count": 151,
   "metadata": {},
   "outputs": [],
   "source": [
    "# Iterate through and create separate CSV files for each forecast date\n",
    "# Also reformat dates to correct format\n",
    "for i in dates[91:len(dates)-15]:\n",
    "    z = datetime.strptime(i, '%m/%d/%y')\n",
    "    z_date = z.strftime('%Y-%m-%d')\n",
    "    to_file = out[out[\"forecast_date\"] == z_date]\n",
    "    to_file.to_csv(f'{z_date}-Random-Forest.csv') "
   ]
  },
  {
   "cell_type": "code",
   "execution_count": 149,
   "metadata": {},
   "outputs": [
    {
     "data": {
      "text/html": [
       "<div>\n",
       "<style scoped>\n",
       "    .dataframe tbody tr th:only-of-type {\n",
       "        vertical-align: middle;\n",
       "    }\n",
       "\n",
       "    .dataframe tbody tr th {\n",
       "        vertical-align: top;\n",
       "    }\n",
       "\n",
       "    .dataframe thead th {\n",
       "        text-align: right;\n",
       "    }\n",
       "</style>\n",
       "<table border=\"1\" class=\"dataframe\">\n",
       "  <thead>\n",
       "    <tr style=\"text-align: right;\">\n",
       "      <th></th>\n",
       "      <th>location</th>\n",
       "      <th>target</th>\n",
       "      <th>target_end_date</th>\n",
       "      <th>forecast_date</th>\n",
       "      <th>point</th>\n",
       "      <th>quantile</th>\n",
       "    </tr>\n",
       "  </thead>\n",
       "  <tbody>\n",
       "    <tr>\n",
       "      <th>399</th>\n",
       "      <td>US</td>\n",
       "      <td>1 wk ahead inc case</td>\n",
       "      <td>2020-06-20</td>\n",
       "      <td>2020-06-20</td>\n",
       "      <td>28745.621</td>\n",
       "      <td>NA</td>\n",
       "    </tr>\n",
       "    <tr>\n",
       "      <th>400</th>\n",
       "      <td>US</td>\n",
       "      <td>1 wk ahead inc case</td>\n",
       "      <td>2020-06-21</td>\n",
       "      <td>2020-06-20</td>\n",
       "      <td>20409.412</td>\n",
       "      <td>NA</td>\n",
       "    </tr>\n",
       "    <tr>\n",
       "      <th>401</th>\n",
       "      <td>US</td>\n",
       "      <td>1 wk ahead inc case</td>\n",
       "      <td>2020-06-22</td>\n",
       "      <td>2020-06-20</td>\n",
       "      <td>27212.143</td>\n",
       "      <td>NA</td>\n",
       "    </tr>\n",
       "    <tr>\n",
       "      <th>402</th>\n",
       "      <td>US</td>\n",
       "      <td>1 wk ahead inc case</td>\n",
       "      <td>2020-06-23</td>\n",
       "      <td>2020-06-20</td>\n",
       "      <td>28107.550</td>\n",
       "      <td>NA</td>\n",
       "    </tr>\n",
       "    <tr>\n",
       "      <th>403</th>\n",
       "      <td>US</td>\n",
       "      <td>1 wk ahead inc case</td>\n",
       "      <td>2020-06-24</td>\n",
       "      <td>2020-06-20</td>\n",
       "      <td>28675.967</td>\n",
       "      <td>NA</td>\n",
       "    </tr>\n",
       "    <tr>\n",
       "      <th>404</th>\n",
       "      <td>US</td>\n",
       "      <td>1 wk ahead inc case</td>\n",
       "      <td>2020-06-25</td>\n",
       "      <td>2020-06-20</td>\n",
       "      <td>28750.969</td>\n",
       "      <td>NA</td>\n",
       "    </tr>\n",
       "    <tr>\n",
       "      <th>405</th>\n",
       "      <td>US</td>\n",
       "      <td>1 wk ahead inc case</td>\n",
       "      <td>2020-06-26</td>\n",
       "      <td>2020-06-20</td>\n",
       "      <td>29816.811</td>\n",
       "      <td>NA</td>\n",
       "    </tr>\n",
       "    <tr>\n",
       "      <th>406</th>\n",
       "      <td>US</td>\n",
       "      <td>2 wk ahead inc case</td>\n",
       "      <td>2020-06-20</td>\n",
       "      <td>2020-06-20</td>\n",
       "      <td>28745.621</td>\n",
       "      <td>NA</td>\n",
       "    </tr>\n",
       "    <tr>\n",
       "      <th>407</th>\n",
       "      <td>US</td>\n",
       "      <td>2 wk ahead inc case</td>\n",
       "      <td>2020-06-21</td>\n",
       "      <td>2020-06-20</td>\n",
       "      <td>20409.412</td>\n",
       "      <td>NA</td>\n",
       "    </tr>\n",
       "    <tr>\n",
       "      <th>408</th>\n",
       "      <td>US</td>\n",
       "      <td>2 wk ahead inc case</td>\n",
       "      <td>2020-06-22</td>\n",
       "      <td>2020-06-20</td>\n",
       "      <td>27212.143</td>\n",
       "      <td>NA</td>\n",
       "    </tr>\n",
       "    <tr>\n",
       "      <th>409</th>\n",
       "      <td>US</td>\n",
       "      <td>2 wk ahead inc case</td>\n",
       "      <td>2020-06-23</td>\n",
       "      <td>2020-06-20</td>\n",
       "      <td>28107.550</td>\n",
       "      <td>NA</td>\n",
       "    </tr>\n",
       "    <tr>\n",
       "      <th>410</th>\n",
       "      <td>US</td>\n",
       "      <td>2 wk ahead inc case</td>\n",
       "      <td>2020-06-24</td>\n",
       "      <td>2020-06-20</td>\n",
       "      <td>28675.967</td>\n",
       "      <td>NA</td>\n",
       "    </tr>\n",
       "    <tr>\n",
       "      <th>411</th>\n",
       "      <td>US</td>\n",
       "      <td>2 wk ahead inc case</td>\n",
       "      <td>2020-06-25</td>\n",
       "      <td>2020-06-20</td>\n",
       "      <td>28750.969</td>\n",
       "      <td>NA</td>\n",
       "    </tr>\n",
       "    <tr>\n",
       "      <th>412</th>\n",
       "      <td>US</td>\n",
       "      <td>2 wk ahead inc case</td>\n",
       "      <td>2020-06-26</td>\n",
       "      <td>2020-06-20</td>\n",
       "      <td>29816.811</td>\n",
       "      <td>NA</td>\n",
       "    </tr>\n",
       "    <tr>\n",
       "      <th>413</th>\n",
       "      <td>US</td>\n",
       "      <td>2 wk ahead inc case</td>\n",
       "      <td>2020-06-27</td>\n",
       "      <td>2020-06-20</td>\n",
       "      <td>29135.381</td>\n",
       "      <td>NA</td>\n",
       "    </tr>\n",
       "    <tr>\n",
       "      <th>414</th>\n",
       "      <td>US</td>\n",
       "      <td>2 wk ahead inc case</td>\n",
       "      <td>2020-06-28</td>\n",
       "      <td>2020-06-20</td>\n",
       "      <td>21446.085</td>\n",
       "      <td>NA</td>\n",
       "    </tr>\n",
       "    <tr>\n",
       "      <th>415</th>\n",
       "      <td>US</td>\n",
       "      <td>2 wk ahead inc case</td>\n",
       "      <td>2020-06-29</td>\n",
       "      <td>2020-06-20</td>\n",
       "      <td>28091.358</td>\n",
       "      <td>NA</td>\n",
       "    </tr>\n",
       "    <tr>\n",
       "      <th>416</th>\n",
       "      <td>US</td>\n",
       "      <td>2 wk ahead inc case</td>\n",
       "      <td>2020-06-30</td>\n",
       "      <td>2020-06-20</td>\n",
       "      <td>28675.967</td>\n",
       "      <td>NA</td>\n",
       "    </tr>\n",
       "    <tr>\n",
       "      <th>417</th>\n",
       "      <td>US</td>\n",
       "      <td>2 wk ahead inc case</td>\n",
       "      <td>2020-07-01</td>\n",
       "      <td>2020-06-20</td>\n",
       "      <td>28744.347</td>\n",
       "      <td>NA</td>\n",
       "    </tr>\n",
       "    <tr>\n",
       "      <th>418</th>\n",
       "      <td>US</td>\n",
       "      <td>2 wk ahead inc case</td>\n",
       "      <td>2020-07-02</td>\n",
       "      <td>2020-06-20</td>\n",
       "      <td>29225.926</td>\n",
       "      <td>NA</td>\n",
       "    </tr>\n",
       "    <tr>\n",
       "      <th>419</th>\n",
       "      <td>US</td>\n",
       "      <td>2 wk ahead inc case</td>\n",
       "      <td>2020-07-03</td>\n",
       "      <td>2020-06-20</td>\n",
       "      <td>29545.797</td>\n",
       "      <td>NA</td>\n",
       "    </tr>\n",
       "  </tbody>\n",
       "</table>\n",
       "</div>"
      ],
      "text/plain": [
       "    location               target target_end_date forecast_date      point  \\\n",
       "399       US  1 wk ahead inc case      2020-06-20    2020-06-20  28745.621   \n",
       "400       US  1 wk ahead inc case      2020-06-21    2020-06-20  20409.412   \n",
       "401       US  1 wk ahead inc case      2020-06-22    2020-06-20  27212.143   \n",
       "402       US  1 wk ahead inc case      2020-06-23    2020-06-20  28107.550   \n",
       "403       US  1 wk ahead inc case      2020-06-24    2020-06-20  28675.967   \n",
       "404       US  1 wk ahead inc case      2020-06-25    2020-06-20  28750.969   \n",
       "405       US  1 wk ahead inc case      2020-06-26    2020-06-20  29816.811   \n",
       "406       US  2 wk ahead inc case      2020-06-20    2020-06-20  28745.621   \n",
       "407       US  2 wk ahead inc case      2020-06-21    2020-06-20  20409.412   \n",
       "408       US  2 wk ahead inc case      2020-06-22    2020-06-20  27212.143   \n",
       "409       US  2 wk ahead inc case      2020-06-23    2020-06-20  28107.550   \n",
       "410       US  2 wk ahead inc case      2020-06-24    2020-06-20  28675.967   \n",
       "411       US  2 wk ahead inc case      2020-06-25    2020-06-20  28750.969   \n",
       "412       US  2 wk ahead inc case      2020-06-26    2020-06-20  29816.811   \n",
       "413       US  2 wk ahead inc case      2020-06-27    2020-06-20  29135.381   \n",
       "414       US  2 wk ahead inc case      2020-06-28    2020-06-20  21446.085   \n",
       "415       US  2 wk ahead inc case      2020-06-29    2020-06-20  28091.358   \n",
       "416       US  2 wk ahead inc case      2020-06-30    2020-06-20  28675.967   \n",
       "417       US  2 wk ahead inc case      2020-07-01    2020-06-20  28744.347   \n",
       "418       US  2 wk ahead inc case      2020-07-02    2020-06-20  29225.926   \n",
       "419       US  2 wk ahead inc case      2020-07-03    2020-06-20  29545.797   \n",
       "\n",
       "    quantile  \n",
       "399       NA  \n",
       "400       NA  \n",
       "401       NA  \n",
       "402       NA  \n",
       "403       NA  \n",
       "404       NA  \n",
       "405       NA  \n",
       "406       NA  \n",
       "407       NA  \n",
       "408       NA  \n",
       "409       NA  \n",
       "410       NA  \n",
       "411       NA  \n",
       "412       NA  \n",
       "413       NA  \n",
       "414       NA  \n",
       "415       NA  \n",
       "416       NA  \n",
       "417       NA  \n",
       "418       NA  \n",
       "419       NA  "
      ]
     },
     "execution_count": 149,
     "metadata": {},
     "output_type": "execute_result"
    }
   ],
   "source": [
    "# Example of one of the CSV files\n",
    "out[out[\"forecast_date\"] == \"2020-06-20\"]"
   ]
  },
  {
   "cell_type": "code",
   "execution_count": null,
   "metadata": {},
   "outputs": [],
   "source": []
  }
 ],
 "metadata": {
  "kernelspec": {
   "display_name": "Python 3",
   "language": "python",
   "name": "python3"
  },
  "language_info": {
   "codemirror_mode": {
    "name": "ipython",
    "version": 3
   },
   "file_extension": ".py",
   "mimetype": "text/x-python",
   "name": "python",
   "nbconvert_exporter": "python",
   "pygments_lexer": "ipython3",
   "version": "3.7.3"
  }
 },
 "nbformat": 4,
 "nbformat_minor": 2
}
