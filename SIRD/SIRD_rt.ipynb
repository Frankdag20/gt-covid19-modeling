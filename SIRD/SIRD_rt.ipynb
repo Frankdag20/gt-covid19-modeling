{
 "cells": [
  {
   "cell_type": "code",
   "execution_count": 85,
   "metadata": {},
   "outputs": [
    {
     "name": "stdout",
     "output_type": "stream",
     "text": [
      "C:\\Users\\frank\\GTREU\\SIRD\n"
     ]
    }
   ],
   "source": [
    "import numpy as np\n",
    "import pickle\n",
    "import pandas as pd\n",
    "import matplotlib.pyplot as plt\n",
    "import os\n",
    "import math\n",
    "from scipy.integrate import odeint\n",
    "from scipy.optimize import minimize\n",
    "import scipy.stats as st\n",
    "from scipy import integrate\n",
    "from lmfit import minimize, Parameters, Parameter, report_fit\n",
    "from statsmodels.base.model import GenericLikelihoodModel\n",
    "from scipy import stats\n",
    "import seaborn as sns\n",
    "\n",
    "pathName = os.getcwd()\n",
    "print(pathName)"
   ]
  },
  {
   "cell_type": "markdown",
   "metadata": {},
   "source": [
    "# Data Scraping"
   ]
  },
  {
   "cell_type": "code",
   "execution_count": 86,
   "metadata": {},
   "outputs": [],
   "source": [
    "dates = ['3/2/20', '3/3/20', '3/4/20', '3/5/20', '3/6/20','3/7/20', '3/8/20', '3/9/20', '3/10/20', '3/11/20','3/12/20', '3/13/20', '3/14/20', '3/15/20', '3/16/20','3/17/20', '3/18/20', '3/19/20', '3/20/20', '3/21/20','3/22/20', '3/23/20', '3/24/20', '3/25/20', '3/26/20','3/27/20', '3/28/20', '3/29/20', '3/30/20', '3/31/20','4/1/20', '4/2/20', '4/3/20', '4/4/20', '4/5/20', '4/6/20',\n",
    "        '4/7/20', '4/8/20', '4/9/20', '4/10/20', '4/11/20','4/12/20', '4/13/20', '4/14/20', '4/15/20', '4/16/20','4/17/20', '4/18/20', '4/19/20', '4/20/20', '4/21/20','4/22/20', '4/23/20', '4/24/20', '4/25/20', '4/26/20','4/27/20', '4/28/20', '4/29/20', '4/30/20', '5/1/20', '5/2/20', '5/3/20', '5/4/20', '5/5/20', '5/6/20','5/7/20', '5/8/20', '5/9/20', '5/10/20', '5/11/20','5/12/20', '5/13/20', '5/14/20', '5/15/20', '5/16/20','5/17/20', '5/18/20', '5/19/20', '5/20/20', '5/21/20',\n",
    "        '5/22/20', '5/23/20', '5/24/20', '5/25/20', '5/26/20','5/27/20', '5/28/20', '5/29/20', '5/30/20', '5/31/20', '6/1/20', '6/2/20', '6/3/20', '6/4/20', '6/5/20', '6/6/20','6/7/20', '6/8/20', '6/9/20', '6/10/20', '6/11/20','6/12/20', '6/13/20', '6/14/20', '6/15/20', '6/16/20','6/17/20', '6/18/20', '6/19/20', '6/20/20', '6/21/20','6/22/20', '6/23/20', '6/24/20', '6/25/20', '6/26/20','6/27/20', '6/28/20', '6/29/20', '6/30/20', '7/1/20', \n",
    "         '7/2/20', '7/3/20', '7/4/20', '7/5/20', '7/6/20','7/7/20', '7/8/20', '7/9/20', '7/10/20', '7/11/20','7/12/20', '7/13/20', '7/14/20', '7/15/20']\n",
    "          \n",
    "dates2 = ['2020-03-02', '2020-03-03', '2020-03-04', '2020-03-05', '2020-03-06','2020-03-07', '2020-03-08', '2020-03-09', '2020-03-10', '2020-03-11','2020-03-12', '2020-03-13','2020-03-14', '2020-03-15', '2020-03-16', '2020-03-17','2020-03-18', '2020-03-19', '2020-03-20', '2020-03-21', '2020-03-22','2020-03-23', '2020-03-24', '2020-03-25', '2020-03-26', '2020-03-27',\n",
    "         '2020-03-28', '2020-03-29', '2020-03-30', '2020-03-31', '2020-04-01','2020-04-02', '2020-04-03', '2020-04-04', '2020-04-05', '2020-04-06','2020-04-07', '2020-04-08', '2020-04-09', '2020-04-10', '2020-04-11','2020-04-12', '2020-04-13','2020-04-14', '2020-04-15', '2020-04-16', '2020-04-17','2020-04-18', '2020-04-19', '2020-04-20', '2020-04-21', '2020-04-22','2020-04-23', '2020-04-24', '2020-04-25', '2020-04-26', '2020-04-27',\n",
    "         '2020-04-28', '2020-04-29', '2020-04-30', '2020-05-01', '2020-05-02', '2020-05-03', '2020-05-04', '2020-05-05', '2020-05-06','2020-05-07', '2020-05-08', '2020-05-09', '2020-05-10', '2020-05-11','2020-05-12', '2020-05-13','2020-05-14', '2020-05-15', '2020-05-16', '2020-05-17','2020-05-18', '2020-05-19', '2020-05-20', '2020-05-21', '2020-05-22','2020-05-23', '2020-05-24', '2020-05-25', '2020-05-26', '2020-05-27',\n",
    "         '2020-05-28', '2020-05-29', '2020-05-30', '2020-05-31', '2020-06-01','2020-06-02', '2020-06-03', '2020-06-04', '2020-06-05', '2020-06-06','2020-06-07', '2020-06-08', '2020-06-09', '2020-06-10', '2020-06-11','2020-06-12', '2020-06-13','2020-06-14', '2020-06-15', '2020-06-16', '2020-06-17','2020-06-18', '2020-06-19', '2020-06-20', '2020-06-21', '2020-06-22','2020-06-23', '2020-06-24', '2020-06-25', '2020-06-26', '2020-06-27','2020-06-28', '2020-06-29', '2020-06-30', '2020-07-01','2020-07-02', '2020-07-03', '2020-07-04', '2020-07-05', '2020-07-06','2020-07-07', '2020-07-08', '2020-07-09', '2020-07-10', '2020-07-11','2020-07-12', '2020-07-13','2020-07-14', '2020-07-15']\n",
    "    \n",
    "dates3 = ['3/2/2020', '3/3/2020', '3/4/2020', '3/5/2020', '3/6/2020','3/7/2020', '3/8/2020', '3/9/2020', '3/10/2020', '3/11/2020','3/12/2020', '3/13/2020', '3/14/2020', '3/15/2020', '3/16/2020','3/17/2020', '3/18/2020', '3/19/2020', '3/20/2020', '3/21/2020','3/22/2020', '3/23/2020', '3/24/2020', '3/25/2020', '3/26/2020','3/27/2020', '3/28/2020', '3/29/2020', '3/30/2020', '3/31/2020',\n",
    "        '4/1/2020', '4/2/2020', '4/3/2020', '4/4/2020', '4/5/2020', '4/6/2020','4/7/2020', '4/8/2020', '4/9/2020', '4/10/2020', '4/11/2020','4/12/2020', '4/13/2020', '4/14/2020', '4/15/2020', '4/16/2020','4/17/2020', '4/18/2020', '4/19/2020', '4/20/2020', '4/21/2020','4/22/2020', '4/23/2020', '4/24/2020', '4/25/2020', '4/26/2020','4/27/2020', '4/28/2020', '4/29/2020', '4/30/2020', '5/1/2020', \n",
    "        '5/2/2020', '5/3/2020', '5/4/2020', '5/5/2020', '5/6/2020','5/7/2020', '5/8/2020', '5/9/2020', '5/10/2020', '5/11/2020','5/12/2020', '5/13/2020', '5/14/2020', '5/15/2020', '5/16/2020','5/17/2020', '5/18/2020', '5/19/2020', '5/20/2020', '5/21/2020','5/22/2020', '5/23/2020', '5/24/2020', '5/25/2020', '5/26/2020','5/27/2020', '5/28/2020', '5/29/2020', '5/30/2020', '5/31/2020', \n",
    "        '6/1/2020', '6/2/2020', '6/3/2020', '6/4/2020', '6/5/2020', '6/6/2020','6/7/2020', '6/8/2020', '6/9/2020', '6/10/2020', '6/11/2020','6/12/2020', '6/13/2020', '6/14/2020', '6/15/2020', '6/16/2020','6/17/2020', '6/18/2020', '6/19/2020', '6/20/2020', '6/21/2020','6/22/2020', '6/23/2020', '6/24/2020', '6/25/2020', '6/26/2020','6/27/2020', '6/28/2020', '6/29/2020', '6/30/2020', '7/1/2020', \n",
    "        '7/2/2020', '7/3/2020', '7/4/2020', '7/5/2020', '7/6/2020','7/7/2020', '7/8/2020', '7/9/2020', '7/10/2020', '7/11/2020','7/12/2020', '7/13/2020', '7/14/2020', '7/15/2020']\n",
    "\n",
    "# Scrape CSV file from JHU Github\n",
    "\n",
    "# Cases\n",
    "url = \"https://raw.githubusercontent.com/CSSEGISandData/COVID-19/master/csse_covid_19_data/csse_covid_19_time_series/time_series_covid19_confirmed_US.csv\"\n",
    "df = pd.read_csv(url, index_col=0)\n",
    "\n",
    "ny_temp = df.loc[(df['Province_State'] == 'New York')]\n",
    "wash_temp = df.loc[(df['Province_State'] == 'Washington')]\n",
    "cali_temp = df.loc[(df['Province_State'] == 'California')]\n",
    "nj_temp = df.loc[(df['Province_State'] == 'New Jersey')]\n",
    "mass_temp = df.loc[(df['Province_State'] == 'Massachusetts')]\n",
    "\n",
    "us_temp = df.loc[(df['Country_Region'] == 'US')]\n",
    "\n",
    "# Deaths\n",
    "url2 = \"https://raw.githubusercontent.com/CSSEGISandData/COVID-19/master/csse_covid_19_data/csse_covid_19_time_series/time_series_covid19_deaths_US.csv\"\n",
    "dfDeaths = pd.read_csv(url2, index_col=0)\n",
    "\n",
    "ny_tempDeaths = dfDeaths.loc[(dfDeaths['Province_State'] == 'New York')]\n",
    "wash_tempDeaths = dfDeaths.loc[(dfDeaths['Province_State'] == 'Washington')]\n",
    "cali_tempDeaths = dfDeaths.loc[(dfDeaths['Province_State'] == 'California')]\n",
    "nj_tempDeaths = dfDeaths.loc[(dfDeaths['Province_State'] == 'New Jersey')]\n",
    "mass_tempDeaths = dfDeaths.loc[(dfDeaths['Province_State'] == 'Massachusetts')]\n",
    "\n",
    "us_tempDeaths = dfDeaths.loc[(dfDeaths['Country_Region'] == 'US')]\n",
    "\n",
    "# Recovered\n",
    "url3 = \"https://raw.githubusercontent.com/CSSEGISandData/COVID-19/master/csse_covid_19_data/csse_covid_19_time_series/time_series_covid19_recovered_global.csv\"\n",
    "dfRec = pd.read_csv(url3, index_col=0)\n",
    "us_tempRec = dfRec.loc[(dfRec['Country/Region'] == 'US')]"
   ]
  },
  {
   "cell_type": "markdown",
   "metadata": {},
   "source": [
    "### Oxford Policy Data"
   ]
  },
  {
   "cell_type": "code",
   "execution_count": 87,
   "metadata": {},
   "outputs": [],
   "source": [
    "econ_index = pd.read_csv(\"OxCGRT_timeseries_index_economic.csv\")\n",
    "us_ec_index = econ_index.loc[(econ_index['CountryName'] == 'United States')]\n",
    "\n",
    "health_index = pd.read_csv(\"OxCGRT_timeseries_index_health.csv\")\n",
    "us_health_index = health_index.loc[(health_index['CountryName'] == 'United States')]\n",
    "\n",
    "gov_index = pd.read_csv(\"OxCGRT_timeseries_index_govresponse.csv\")\n",
    "us_gov_index = gov_index.loc[(gov_index['CountryName'] == 'United States')]\n",
    "\n",
    "string_index = pd.read_csv(\"OxCGRT_timeseries_index_stringency.csv\")\n",
    "us_string_index = string_index.loc[(string_index['CountryName'] == 'United States')]\n",
    "\n",
    "usEcon = []\n",
    "for i in dates3:\n",
    "    usEcon.append(us_ec_index[i].values[0])\n",
    "    \n",
    "usHealth = []\n",
    "for i in dates3:\n",
    "    usHealth.append(us_health_index[i].values[0])\n",
    "    \n",
    "usGov = []\n",
    "for i in dates3:\n",
    "    usGov.append(us_gov_index[i].values[0])\n",
    "\n",
    "usString = []\n",
    "for i in dates3:\n",
    "    usString.append(us_string_index[i].values[0])"
   ]
  },
  {
   "cell_type": "code",
   "execution_count": 88,
   "metadata": {},
   "outputs": [],
   "source": [
    "import glob\n",
    "\n",
    "# Create an array of all the dataframes\n",
    "policy = []\n",
    "\n",
    "# Iterate through all files that aren't index ones\n",
    "# and store each list in the policy list\n",
    "for filepath in glob.iglob(r'*.csv', recursive=True):\n",
    "    if 'OxCGRT_' in filepath and 'index' not in filepath:\n",
    "        x = pd.read_csv(filepath)\n",
    "        y = x.loc[(x['CountryName'] == 'United States')]\n",
    "        z = []\n",
    "        for i in dates3:\n",
    "            z.append(x[i].values[0])\n",
    "        policy.append(z)"
   ]
  },
  {
   "cell_type": "markdown",
   "metadata": {},
   "source": [
    "### Apple Mobility Data"
   ]
  },
  {
   "cell_type": "code",
   "execution_count": 89,
   "metadata": {},
   "outputs": [],
   "source": [
    "mobility = pd.read_csv(\"applemobilitytrends-2020-07-27.csv\")\n",
    "us_mob = mobility.loc[(mobility['region'] == 'United States')]\n",
    "us_mob_transit = us_mob.loc[(us_mob['transportation_type'] == 'transit')]\n",
    "us_mob_drive = us_mob.loc[(us_mob['transportation_type'] == 'driving')]\n",
    "us_mob_walk = us_mob.loc[(us_mob['transportation_type'] == 'walking')]\n",
    "\n",
    "mobility_car_us = []\n",
    "for i in dates2:\n",
    "    mobility_car_us.append(us_mob_drive[i].values[0])\n",
    "\n",
    "mobility_walk_us = []\n",
    "for i in dates2:\n",
    "    mobility_walk_us.append(us_mob_walk[i].values[0])\n",
    "\n",
    "mobility_trans_us = []\n",
    "for i in dates2:\n",
    "    mobility_trans_us.append(us_mob_transit[i].values[0])"
   ]
  },
  {
   "cell_type": "markdown",
   "metadata": {},
   "source": [
    "# Aggregate Data"
   ]
  },
  {
   "cell_type": "code",
   "execution_count": 90,
   "metadata": {},
   "outputs": [],
   "source": [
    "# Fill US array up with daily corona cases\n",
    "\n",
    "popUS = 326690000\n",
    "\n",
    "# United States\n",
    "usa = []\n",
    "k=0\n",
    "tempI = 0\n",
    "tempD = 0\n",
    "tempR = 0\n",
    "for i in dates:\n",
    "    usaI = sum(us_temp[i]) - tempI\n",
    "    usaD = sum(us_tempDeaths[i]) - tempD\n",
    "    usaR = sum(us_tempRec[i]) - tempR\n",
    "    tempusaR = sum(us_tempRec[i])\n",
    "    tempusaI = sum(us_temp[i])\n",
    "    tempusaD = sum(us_tempDeaths[i])\n",
    "    usaS = popUS - tempusaR - tempusaI - tempusaD\n",
    "    insert = [usaS, usaI, tempusaR, tempusaD]\n",
    "    usa.append(insert)\n",
    "    tempI = tempusaI\n",
    "    tempD = tempusaD\n",
    "    tempR = tempusaR\n",
    "    k += 1    "
   ]
  },
  {
   "cell_type": "markdown",
   "metadata": {},
   "source": [
    "# SIRD Model"
   ]
  },
  {
   "cell_type": "code",
   "execution_count": 91,
   "metadata": {},
   "outputs": [],
   "source": [
    "def SIRD(y, t, beta, rec, death):\n",
    "    S, I, R, D = y\n",
    "    N = S+I+R+D\n",
    "    # Ordinary differential equations\n",
    "    dS = (-beta * S * I)/N\n",
    "    dI = ((beta * S * I)/N) - ((rec+death) * I)\n",
    "    dR = rec * I\n",
    "    dD = death * I\n",
    "    return(dS, dI, dR, dD)"
   ]
  },
  {
   "cell_type": "markdown",
   "metadata": {},
   "source": [
    "# Dynamic $R_t$ value"
   ]
  },
  {
   "cell_type": "code",
   "execution_count": 92,
   "metadata": {},
   "outputs": [
    {
     "data": {
      "image/png": "[encoded data removed]",
      "text/plain": [
       "<Figure size 432x288 with 1 Axes>"
      ]
     },
     "metadata": {},
     "output_type": "display_data"
    }
   ],
   "source": [
    "# Run SIRD for US\n",
    "N = popUS\n",
    "I0 = 100\n",
    "R0 = 0\n",
    "D0 = 0\n",
    "S0 = N - I0 - R0 - D0\n",
    "\n",
    "days = 121\n",
    "rec = 0.002\n",
    "death = 0.0145\n",
    "beta = 0.08\n",
    "\n",
    "# Init parameters for optimization\n",
    "params = Parameters()\n",
    "params.add('beta', value=beta, min=0, max=5)\n",
    "params.add('rec', value=rec, min=0, max=5)\n",
    "params.add('death', value=death, min=0, max=5)\n",
    "\n",
    "t = np.linspace(0, days, days)\n",
    "y0 = S0, I0, R0, D0\n",
    "\n",
    "# Integrate equations over t\n",
    "def ode_sol(t, init, params):\n",
    "    beta, rec, death = params['beta'].value, params['rec'].value, params['death'].value\n",
    "    out = odeint(SIRD, init, t, args=(beta, rec, death))\n",
    "    return out\n",
    "\n",
    "res = ode_sol(t, y0, params)\n",
    "S, I, R, D = res.T\n",
    "\n",
    "# Plot data on curves\n",
    "fig = plt.figure(facecolor='w')\n",
    "ax = fig.add_subplot(111, facecolor='#dddddd', axisbelow=True)\n",
    "ax.plot(t, S/1000000, 'b', alpha=0.5, lw=2, label='Susceptible')\n",
    "ax.plot(t, I/1000, 'r', alpha=0.5, lw=2, label='Infected')\n",
    "ax.plot(t, R/1000, 'g', alpha=0.5, lw=2, label='Recovered with immunity')\n",
    "ax.plot(t, D/1000, 'y', alpha=0.5, lw=2, label='Deaths')\n",
    "ax.set_xlabel('Time (days)')\n",
    "ax.set_ylabel('Number (thousands for I, R, D, millions for S)')\n",
    "ax.set_ylim(0,400)\n",
    "ax.yaxis.set_tick_params(length=0)\n",
    "ax.xaxis.set_tick_params(length=0)\n",
    "ax.grid(b=True, which='major', c='w', lw=2, ls='-')\n",
    "legend = ax.legend()\n",
    "legend.get_frame().set_alpha(0.5)\n",
    "for spine in ('top', 'right', 'bottom', 'left'):\n",
    "    ax.spines[spine].set_visible(False)\n",
    "plt.show()"
   ]
  },
  {
   "cell_type": "code",
   "execution_count": 93,
   "metadata": {},
   "outputs": [],
   "source": [
    "def SIRD(y, t, beta_func, rec, death):\n",
    "    S, I, R, D = y\n",
    "    N = S+I+R+D\n",
    "    # Ordinary differential equations\n",
    "    dS = (-beta_func(t, rec, death) * S * I)/N\n",
    "    dI = ((beta_func(t, rec, death) * S * I)/N) - ((rec+death) * I)\n",
    "    dR = rec * I\n",
    "    dD = death * I\n",
    "    return(dS, dI, dR, dD)"
   ]
  },
  {
   "cell_type": "markdown",
   "metadata": {},
   "source": [
    "### Example with Logistic $R_t$ Value"
   ]
  },
  {
   "cell_type": "code",
   "execution_count": 94,
   "metadata": {},
   "outputs": [],
   "source": [
    "r0_start = 5\n",
    "r0_end = 0.5\n",
    "k=0.5\n",
    "x0 = 50\n",
    "\n",
    "def logistic_R_0(t):\n",
    "    return (r0_start-r0_end) / (1+np.exp(-k*(-t+x0))) + r0_end\n",
    "\n",
    "def beta_func(t):\n",
    "    return logistic_R_0(t)*rec"
   ]
  },
  {
   "cell_type": "code",
   "execution_count": 95,
   "metadata": {},
   "outputs": [
    {
     "data": {
      "image/png": "[encoded data removed]",
      "text/plain": [
       "<Figure size 432x288 with 1 Axes>"
      ]
     },
     "metadata": {},
     "output_type": "display_data"
    }
   ],
   "source": [
    "dyn_r0 = [logistic_R_0(i) for i in range(len(t))]\n",
    "# Plot data on curves\n",
    "fig = plt.figure(facecolor='w')\n",
    "ax = fig.add_subplot(111, facecolor='#dddddd', axisbelow=True)\n",
    "ax.plot(t, dyn_r0, 'b', alpha=0.5, lw=2, label='R0')\n",
    "\n",
    "ax.set_xlabel('Time')\n",
    "ax.set_ylabel('Value')\n",
    "ax.yaxis.set_tick_params(length=0)\n",
    "ax.xaxis.set_tick_params(length=0)\n",
    "ax.grid(b=True, which='major', c='w', lw=2, ls='-')\n",
    "legend = ax.legend()\n",
    "legend.get_frame().set_alpha(0.5)\n",
    "for spine in ('top', 'right', 'bottom', 'left'):\n",
    "    ax.spines[spine].set_visible(False)\n",
    "plt.show()"
   ]
  },
  {
   "cell_type": "markdown",
   "metadata": {},
   "source": [
    "# Fitting $R_t$ Value to Mobility/Policy Data"
   ]
  },
  {
   "cell_type": "code",
   "execution_count": 96,
   "metadata": {},
   "outputs": [],
   "source": [
    "# Reformat data for easier plotting\n",
    "scat_us = [0]*len(dates)\n",
    "\n",
    "k=0\n",
    "for i in usa:\n",
    "    scat_us[k] = i[1]\n",
    "    k=k+1\n",
    "    \n",
    "scat_us_S = [0]*len(dates)\n",
    "\n",
    "k=0\n",
    "for i in usa:\n",
    "    scat_us_S[k] = i[0]\n",
    "    k=k+1"
   ]
  },
  {
   "cell_type": "code",
   "execution_count": 273,
   "metadata": {},
   "outputs": [
    {
     "data": {
      "image/png": "[encoded data removed]",
      "text/plain": [
       "<Figure size 432x288 with 1 Axes>"
      ]
     },
     "metadata": {},
     "output_type": "display_data"
    }
   ],
   "source": [
    "# Normalize US data and mobility data for plotting\n",
    "a = [0]*len(scat_us)\n",
    "amin, amax = min(scat_us), max(scat_us)\n",
    "for i, val in enumerate(scat_us):\n",
    "    a[i] = ((val-amin) / (amax-amin))*100\n",
    "\n",
    "# Plot data on curves\n",
    "days = 136\n",
    "t = np.linspace(0, days, days)\n",
    "fig = plt.figure(facecolor='w')\n",
    "ax = fig.add_subplot(111, facecolor='#dddddd', axisbelow=True)\n",
    "ax.plot(t, a, 'b', alpha=0.5, lw=2, label='US Cases')\n",
    "ax.plot(t, mobility_car_us, 'r', alpha=0.5, lw=2, label='Car Mobility')\n",
    "ax.plot(t, mobility_walk_us, alpha=0.5, lw=2, label='Walk Mobility')\n",
    "ax.plot(t, mobility_trans_us, alpha=0.5, lw=2, label='Transit Mobility')\n",
    "ax.plot(t, usEcon, 'g', alpha=0.5, lw=2, label='Economic Response')\n",
    "ax.plot(t, usGov, 'y', alpha=0.5, lw=2, label='Government Response')\n",
    "ax.plot(t, usHealth, 'r', alpha=0.5, lw=2, label='Health Response')\n",
    "ax.plot(t, usString, 'm', alpha=0.5, lw=2, label='Stringency')\n",
    "ax.set_xlabel('Time (days)')\n",
    "ax.set_ylabel('Normalized Value')\n",
    "ax.set_title(\"Mobility and Policy Data Against Normalized US Infection Data\")\n",
    "ax.yaxis.set_tick_params(length=0)\n",
    "ax.xaxis.set_tick_params(length=0)\n",
    "ax.grid(b=True, which='major', c='w', lw=2, ls='-')\n",
    "legend = ax.legend()\n",
    "legend.get_frame().set_alpha(0.5)\n",
    "for spine in ('top', 'right', 'bottom', 'left'):\n",
    "    ax.spines[spine].set_visible(False)\n",
    "plt.show()"
   ]
  },
  {
   "cell_type": "code",
   "execution_count": 98,
   "metadata": {},
   "outputs": [
    {
     "name": "stdout",
     "output_type": "stream",
     "text": [
      "[  0.55024918   0.14168577  -0.24940132  -5.22919552 -31.37044624\n",
      "  39.49450902  -1.05956546]\n",
      "[ -0.42526565   0.07861073  -0.56308433   3.16319512  18.27060348\n",
      " -23.95451648   0.76968015]\n"
     ]
    }
   ],
   "source": [
    "from sklearn import linear_model\n",
    "\n",
    "regr = linear_model.LinearRegression()\n",
    "X = pd.DataFrame({'TransitMob':mobility_trans_us, 'WalkMob': mobility_walk_us, 'CarMob' : mobility_car_us, 'EconInd':usEcon, 'HealthInd':usHealth, 'GovInd':usGov, 'StringencyInd':usString})\n",
    "\n",
    "# Take the average for the missing data so there is no gap\n",
    "# Not the best method, but a workaround for now so I don't\n",
    "# need to remove May 11-12 from all the datasets\n",
    "X['CarMob'][70] = ((mobility_car_us[69]+mobility_car_us[72])/2)\n",
    "X['CarMob'][71] = ((mobility_car_us[69]+mobility_car_us[72])/2)\n",
    "X['WalkMob'][70] = ((mobility_walk_us[69]+mobility_walk_us[72])/2)\n",
    "X['WalkMob'][71] = ((mobility_walk_us[69]+mobility_walk_us[72])/2)\n",
    "X['TransitMob'][70] = ((mobility_trans_us[69]+mobility_trans_us[72])/2)\n",
    "X['TransitMob'][71] = ((mobility_trans_us[69]+mobility_trans_us[72])/2)\n",
    "\n",
    "y = a\n",
    "regr.fit(X, y)\n",
    "\n",
    "print(regr.coef_)\n",
    "\n",
    "regr2 = linear_model.LinearRegression()\n",
    "b = [0]*len(scat_us_S)\n",
    "amin, amax = min(scat_us_S), max(scat_us_S)\n",
    "for i, val in enumerate(scat_us_S):\n",
    "    b[i] = ((val-amin) / (amax-amin))*100\n",
    "y2 = b\n",
    "regr2.fit(X, y2)\n",
    "print(regr2.coef_)"
   ]
  },
  {
   "cell_type": "code",
   "execution_count": 99,
   "metadata": {},
   "outputs": [],
   "source": [
    "def reg_R0(t):\n",
    "    t = math.floor(t)\n",
    "    yHatS = regr2.predict([[X['TransitMob'][t], X['WalkMob'][t], X['CarMob'][t], usEcon[t], usHealth[t], usGov[t], usString[t]]])\n",
    "  \n",
    "    yHat = regr.predict([[X['TransitMob'][t], X['WalkMob'][t], X['CarMob'][t], usEcon[t], usHealth[t], usGov[t], usString[t]]])\n",
    "    if t == 0:\n",
    "        return r0_start\n",
    "    else:\n",
    "        dIHat = regr.predict([[X['TransitMob'][t-1], X['WalkMob'][t-1], X['CarMob'][t-1], usEcon[t-1], usHealth[t-1], usGov[t-1], usString[t-1]]])\n",
    "\n",
    "    out = ((dIHat/100 - ((rec+death)*(yHat/100))))/((yHat/100) * (yHatS/100))\n",
    "    if out < 0:\n",
    "        out = 0\n",
    "    elif out > 10:\n",
    "        out = 10\n",
    "    return out"
   ]
  },
  {
   "cell_type": "code",
   "execution_count": 101,
   "metadata": {},
   "outputs": [
    {
     "data": {
      "image/png": "[encoded data removed]",
      "text/plain": [
       "<Figure size 432x288 with 1 Axes>"
      ]
     },
     "metadata": {},
     "output_type": "display_data"
    }
   ],
   "source": [
    "# Plot the dynamic R0 value\n",
    "dyn_r0 = [reg_R0(i) for i in range(len(t))]\n",
    "\n",
    "from statsmodels.nonparametric.smoothers_lowess import lowess as lowess\n",
    "t = list(range(0,130,1))\n",
    "\n",
    "ss1 = lowess(dyn_r0, t, frac=0.12)\n",
    "#print(ss1[:10,:]) # We get back smoothed y value for each x value in the data\n",
    "\n",
    "plot_r0 = []\n",
    "for i in ss1:\n",
    "    plot_r0.append(i[1])\n",
    "\n",
    "# Plot data on curves\n",
    "fig = plt.figure(facecolor='w')\n",
    "ax = fig.add_subplot(111, facecolor='#dddddd', axisbelow=True)\n",
    "ax.plot(t, plot_r0, 'b', alpha=0.5, lw=2, label='R0')\n",
    "\n",
    "ax.set_xlabel('Time')\n",
    "ax.set_ylabel('Value')\n",
    "ax.yaxis.set_tick_params(length=0)\n",
    "ax.xaxis.set_tick_params(length=0)\n",
    "ax.grid(b=True, which='major', c='w', lw=2, ls='-')\n",
    "legend = ax.legend()\n",
    "legend.get_frame().set_alpha(0.5)\n",
    "for spine in ('top', 'right', 'bottom', 'left'):\n",
    "    ax.spines[spine].set_visible(False)\n",
    "plt.show()"
   ]
  },
  {
   "cell_type": "markdown",
   "metadata": {},
   "source": [
    "If there's an exog/edog error in the cell above, try rerunning."
   ]
  },
  {
   "cell_type": "code",
   "execution_count": 102,
   "metadata": {},
   "outputs": [
    {
     "data": {
      "image/png": "[encoded data removed]",
      "text/plain": [
       "<Figure size 468x288 with 1 Axes>"
      ]
     },
     "metadata": {
      "needs_background": "light"
     },
     "output_type": "display_data"
    }
   ],
   "source": [
    "from scipy.interpolate import CubicSpline\n",
    "import matplotlib.pyplot as plt\n",
    "\n",
    "x = np.arange(len(plot_r0))\n",
    "y = plot_r0\n",
    "\n",
    "cs = CubicSpline(x, y)\n",
    "xs = np.arange(0, 140, 0.1)\n",
    "plt.figure(figsize=(6.5, 4))\n",
    "plt.plot(x, y, 'o', label='True Rt Points')\n",
    "plt.plot(xs, cs(xs), label=\"Spline Fit\")\n",
    "plt.legend(loc='lower left', ncol=2)\n",
    "plt.show()"
   ]
  },
  {
   "cell_type": "markdown",
   "metadata": {},
   "source": [
    "# Run SIRD Model Using $R_t$ Value"
   ]
  },
  {
   "cell_type": "code",
   "execution_count": 103,
   "metadata": {},
   "outputs": [
    {
     "name": "stdout",
     "output_type": "stream",
     "text": [
      "Parameters([('rec', <Parameter 'rec', value=0.05 +/- 0.0631, bounds=[0:0.4]>), ('death', <Parameter 'death', value=0.014500000000000002 +/- 0.158, bounds=[0:0.4]>)])\n"
     ]
    }
   ],
   "source": [
    "x = np.arange(len(plot_r0))\n",
    "y = plot_r0\n",
    "cs = CubicSpline(x, y)\n",
    "\n",
    "def beta_func(t, recov, dea):\n",
    "    return cs(t)*(recov+dea)\n",
    "\n",
    "# Run SIRD for US\n",
    "N = popUS\n",
    "I0 = 100\n",
    "R0 = 0\n",
    "D0 = 0\n",
    "S0 = N - I0 - R0 - D0\n",
    "\n",
    "days = 129\n",
    "rec = 0.05\n",
    "death = 0.0145\n",
    "\n",
    "# Init parameters for optimization\n",
    "params = Parameters()\n",
    "params.add('rec', value=rec, min=0, max=0.4)\n",
    "params.add('death', value=death, min=0, max=0.4)\n",
    "\n",
    "t = np.linspace(0, days, days)\n",
    "\n",
    "y0 = S0, I0, R0, D0\n",
    "\n",
    "# Integrate equations over t\n",
    "def ode_sol(t, init, params, beta_func):\n",
    "\n",
    "    rec, death = params['rec'].value, params['death'].value\n",
    "    out = odeint(SIRD, init, t, args=(beta_func, rec, death))\n",
    "    return out\n",
    "\n",
    "def error(param, init, tspan, data, beta_func):\n",
    "    sol = ode_sol(tspan, init, param, beta_func)\n",
    "\n",
    "    return (sol[:, 0:4] - data).ravel()\n",
    "\n",
    "data =  usa[0:days]\n",
    "init = [S0, I0, R0, D0]\n",
    "tspan = np.arange(0, days, 1)\n",
    "result = minimize(error, params, args=(y0, tspan, data, beta_func), method='leastsq')\n",
    "res = ode_sol(t, y0, result.params, beta_func)\n",
    "S, I, R, D = res.T\n",
    "print(result.params)"
   ]
  },
  {
   "cell_type": "code",
   "execution_count": 104,
   "metadata": {},
   "outputs": [],
   "source": [
    "# Plot daily cases for United States\n",
    "days = 129\n",
    "printUSS = [0]*days\n",
    "printUSI = [0]*days\n",
    "printUSR = [0]*days\n",
    "printUSD = [0]*days\n",
    "k=0\n",
    "\n",
    "for i in usa[0:129]:\n",
    "    printUSS[k] = i[0]/1000000\n",
    "    printUSI[k] = i[1]/1000\n",
    "    printUSR[k] = i[2]/1000\n",
    "    printUSD[k] = i[3]/1000\n",
    "    k+=1"
   ]
  },
  {
   "cell_type": "code",
   "execution_count": 105,
   "metadata": {},
   "outputs": [
    {
     "data": {
      "image/png": "[encoded data removed]",
      "text/plain": [
       "<Figure size 432x288 with 1 Axes>"
      ]
     },
     "metadata": {},
     "output_type": "display_data"
    }
   ],
   "source": [
    "# Plot data on curves\n",
    "fig = plt.figure(facecolor='w')\n",
    "ax = fig.add_subplot(111, facecolor='#dddddd', axisbelow=True)\n",
    "ax.plot(t, S/1000000, 'b', alpha=0.5, lw=2, label='Susceptible')\n",
    "ax.plot(t, I/1000, 'r', alpha=0.5, lw=2, label='Infected')\n",
    "ax.plot(t, R/1000, 'g', alpha=0.5, lw=2, label='Recovered with immunity')\n",
    "ax.plot(t, D/1000, 'y', alpha=0.5, lw=2, label='Deaths')\n",
    "ax.plot(t, printUSS, 'p', alpha=0.5, lw=2, label='Recorded Cumulative Susceptible')\n",
    "ax.plot(t, printUSI, 'p', alpha=0.5, lw=2, label='Recorded Daily Cases')\n",
    "ax.plot(t, printUSR, 'p', alpha=0.5, lw=2, label='Recorded Cumulative Recoveries')\n",
    "ax.plot(t, printUSD, 'p', alpha=0.5, lw=2, label='Recorded Cumulative Deaths')\n",
    "ax.set_xlabel('Time (days)')\n",
    "ax.set_ylabel('Number (thousands)')\n",
    "ax.set_ylim(0,400)\n",
    "ax.yaxis.set_tick_params(length=0)\n",
    "ax.xaxis.set_tick_params(length=0)\n",
    "ax.grid(b=True, which='major', c='w', lw=2, ls='-')\n",
    "legend = ax.legend()\n",
    "legend.get_frame().set_alpha(0.5)\n",
    "for spine in ('top', 'right', 'bottom', 'left'):\n",
    "    ax.spines[spine].set_visible(False)\n",
    "plt.show()"
   ]
  },
  {
   "cell_type": "markdown",
   "metadata": {},
   "source": [
    "# Using $R_t$ From Rt.Live"
   ]
  },
  {
   "cell_type": "code",
   "execution_count": 106,
   "metadata": {},
   "outputs": [],
   "source": [
    "def SIRD(y, t, beta_func, rec, death):\n",
    "    S, I, R, D = y\n",
    "    N = S+I+R+D\n",
    "    # Ordinary differential equations\n",
    "    dS = (-beta_func(t, rec, death) * S * I)/N\n",
    "    dI = ((beta_func(t, rec, death) * S * I)/N) - ((rec+death) * I)\n",
    "    dR = rec * I\n",
    "    dD = death * I\n",
    "    return(dS, dI, dR, dD)"
   ]
  },
  {
   "cell_type": "code",
   "execution_count": 107,
   "metadata": {},
   "outputs": [],
   "source": [
    "# Integrate equations over t\n",
    "def ode_sol(t, init, params, beta_func):\n",
    "\n",
    "    rec, death = params['rec'].value, params['death'].value\n",
    "    out = odeint(SIRD, init, t, args=(beta_func, rec, death))\n",
    "    return out"
   ]
  },
  {
   "cell_type": "code",
   "execution_count": 108,
   "metadata": {},
   "outputs": [],
   "source": [
    "rt = pd.read_csv(\"rt.csv\")\n",
    "states = list(set(rt.region))\n",
    "states.pop(30)\n",
    "\n",
    "# Run SIRD for US\n",
    "N = popUS\n",
    "I0 = 10\n",
    "R0 = 0\n",
    "D0 = 0\n",
    "S0 = N - I0 - R0 - D0\n",
    "\n",
    "y0 = S0, I0, R0, D0 \n",
    "\n",
    "rec = 0.05\n",
    "death = 0.0145\n",
    "\n",
    "# Init parameters for optimization\n",
    "params = Parameters()\n",
    "params.add('rec', value=rec, min=0, max=0.4)\n",
    "params.add('death', value=death, min=0, max=0.4)"
   ]
  },
  {
   "cell_type": "code",
   "execution_count": 109,
   "metadata": {},
   "outputs": [],
   "source": [
    "def error(param, init, tspan, data, beta_func):\n",
    "    sol = ode_sol(tspan, init, param, beta_func)\n",
    "\n",
    "    return (sol[:, 0:4] - data).ravel()"
   ]
  },
  {
   "cell_type": "code",
   "execution_count": 110,
   "metadata": {},
   "outputs": [],
   "source": [
    "stat_abrev = {\n",
    "        'AK': 'Alaska',\n",
    "        'AL': 'Alabama',\n",
    "        'AR': 'Arkansas',\n",
    "        'AS': 'American Samoa',\n",
    "        'AZ': 'Arizona',\n",
    "        'CA': 'California',\n",
    "        'CO': 'Colorado',\n",
    "        'CT': 'Connecticut',\n",
    "        'DC': 'District of Columbia',\n",
    "        'DE': 'Delaware',\n",
    "        'FL': 'Florida',\n",
    "        'GA': 'Georgia',\n",
    "        'GU': 'Guam',\n",
    "        'HI': 'Hawaii',\n",
    "        'IA': 'Iowa',\n",
    "        'ID': 'Idaho',\n",
    "        'IL': 'Illinois',\n",
    "        'IN': 'Indiana',\n",
    "        'KS': 'Kansas',\n",
    "        'KY': 'Kentucky',\n",
    "        'LA': 'Louisiana',\n",
    "        'MA': 'Massachusetts',\n",
    "        'MD': 'Maryland',\n",
    "        'ME': 'Maine',\n",
    "        'MI': 'Michigan',\n",
    "        'MN': 'Minnesota',\n",
    "        'MO': 'Missouri',\n",
    "        'MP': 'Northern Mariana Islands',\n",
    "        'MS': 'Mississippi',\n",
    "        'MT': 'Montana',\n",
    "        'NA': 'National',\n",
    "        'NC': 'North Carolina',\n",
    "        'ND': 'North Dakota',\n",
    "        'NE': 'Nebraska',\n",
    "        'NH': 'New Hampshire',\n",
    "        'NJ': 'New Jersey',\n",
    "        'NM': 'New Mexico',\n",
    "        'NV': 'Nevada',\n",
    "        'NY': 'New York',\n",
    "        'OH': 'Ohio',\n",
    "        'OK': 'Oklahoma',\n",
    "        'OR': 'Oregon',\n",
    "        'PA': 'Pennsylvania',\n",
    "        'PR': 'Puerto Rico',\n",
    "        'RI': 'Rhode Island',\n",
    "        'SC': 'South Carolina',\n",
    "        'SD': 'South Dakota',\n",
    "        'TN': 'Tennessee',\n",
    "        'TX': 'Texas',\n",
    "        'UT': 'Utah',\n",
    "        'VA': 'Virginia',\n",
    "        'VI': 'Virgin Islands',\n",
    "        'VT': 'Vermont',\n",
    "        'WA': 'Washington',\n",
    "        'WI': 'Wisconsin',\n",
    "        'WV': 'West Virginia',\n",
    "        'WY': 'Wyoming'\n",
    "}"
   ]
  },
  {
   "cell_type": "code",
   "execution_count": 111,
   "metadata": {},
   "outputs": [
    {
     "name": "stdout",
     "output_type": "stream",
     "text": [
      "[0, 0, 0, 0, 0, 0, 1, 0, 0, 0, 1, 0, 3, 0, 7, 0, 1, 9, 7, 20, 3, 23, 20, 30, 33, 26, 27, 24, 21, 37, 28, 17, 51, 72, 51, 31, 32, 30, 23, 51, 32, 16, 21, 4, 7, 15, 5, 24, 10, 3, 2, 5, 2, 2, 16, 8, 4, 7, 0, 4, 13, 7, 11, 5, 5, 1, 8, 3, 2, 6, -1, 1, 2, 3, 1, 1, 6, 0, 4, 0, 6, 2, 2, 2, 6, 5, 4, 3, 1, 2, 4, 2, 5, 2, 36, 1, 19, 17, 12, 9, 11, 15, 9, 6, 2, 1, 3, -1, 5, 9, 3, 12, 4, 1, 20, 7, 7, 2, 2, 6, 0, 2, 17, 9, 2, 11, 2, 3, 2, 16, 5, 6, 13, 5, 4, 13]\n"
     ]
    }
   ],
   "source": [
    "stat_dat = []\n",
    "\n",
    "for j in states:\n",
    "    tempCases = df.loc[(df['Province_State'] == stat_abrev[j])]\n",
    "    tempDeaths = dfDeaths.loc[(dfDeaths['Province_State'] == stat_abrev[j])]\n",
    "\n",
    "    x = []\n",
    "    k=0\n",
    "    tempI = 0\n",
    "    tempD = 0\n",
    "    tempR = 0\n",
    "    for i in dates:\n",
    "        usaI = sum(tempCases[i]) - tempI\n",
    "        usaD = sum(tempDeaths[i]) - tempD\n",
    "        # Cumulative deaths, daily cases\n",
    "        tempusaI = sum(tempCases[i])\n",
    "        tempusaD = sum(tempDeaths[i])\n",
    "        insert = usaI\n",
    "        x.append(insert)\n",
    "        tempI = tempusaI\n",
    "        tempD = tempusaD\n",
    "        k += 1 \n",
    "\n",
    "    stat_dat.append(x) \n",
    "    \n",
    "print(stat_dat[0])"
   ]
  },
  {
   "cell_type": "markdown",
   "metadata": {},
   "source": [
    "# Calculate US $R_t$ Based Off Proportions of Cases"
   ]
  },
  {
   "cell_type": "code",
   "execution_count": 112,
   "metadata": {},
   "outputs": [],
   "source": [
    "proportions = {}\n",
    "for h in states:\n",
    "    proportions[h] = []\n",
    "\n",
    "# Calculate the proportions of cases from each state\n",
    "p = 0\n",
    "for m in states:\n",
    "    scat_us = [0]*len(dates)\n",
    "    k=0\n",
    "    for i in usa:\n",
    "        x = stat_dat[p][k]/i[1]\n",
    "        k=k+1\n",
    "        proportions[m].append(x)\n",
    "        \n",
    "    p = p + 1"
   ]
  },
  {
   "cell_type": "code",
   "execution_count": 113,
   "metadata": {},
   "outputs": [],
   "source": [
    "# Now we must the find weight average of Rt value for each state\n",
    "us_rt = [0]*len(usa)\n",
    "for t in range(len(states)):\n",
    "    z = rt[rt[\"region\"] == states[t]]\n",
    "    \n",
    "    q = 0\n",
    "    for g in z['mean']:\n",
    "        if q > 135:\n",
    "            break\n",
    "        us_rt[q] = us_rt[q] + (g * proportions[states[t]][q])\n",
    "        q = q + 1\n",
    "        \n",
    "for v in us_rt:\n",
    "    v = v/50"
   ]
  },
  {
   "cell_type": "markdown",
   "metadata": {},
   "source": [
    "### US $R_t$ Curve"
   ]
  },
  {
   "cell_type": "code",
   "execution_count": 114,
   "metadata": {},
   "outputs": [
    {
     "data": {
      "image/png": "[encoded data removed]",
      "text/plain": [
       "<Figure size 432x288 with 1 Axes>"
      ]
     },
     "metadata": {},
     "output_type": "display_data"
    }
   ],
   "source": [
    "# Plot data on curves\n",
    "t = list(range(0,136,1))\n",
    "fig = plt.figure(facecolor='w')\n",
    "ax = fig.add_subplot(111, facecolor='#dddddd', axisbelow=True)\n",
    "ax.plot(t, us_rt, 'b', alpha=0.5, lw=2, label='$R_t$')\n",
    "\n",
    "ax.set_xlabel('Time')\n",
    "ax.set_ylabel('Value')\n",
    "ax.set_title(\"Dynamic $R_t$ Value\")\n",
    "ax.yaxis.set_tick_params(length=0)\n",
    "ax.xaxis.set_tick_params(length=0)\n",
    "ax.grid(b=True, which='major', c='w', lw=2, ls='-')\n",
    "legend = ax.legend()\n",
    "legend.get_frame().set_alpha(0.5)\n",
    "for spine in ('top', 'right', 'bottom', 'left'):\n",
    "    ax.spines[spine].set_visible(False)\n",
    "plt.show()"
   ]
  },
  {
   "cell_type": "markdown",
   "metadata": {},
   "source": [
    "# Generate CSV Predictions"
   ]
  },
  {
   "cell_type": "code",
   "execution_count": 115,
   "metadata": {},
   "outputs": [
    {
     "name": "stdout",
     "output_type": "stream",
     "text": [
      "Parameters([('rec', <Parameter 'rec', value=0.05, bounds=[0:0.4]>), ('death', <Parameter 'death', value=0.0145, bounds=[0:0.4]>)])\n"
     ]
    }
   ],
   "source": [
    "from scipy.interpolate import CubicSpline\n",
    "\n",
    "# Use a spline fit algorithm to allow for continuous t inputs\n",
    "x = np.arange(len(us_rt))\n",
    "y = us_rt\n",
    "cs = CubicSpline(x, y)\n",
    "\n",
    "def beta_func(t, recov, dea):\n",
    "    return cs(t)*(recov+dea)\n",
    "\n",
    "print(params)"
   ]
  },
  {
   "cell_type": "markdown",
   "metadata": {},
   "source": [
    "Warning! The following two cells can take 10 to 30 minutes to run combined. It will print a decimal progress indicator, where 1 represents complete."
   ]
  },
  {
   "cell_type": "code",
   "execution_count": 116,
   "metadata": {
    "scrolled": true
   },
   "outputs": [
    {
     "name": "stdout",
     "output_type": "stream",
     "text": [
      "Progress: 0.03, 0.05, 0.08, 0.11, 0.13, 0.16, 0.18, 0.21, 0.24, 0.26, 0.29, 0.32, 0.34, 0.37, 0.39, 0.42, 0.45, 0.47, 0.5, 0.53, 0.55, 0.58, 0.61, 0.63, 0.66, 0.68, 0.71, 0.74, 0.76, 0.79, 0.82, 0.84, 0.87, 0.89, 0.92, 0.95, 0.97, 1.0, "
     ]
    }
   ],
   "source": [
    "# Fit model to United States with different prediction start dates\n",
    "\n",
    "I0 = 100\n",
    "R0 = 0\n",
    "N0 = popUS\n",
    "D0 = 0\n",
    "S0 = N0 - I0 - R0 - D0\n",
    "init = [S0, I0, R0, D0]\n",
    "\n",
    "# Init empty predictions dictionary\n",
    "predictions = {}\n",
    "\n",
    "print(\"Progress: \", end=\"\")\n",
    "for i in range(91, len(dates)-7):\n",
    "    days = i\n",
    "    tspan = np.arange(0, days, 1)\n",
    "    data =  usa[0:days]\n",
    "    \n",
    "    print(round((i-90)/(45-7), 2), end=\", \")\n",
    "    # Fit the model\n",
    "    result = minimize(error, params, args=(init, tspan, data, beta_func), method='leastsq')\n",
    "    \n",
    "    days = i + 7\n",
    "    t = np.linspace(0, days, days)\n",
    "    \n",
    "    y0 = S0, I0, R0, D0\n",
    "    res = ode_sol(t, y0, result.params, beta_func)\n",
    "    S, I, R, D = res.T\n",
    "    \n",
    "    # Add these prediction infected values into dictionary\n",
    "    predictions[dates[i]] = I[(days-7):days]"
   ]
  },
  {
   "cell_type": "code",
   "execution_count": 117,
   "metadata": {},
   "outputs": [
    {
     "name": "stdout",
     "output_type": "stream",
     "text": [
      "Progress: 0.03, 0.06, 0.1, 0.13, 0.16, 0.19, 0.23, 0.26, 0.29, 0.32, 0.35, 0.39, 0.42, 0.45, 0.48, 0.52, 0.55, 0.58, 0.61, 0.65, 0.68, 0.71, 0.74, 0.77, 0.81, 0.84, 0.87, 0.9, 0.94, 0.97, 1.0, "
     ]
    }
   ],
   "source": [
    "predic_2 = {}\n",
    "\n",
    "print(\"Progress: \", end=\"\")\n",
    "for i in range(91, len(dates)-14):\n",
    "    days = i\n",
    "    tspan = np.arange(0, days, 1)\n",
    "    data =  usa[0:days]\n",
    "\n",
    "    print(round((i-90)/(45-14), 2), end=\", \")\n",
    "    # Fit the model\n",
    "    result = minimize(error, params, args=(init, tspan, data, beta_func), method='leastsq')\n",
    "    \n",
    "    days = i + 14\n",
    "    t = np.linspace(0, days, days)\n",
    "\n",
    "    y0 = S0, I0, R0, D0\n",
    "    res = ode_sol(t, y0, result.params, beta_func)\n",
    "    S, I, R, D = res.T\n",
    "\n",
    "    # Add these prediction infected values into dictionary\n",
    "    predic_2[dates[i]] = I[(days-14):days]"
   ]
  },
  {
   "cell_type": "markdown",
   "metadata": {},
   "source": [
    "### Visualization of Spline Fit of $R_t$ Values"
   ]
  },
  {
   "cell_type": "code",
   "execution_count": 280,
   "metadata": {},
   "outputs": [
    {
     "data": {
      "image/png": "[encoded data removed]",
      "text/plain": [
       "<Figure size 468x288 with 1 Axes>"
      ]
     },
     "metadata": {
      "needs_background": "light"
     },
     "output_type": "display_data"
    }
   ],
   "source": [
    "from scipy.interpolate import CubicSpline\n",
    "import matplotlib.pyplot as plt\n",
    "\n",
    "x = np.arange(len(us_rt))\n",
    "y = us_rt\n",
    "\n",
    "cs = CubicSpline(x, y)\n",
    "xs = np.arange(0, 136, 0.1)\n",
    "plt.figure(figsize=(6.5, 4))\n",
    "plt.xlabel(\"Time\")\n",
    "plt.ylabel(\"$R_t$\")\n",
    "plt.title(\"Spline Fitted $R_e(t)$\")\n",
    "plt.plot(x, y, 'o', label='True Rt Points')\n",
    "plt.plot(xs, cs(xs), label=\"Spline Fit\")\n",
    "plt.legend(loc='upper right', ncol=2)\n",
    "plt.show()"
   ]
  },
  {
   "cell_type": "markdown",
   "metadata": {},
   "source": [
    "### Place Data into Correct CSVs"
   ]
  },
  {
   "cell_type": "code",
   "execution_count": 73,
   "metadata": {},
   "outputs": [],
   "source": [
    "from datetime import datetime\n",
    "\n",
    "# Put all the data into the desired format\n",
    "quant = []\n",
    "loca = []\n",
    "targ = []\n",
    "forc = []\n",
    "poin = []\n",
    "end_date = []\n",
    "keys = []\n",
    "keys_2 = []\n",
    "\n",
    "for key, value in predictions.items():\n",
    "    keys.append(key)\n",
    "    \n",
    "for key, value in predic_2.items():\n",
    "    keys_2.append(key)\n",
    "\n",
    "forc_keys = keys + [\"7/16/20\", \"7/17/20\", \"7/18/20\", \"7/19/20\", \"7/20/20\", \"7/21/20\", \"7/22/20\"]\n",
    "forc_keys_2 = keys + [\"7/16/20\", \"7/17/20\", \"7/18/20\", \"7/19/20\", \"7/20/20\", \"7/21/20\", \"7/22/20\",\"7/23/20\", \"7/24/20\", \"7/25/20\", \"7/26/20\", \"7/27/20\", \"7/28/20\", \"7/29/20\"]\n",
    "    \n",
    "# Loop through and situate everything correctly\n",
    "j = 0\n",
    "for i in range(len(keys)):\n",
    "    x = datetime.strptime(keys[i], '%m/%d/%y')\n",
    "    forc_date = x.strftime('%Y-%m-%d')\n",
    "    point_date = keys[i]\n",
    "    for k in range(7):\n",
    "        quant.append(\"NA\")\n",
    "        loca.append(\"US\")\n",
    "        targ.append(\"1 wk ahead inc case\")\n",
    "        forc.append(forc_date)\n",
    "        # Make sure point predictions are end dates are iterated\n",
    "        poin.append(predictions[point_date][k])\n",
    "        y = datetime.strptime(forc_keys[j+k], '%m/%d/%y')\n",
    "        end_date.append(y.strftime('%Y-%m-%d'))\n",
    "    \n",
    "    if i < len(keys_2):\n",
    "        for s in range(14):\n",
    "            quant.append(\"NA\")\n",
    "            loca.append(\"US\")\n",
    "            targ.append(\"2 wk ahead inc case\")\n",
    "            forc.append(forc_date)\n",
    "            # Make sure point predictions are end dates are iterated\n",
    "            poin.append(predic_2[point_date][s])\n",
    "            y = datetime.strptime(forc_keys_2[j+s], '%m/%d/%y')\n",
    "            end_date.append(y.strftime('%Y-%m-%d'))\n",
    "\n",
    "    j = j + 1\n",
    "        \n",
    "# Instantiate the output CSV dictionary\n",
    "output_csv = {\"location\" : loca, \n",
    "              \"target\" : targ,\n",
    "             \"target_end_date\" : end_date,\n",
    "             \"forecast_date\" : forc,\n",
    "             \"point\" : poin,\n",
    "             \"quantile\" : quant}\n",
    "\n",
    "# convert to pandas dataframe for easy transfer to CSV\n",
    "out = pd.DataFrame(output_csv)"
   ]
  },
  {
   "cell_type": "code",
   "execution_count": 74,
   "metadata": {},
   "outputs": [],
   "source": [
    "# Iterate through and create separate CSV files for each forecast date\n",
    "# Also reformat dates to correct format\n",
    "for i in dates[91:len(dates)]:\n",
    "    z = datetime.strptime(i, '%m/%d/%y')\n",
    "    z_date = z.strftime('%Y-%m-%d')\n",
    "    to_file = out[out[\"forecast_date\"] == z_date]\n",
    "    to_file.to_csv(f'{z_date}-SIRD-rt-live.csv', index=False) "
   ]
  },
  {
   "cell_type": "code",
   "execution_count": 84,
   "metadata": {},
   "outputs": [
    {
     "data": {
      "text/html": [
       "<div>\n",
       "<style scoped>\n",
       "    .dataframe tbody tr th:only-of-type {\n",
       "        vertical-align: middle;\n",
       "    }\n",
       "\n",
       "    .dataframe tbody tr th {\n",
       "        vertical-align: top;\n",
       "    }\n",
       "\n",
       "    .dataframe thead th {\n",
       "        text-align: right;\n",
       "    }\n",
       "</style>\n",
       "<table border=\"1\" class=\"dataframe\">\n",
       "  <thead>\n",
       "    <tr style=\"text-align: right;\">\n",
       "      <th></th>\n",
       "      <th>location</th>\n",
       "      <th>target</th>\n",
       "      <th>target_end_date</th>\n",
       "      <th>forecast_date</th>\n",
       "      <th>point</th>\n",
       "      <th>quantile</th>\n",
       "    </tr>\n",
       "  </thead>\n",
       "  <tbody>\n",
       "    <tr>\n",
       "      <th>672</th>\n",
       "      <td>US</td>\n",
       "      <td>1 wk ahead inc case</td>\n",
       "      <td>2020-07-05</td>\n",
       "      <td>2020-07-05</td>\n",
       "      <td>22327.145717</td>\n",
       "      <td>NA</td>\n",
       "    </tr>\n",
       "    <tr>\n",
       "      <th>673</th>\n",
       "      <td>US</td>\n",
       "      <td>1 wk ahead inc case</td>\n",
       "      <td>2020-07-06</td>\n",
       "      <td>2020-07-05</td>\n",
       "      <td>22102.907072</td>\n",
       "      <td>NA</td>\n",
       "    </tr>\n",
       "    <tr>\n",
       "      <th>674</th>\n",
       "      <td>US</td>\n",
       "      <td>1 wk ahead inc case</td>\n",
       "      <td>2020-07-07</td>\n",
       "      <td>2020-07-05</td>\n",
       "      <td>21958.667253</td>\n",
       "      <td>NA</td>\n",
       "    </tr>\n",
       "    <tr>\n",
       "      <th>675</th>\n",
       "      <td>US</td>\n",
       "      <td>1 wk ahead inc case</td>\n",
       "      <td>2020-07-08</td>\n",
       "      <td>2020-07-05</td>\n",
       "      <td>21734.952279</td>\n",
       "      <td>NA</td>\n",
       "    </tr>\n",
       "    <tr>\n",
       "      <th>676</th>\n",
       "      <td>US</td>\n",
       "      <td>1 wk ahead inc case</td>\n",
       "      <td>2020-07-16</td>\n",
       "      <td>2020-07-05</td>\n",
       "      <td>21501.401584</td>\n",
       "      <td>NA</td>\n",
       "    </tr>\n",
       "    <tr>\n",
       "      <th>677</th>\n",
       "      <td>US</td>\n",
       "      <td>1 wk ahead inc case</td>\n",
       "      <td>2020-07-17</td>\n",
       "      <td>2020-07-05</td>\n",
       "      <td>21226.710576</td>\n",
       "      <td>NA</td>\n",
       "    </tr>\n",
       "    <tr>\n",
       "      <th>678</th>\n",
       "      <td>US</td>\n",
       "      <td>1 wk ahead inc case</td>\n",
       "      <td>2020-07-18</td>\n",
       "      <td>2020-07-05</td>\n",
       "      <td>20911.597142</td>\n",
       "      <td>NA</td>\n",
       "    </tr>\n",
       "  </tbody>\n",
       "</table>\n",
       "</div>"
      ],
      "text/plain": [
       "    location               target target_end_date forecast_date         point  \\\n",
       "672       US  1 wk ahead inc case      2020-07-05    2020-07-05  22327.145717   \n",
       "673       US  1 wk ahead inc case      2020-07-06    2020-07-05  22102.907072   \n",
       "674       US  1 wk ahead inc case      2020-07-07    2020-07-05  21958.667253   \n",
       "675       US  1 wk ahead inc case      2020-07-08    2020-07-05  21734.952279   \n",
       "676       US  1 wk ahead inc case      2020-07-16    2020-07-05  21501.401584   \n",
       "677       US  1 wk ahead inc case      2020-07-17    2020-07-05  21226.710576   \n",
       "678       US  1 wk ahead inc case      2020-07-18    2020-07-05  20911.597142   \n",
       "\n",
       "    quantile  \n",
       "672       NA  \n",
       "673       NA  \n",
       "674       NA  \n",
       "675       NA  \n",
       "676       NA  \n",
       "677       NA  \n",
       "678       NA  "
      ]
     },
     "execution_count": 84,
     "metadata": {},
     "output_type": "execute_result"
    }
   ],
   "source": [
    "# Example of one of the CSV files\n",
    "out[out[\"forecast_date\"] == \"2020-07-05\"]"
   ]
  },
  {
   "cell_type": "code",
   "execution_count": null,
   "metadata": {},
   "outputs": [],
   "source": []
  }
 ],
 "metadata": {
  "kernelspec": {
   "display_name": "Python 3",
   "language": "python",
   "name": "python3"
  },
  "language_info": {
   "codemirror_mode": {
    "name": "ipython",
    "version": 3
   },
   "file_extension": ".py",
   "mimetype": "text/x-python",
   "name": "python",
   "nbconvert_exporter": "python",
   "pygments_lexer": "ipython3",
   "version": "3.7.3"
  }
 },
 "nbformat": 4,
 "nbformat_minor": 4
}
