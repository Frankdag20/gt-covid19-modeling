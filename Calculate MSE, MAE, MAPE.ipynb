{
 "cells": [
  {
   "cell_type": "code",
   "execution_count": 11,
   "metadata": {},
   "outputs": [],
   "source": [
    "# import packages\n",
    "import pandas as pd\n",
    "import matplotlib.pyplot as plt\n",
    "import matplotlib.dates as mdates\n",
    "import numpy as np\n",
    "from datetime import datetime,timedelta\n",
    "from github import Github\n",
    "import os\n",
    "from os import listdir\n",
    "from os.path import isfile, join"
   ]
  },
  {
   "cell_type": "markdown",
   "metadata": {},
   "source": [
    "<h1> Calculate MSE, MAE, MAPE for all models available under \"./Prediction/\". <h1>"
   ]
  },
  {
   "cell_type": "code",
   "execution_count": 12,
   "metadata": {},
   "outputs": [],
   "source": [
    "# SE: squre error; AE: absolute error; APE: absolute percentage error\n",
    "def calculate():\n",
    "    mypath = './Predictions'\n",
    "    modelnames = listdir(mypath)\n",
    "    for model in modelnames:\n",
    "        try:\n",
    "            filename = './Predictions/' + model + '/' + model + '_cum_death.csv'\n",
    "            df_cum_death = pd.read_csv(filename)\n",
    "            df_cum_death[\"SE\"] = np.nan\n",
    "            df_cum_death[\"AE\"] = np.nan\n",
    "            df_cum_death[\"APE\"] = np.nan\n",
    "            \n",
    "            df_real_cum_death = pd.read_csv('./Ground Truth/cum_death.csv')\n",
    "            df_real_cum_death.set_index([\"Province_State\"],inplace=True)\n",
    "            \n",
    "            for index, row in df_cum_death.iterrows():\n",
    "                date = datetime.strptime(row[\"target_end_date\"], '%Y-%m-%d').date()\n",
    "                if date < datetime.date(datetime.now()):\n",
    "                    state = row[\"state\"]\n",
    "                    date = date.strftime('%Y-%m-%d')\n",
    "                    error = df_real_cum_death.loc[state,date]-row[\"mean\"]\n",
    "                    df_cum_death.at[index,\"SE\"] = error**2\n",
    "                    df_cum_death.at[index,\"AE\"] = abs(error)\n",
    "                    df_cum_death.at[index,\"APE\"] = abs(error/df_real_cum_death.loc[state][date])\n",
    "                    \n",
    "            df_cum_death.to_csv(filename,index=False)\n",
    "        except FileNotFoundError: \n",
    "            print(model + \" do not predict cum death.\")\n",
    "            \n",
    "        try:\n",
    "            filename = './Predictions/' + model + '/' + model + '_inc_death.csv'\n",
    "            df_inc_death = pd.read_csv(filename)\n",
    "            df_inc_death[\"SE\"] = np.nan\n",
    "            df_inc_death[\"AE\"] = np.nan\n",
    "            df_inc_death[\"APE\"] = np.nan\n",
    "\n",
    "            df_real_inc_death = pd.read_csv('./Ground Truth/inc_death.csv')\n",
    "            df_real_inc_death.set_index([\"Province_State\"],inplace=True)\n",
    "\n",
    "            for index, row in df_inc_death.iterrows():\n",
    "                date = datetime.strptime(row[\"target_end_date\"], '%Y-%m-%d').date()\n",
    "                if date < datetime.date(datetime.now()):\n",
    "                    state = row[\"state\"]\n",
    "                    date = date.strftime('%Y-%m-%d')\n",
    "                    error = df_real_inc_death.loc[state,date]-row[\"mean\"]\n",
    "                    df_inc_death.at[index,\"SE\"] = error**2\n",
    "                    df_inc_death.at[index,\"AE\"] = abs(error)\n",
    "                    df_inc_death.at[index,\"APE\"] = abs(error/df_real_inc_death.loc[state][date])\n",
    "\n",
    "            df_inc_death.to_csv(filename,index=False)\n",
    "        except FileNotFoundError: \n",
    "            print(model + \" do not predict inc death.\")\n",
    "            \n",
    "        try:\n",
    "            filename = './Predictions/' + model + '/' + model + '_inc_case.csv'\n",
    "            df_inc_case = pd.read_csv(filename)\n",
    "            df_inc_case[\"SE\"] = np.nan\n",
    "            df_inc_case[\"AE\"] = np.nan\n",
    "            df_inc_case[\"APE\"] = np.nan\n",
    "            \n",
    "            df_real_inc_case = pd.read_csv('./Ground Truth/inc_case.csv')\n",
    "            df_real_inc_case.set_index([\"Province_State\"],inplace=True)\n",
    "            \n",
    "            for index, row in df_inc_case.iterrows():\n",
    "                date = datetime.strptime(row[\"target_end_date\"], '%Y-%m-%d').date()\n",
    "                if date < datetime.date(datetime.now()):\n",
    "                    state = row[\"state\"]\n",
    "                    date = date.strftime('%Y-%m-%d')\n",
    "                    error = df_real_inc_case.loc[state,date]-row[\"mean\"]\n",
    "                    df_inc_case.at[index,\"SE\"] = error**2\n",
    "                    df_inc_case.at[index,\"AE\"] = abs(error)\n",
    "                    df_inc_case.at[index,\"APE\"] = abs(error/df_real_inc_case.loc[state][date])\n",
    "                    \n",
    "            df_inc_case.to_csv(filename,index=False)\n",
    "        except FileNotFoundError: \n",
    "            print(model + \" do not predict inc death.\")\n",
    "            \n",
    "        try:\n",
    "            filename = './Predictions/' + model + '/' + model + '_cum_case.csv'\n",
    "            df_cum_case = pd.read_csv(filename)\n",
    "            df_cum_case[\"SE\"] = np.nan\n",
    "            df_cum_case[\"AE\"] = np.nan\n",
    "            df_cum_case[\"APE\"] = np.nan\n",
    "            \n",
    "            df_real_cum_case = pd.read_csv('./Ground Truth/cum_case.csv')\n",
    "            df_real_cum_case.set_index([\"Province_State\"],inplace=True)\n",
    "            \n",
    "            for index, row in df_cum_case.iterrows():\n",
    "                date = datetime.strptime(row[\"target_end_date\"], '%Y-%m-%d').date()\n",
    "                if date < datetime.date(datetime.now()):\n",
    "                    state = row[\"state\"]\n",
    "                    date = date.strftime('%Y-%m-%d')\n",
    "                    error = df_real_cum_case.loc[state,date]-row[\"mean\"]\n",
    "                    df_cum_case.at[index,\"SE\"] = error**2\n",
    "                    df_cum_case.at[index,\"AE\"] = abs(error)\n",
    "                    df_cum_case.at[index,\"APE\"] = abs(error/df_real_cum_case.loc[state][date])\n",
    "                    \n",
    "            df_cum_case.to_csv(filename,index=False)\n",
    "        except FileNotFoundError: \n",
    "            print(model + \" do not predict cum case.\")"
   ]
  },
  {
   "cell_type": "code",
   "execution_count": 13,
   "metadata": {},
   "outputs": [
    {
     "name": "stderr",
     "output_type": "stream",
     "text": [
      "<ipython-input-12-7d4f32b6d1e4>:48: RuntimeWarning: divide by zero encountered in double_scalars\n",
      "  df_inc_death.at[index,\"APE\"] = abs(error/df_real_inc_death.loc[state][date])\n",
      "<ipython-input-12-7d4f32b6d1e4>:48: RuntimeWarning: invalid value encountered in double_scalars\n",
      "  df_inc_death.at[index,\"APE\"] = abs(error/df_real_inc_death.loc[state][date])\n",
      "<ipython-input-12-7d4f32b6d1e4>:72: RuntimeWarning: divide by zero encountered in double_scalars\n",
      "  df_inc_case.at[index,\"APE\"] = abs(error/df_real_inc_case.loc[state][date])\n"
     ]
    },
    {
     "name": "stdout",
     "output_type": "stream",
     "text": [
      "OliverWyman-Navigator do not predict cum case.\n",
      "DDS-NBDS do not predict cum case.\n",
      "UVA-Ensemble do not predict cum death.\n",
      "UVA-Ensemble do not predict inc death.\n",
      "UVA-Ensemble do not predict inc death.\n",
      "UVA-Ensemble do not predict cum case.\n"
     ]
    },
    {
     "name": "stderr",
     "output_type": "stream",
     "text": [
      "<ipython-input-12-7d4f32b6d1e4>:48: RuntimeWarning: invalid value encountered in long_scalars\n",
      "  df_inc_death.at[index,\"APE\"] = abs(error/df_real_inc_death.loc[state][date])\n",
      "<ipython-input-12-7d4f32b6d1e4>:48: RuntimeWarning: divide by zero encountered in long_scalars\n",
      "  df_inc_death.at[index,\"APE\"] = abs(error/df_real_inc_death.loc[state][date])\n",
      "<ipython-input-12-7d4f32b6d1e4>:72: RuntimeWarning: divide by zero encountered in long_scalars\n",
      "  df_inc_case.at[index,\"APE\"] = abs(error/df_real_inc_case.loc[state][date])\n",
      "<ipython-input-12-7d4f32b6d1e4>:24: RuntimeWarning: invalid value encountered in double_scalars\n",
      "  df_cum_death.at[index,\"APE\"] = abs(error/df_real_cum_death.loc[state][date])\n"
     ]
    },
    {
     "name": "stdout",
     "output_type": "stream",
     "text": [
      "CU-nochange do not predict cum case.\n"
     ]
    },
    {
     "name": "stderr",
     "output_type": "stream",
     "text": [
      "<ipython-input-12-7d4f32b6d1e4>:72: RuntimeWarning: invalid value encountered in double_scalars\n",
      "  df_inc_case.at[index,\"APE\"] = abs(error/df_real_inc_case.loc[state][date])\n"
     ]
    },
    {
     "name": "stdout",
     "output_type": "stream",
     "text": [
      "RobertWalraven-ESG do not predict cum case.\n",
      "Covid19Sim-Simulator do not predict cum case.\n",
      "CovidAnalytics-DELPHI do not predict inc death.\n",
      "CovidAnalytics-DELPHI do not predict cum case.\n",
      "MOBS-GLEAM_COVID do not predict inc death.\n",
      "MOBS-GLEAM_COVID do not predict cum case.\n",
      "UCM_MESALab-FoGSEIR do not predict inc death.\n",
      "UCM_MESALab-FoGSEIR do not predict cum case.\n",
      "CovidActNow-SEIR_CAN do not predict cum case.\n",
      "CDDEP-SEIR_MCMC do not predict cum death.\n",
      "CDDEP-SEIR_MCMC do not predict inc death.\n",
      "CDDEP-SEIR_MCMC do not predict inc death.\n",
      "CDDEP-SEIR_MCMC do not predict cum case.\n",
      "LNQ-ens1 do not predict cum case.\n",
      "RPI-UW-Mob-Collision do not predict inc death.\n",
      "RPI-UW-Mob-Collision do not predict cum case.\n",
      ".DS_Store do not predict cum death.\n",
      ".DS_Store do not predict inc death.\n",
      ".DS_Store do not predict inc death.\n",
      ".DS_Store do not predict cum case.\n",
      "GT-DeepCOVID do not predict inc death.\n",
      "GT-DeepCOVID do not predict cum case.\n",
      "CU-scenario_mid do not predict cum case.\n",
      "Geneva-DetGrowth do not predict cum case.\n",
      "SIRD do not predict cum death.\n",
      "SIRD do not predict inc death.\n",
      "SIRD do not predict cum case.\n",
      "USACE-ERDC_SEIR do not predict cum case.\n",
      "Yu_Group-CLEP do not predict cum death.\n",
      "Yu_Group-CLEP do not predict inc death.\n",
      "Yu_Group-CLEP do not predict inc death.\n",
      "Yu_Group-CLEP do not predict cum case.\n",
      "NotreDame-FRED do not predict inc death.\n",
      "NotreDame-FRED do not predict cum case.\n",
      "CMU-TimeSeries do not predict cum death.\n",
      "CMU-TimeSeries do not predict inc death.\n",
      "CMU-TimeSeries do not predict cum case.\n",
      "UChicago-CovidIL_30_+ do not predict inc death.\n",
      "UChicago-CovidIL_30_+ do not predict cum case.\n",
      "NotreDame-mobility do not predict inc death.\n",
      "NotreDame-mobility do not predict cum case.\n",
      "Imperial-ensemble1 do not predict inc death.\n",
      "Imperial-ensemble1 do not predict cum case.\n",
      "Auquan-SEIR do not predict inc death.\n",
      "Auquan-SEIR do not predict inc death.\n",
      "Auquan-SEIR do not predict cum case.\n",
      "STH-3PU do not predict inc death.\n",
      "STH-3PU do not predict cum case.\n"
     ]
    },
    {
     "name": "stderr",
     "output_type": "stream",
     "text": [
      "<ipython-input-12-7d4f32b6d1e4>:24: RuntimeWarning: divide by zero encountered in double_scalars\n",
      "  df_cum_death.at[index,\"APE\"] = abs(error/df_real_cum_death.loc[state][date])\n"
     ]
    },
    {
     "name": "stdout",
     "output_type": "stream",
     "text": [
      "LANL-GrowthRate do not predict cum case.\n"
     ]
    },
    {
     "name": "stderr",
     "output_type": "stream",
     "text": [
      "<ipython-input-12-7d4f32b6d1e4>:24: RuntimeWarning: invalid value encountered in long_scalars\n",
      "  df_cum_death.at[index,\"APE\"] = abs(error/df_real_cum_death.loc[state][date])\n"
     ]
    },
    {
     "name": "stdout",
     "output_type": "stream",
     "text": [
      "SWC-TerminusCM do not predict inc death.\n",
      "SWC-TerminusCM do not predict cum case.\n",
      "SIR do not predict cum death.\n",
      "SIR do not predict inc death.\n",
      "SIR do not predict cum case.\n",
      "Google_Harvard-CPF do not predict inc death.\n",
      "Google_Harvard-CPF do not predict inc death.\n",
      "Google_Harvard-CPF do not predict cum case.\n",
      "UChicago-CovidIL_40 do not predict inc death.\n",
      "UChicago-CovidIL_40 do not predict cum case.\n",
      "CU-scenario_low do not predict cum case.\n",
      "RandomForest do not predict cum death.\n",
      "RandomForest do not predict inc death.\n",
      "RandomForest do not predict cum case.\n",
      "UA-EpiCovDA do not predict inc death.\n",
      "UA-EpiCovDA do not predict cum case.\n",
      "QJHong-Encounter do not predict cum case.\n",
      "Karlen-pypm do not predict cum case.\n",
      "CEID-Walk do not predict cum case.\n",
      "Columbia_UNC-SurvCon do not predict cum case.\n",
      "UT-Mobility do not predict inc death.\n",
      "UT-Mobility do not predict cum case.\n",
      "PandemicCentral-USCounty do not predict cum death.\n",
      "PandemicCentral-USCounty do not predict inc death.\n",
      "PandemicCentral-USCounty do not predict inc death.\n",
      "PandemicCentral-USCounty do not predict cum case.\n",
      "Quantori-Multiagents do not predict cum death.\n",
      "Quantori-Multiagents do not predict inc death.\n",
      "Quantori-Multiagents do not predict cum case.\n",
      "JHU_IDD-CovidSP do not predict cum case.\n",
      "UCLA-SuEIR do not predict cum case.\n",
      "CU-scenario_high do not predict cum case.\n",
      "YYG-ParamSearch do not predict inc death.\n",
      "YYG-ParamSearch do not predict cum case.\n",
      "IowaStateLW-STEM do not predict cum case.\n",
      "UChicago-CovidIL_10_+ do not predict inc death.\n",
      "UChicago-CovidIL_10_+ do not predict cum case.\n",
      "UMass-ExpertCrowd do not predict inc death.\n",
      "UMass-ExpertCrowd do not predict inc death.\n",
      "UMass-ExpertCrowd do not predict cum case.\n",
      "MITCovAlliance-SIR do not predict inc death.\n",
      "MITCovAlliance-SIR do not predict cum case.\n"
     ]
    },
    {
     "name": "stderr",
     "output_type": "stream",
     "text": [
      "<ipython-input-12-7d4f32b6d1e4>:72: RuntimeWarning: invalid value encountered in long_scalars\n",
      "  df_inc_case.at[index,\"APE\"] = abs(error/df_real_inc_case.loc[state][date])\n"
     ]
    },
    {
     "name": "stdout",
     "output_type": "stream",
     "text": [
      "COVIDhub-ensemble do not predict cum case.\n",
      "USC-SI_kJalpha do not predict cum case.\n",
      "ISUandPKU-vSEIdR do not predict cum death.\n",
      "ISUandPKU-vSEIdR do not predict inc death.\n",
      "ISUandPKU-vSEIdR do not predict inc death.\n",
      "ISUandPKU-vSEIdR do not predict cum case.\n",
      "UChicago-CovidIL_100 do not predict inc death.\n",
      "UChicago-CovidIL_100 do not predict cum case.\n",
      "UChicago-CovidIL_60 do not predict inc death.\n",
      "UChicago-CovidIL_60 do not predict cum case.\n",
      "UMich-RidgeTfReg do not predict cum case.\n",
      "UMass-MechBayes do not predict inc death.\n",
      "UMass-MechBayes do not predict cum case.\n",
      "UChicago-CovidIL_80 do not predict inc death.\n",
      "UChicago-CovidIL_80 do not predict cum case.\n",
      "epiforecasts-ensemble1 do not predict inc death.\n",
      "epiforecasts-ensemble1 do not predict cum case.\n",
      "COVIDhub-baseline do not predict cum case.\n",
      "SIRD-rt-live do not predict cum death.\n",
      "SIRD-rt-live do not predict inc death.\n",
      "SIRD-rt-live do not predict cum case.\n",
      "IHME-CurveFit do not predict cum case.\n",
      "UChicago-CovidIL do not predict inc death.\n",
      "UChicago-CovidIL do not predict cum case.\n",
      "Imperial-ensemble2 do not predict inc death.\n",
      "Imperial-ensemble2 do not predict cum case.\n",
      "ARGOnet do not predict cum death.\n",
      "ARGOnet do not predict cum case.\n",
      "GT_CHHS-COVID19 do not predict inc death.\n",
      "GT_CHHS-COVID19 do not predict cum case.\n",
      "JCB-PRM do not predict inc death.\n",
      "JCB-PRM do not predict cum case.\n",
      "CU-select do not predict cum case.\n",
      "PSI-DRAFT do not predict inc death.\n",
      "PSI-DRAFT do not predict cum case.\n",
      "LSTM do not predict cum death.\n",
      "LSTM do not predict inc death.\n",
      "LSTM do not predict cum case.\n"
     ]
    }
   ],
   "source": [
    "calculate()"
   ]
  },
  {
   "cell_type": "code",
   "execution_count": null,
   "metadata": {},
   "outputs": [],
   "source": []
  }
 ],
 "metadata": {
  "kernelspec": {
   "display_name": "Python 3",
   "language": "python",
   "name": "python3"
  },
  "language_info": {
   "codemirror_mode": {
    "name": "ipython",
    "version": 3
   },
   "file_extension": ".py",
   "mimetype": "text/x-python",
   "name": "python",
   "nbconvert_exporter": "python",
   "pygments_lexer": "ipython3",
   "version": "3.8.3"
  }
 },
 "nbformat": 4,
 "nbformat_minor": 2
}
