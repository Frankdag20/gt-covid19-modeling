{
 "cells": [
  {
   "cell_type": "code",
   "execution_count": 23,
   "metadata": {},
   "outputs": [
    {
     "name": "stdout",
     "output_type": "stream",
     "text": [
      "C:\\Users\\frank\\GTREU\n"
     ]
    }
   ],
   "source": [
    "import numpy as np\n",
    "import pickle\n",
    "import pandas as pd\n",
    "import matplotlib.pyplot as plt\n",
    "import os\n",
    "import math\n",
    "from scipy.integrate import odeint\n",
    "from scipy.optimize import minimize\n",
    "from scipy import integrate\n",
    "from lmfit import minimize, Parameters, Parameter, report_fit\n",
    "\n",
    "pathName = os.getcwd()\n",
    "print(pathName)"
   ]
  },
  {
   "cell_type": "markdown",
   "metadata": {},
   "source": [
    "# Initialize Five States and Import Data"
   ]
  },
  {
   "cell_type": "code",
   "execution_count": 24,
   "metadata": {},
   "outputs": [],
   "source": [
    "# Populations of the 5 cities from Google search (https://worldpopulationreview.com/states/)\n",
    "popNY = 19491339\n",
    "popWA = 7797100\n",
    "popCA = 39747267\n",
    "popNJ = 8936570\n",
    "popMA = 6979600\n",
    "\n",
    "dates = ['3/2/20', '3/3/20', '3/4/20', '3/5/20', '3/6/20',\n",
    "        '3/7/20', '3/8/20', '3/9/20', '3/10/20', '3/11/20',\n",
    "        '3/12/20', '3/13/20', '3/14/20', '3/15/20', '3/16/20',\n",
    "        '3/17/20', '3/18/20', '3/19/20', '3/20/20', '3/21/20',\n",
    "        '3/22/20', '3/23/20', '3/24/20', '3/25/20', '3/26/20',\n",
    "        '3/27/20', '3/28/20', '3/29/20', '3/30/20', '3/31/20',\n",
    "        '4/1/20', '4/2/20', '4/3/20', '4/4/20', '4/5/20', '4/6/20',\n",
    "        '4/7/20', '4/8/20', '4/9/20', '4/10/20', '4/11/20',\n",
    "        '4/12/20', '4/13/20', '4/14/20', '4/15/20', '4/16/20',\n",
    "        '4/17/20', '4/18/20', '4/19/20', '4/20/20', '4/21/20',\n",
    "        '4/22/20', '4/23/20', '4/24/20', '4/25/20', '4/26/20',\n",
    "        '4/27/20', '4/28/20', '4/29/20', '4/30/20', '5/1/20', \n",
    "         '5/2/20', '5/3/20', '5/4/20', '5/5/20', '5/6/20',\n",
    "        '5/7/20', '5/8/20', '5/9/20', '5/10/20', '5/11/20',\n",
    "        '5/12/20', '5/13/20', '5/14/20', '5/15/20', '5/16/20',\n",
    "        '5/17/20', '5/18/20', '5/19/20', '5/20/20', '5/21/20',\n",
    "        '5/22/20', '5/23/20', '5/24/20', '5/25/20', '5/26/20',\n",
    "        '5/27/20', '5/28/20', '5/29/20', '5/30/20', '5/31/20']\n",
    "\n",
    "# Scrape CSV file from JHU Github\n",
    "url = \"https://raw.githubusercontent.com/CSSEGISandData/COVID-19/master/csse_covid_19_data/csse_covid_19_time_series/time_series_covid19_confirmed_US.csv\"\n",
    "df = pd.read_csv(url, index_col=0)\n",
    "\n",
    "ny_temp = df.loc[(df['Province_State'] == 'New York')]\n",
    "wash_temp = df.loc[(df['Province_State'] == 'Washington')]\n",
    "cali_temp = df.loc[(df['Province_State'] == 'California')]\n",
    "nj_temp = df.loc[(df['Province_State'] == 'New Jersey')]\n",
    "mass_temp = df.loc[(df['Province_State'] == 'Massachusetts')]\n",
    "\n",
    "url2 = \"https://raw.githubusercontent.com/CSSEGISandData/COVID-19/master/csse_covid_19_data/csse_covid_19_time_series/time_series_covid19_deaths_US.csv\"\n",
    "dfDeaths = pd.read_csv(url2, index_col=0)\n",
    "\n",
    "ny_tempDeaths = dfDeaths.loc[(df['Province_State'] == 'New York')]\n",
    "wash_tempDeaths = dfDeaths.loc[(df['Province_State'] == 'Washington')]\n",
    "cali_tempDeaths = dfDeaths.loc[(df['Province_State'] == 'California')]\n",
    "nj_tempDeaths = dfDeaths.loc[(df['Province_State'] == 'New Jersey')]\n",
    "mass_tempDeaths = dfDeaths.loc[(df['Province_State'] == 'Massachusetts')]"
   ]
  },
  {
   "cell_type": "code",
   "execution_count": 148,
   "metadata": {},
   "outputs": [],
   "source": [
    "# Fill each state array up with daily corona cases\n",
    "\n",
    "# New York\n",
    "ny = []\n",
    "k=0\n",
    "tempI = 0\n",
    "tempD = 0\n",
    "for i in dates:\n",
    "    nyI = sum(ny_temp[i]) - tempI\n",
    "    nyD = sum(ny_tempDeaths[i]) - tempD\n",
    "    tempnyI = sum(ny_temp[i])\n",
    "    tempnyD = sum(ny_tempDeaths[i])\n",
    "    nyS = popNY - nyI - nyD\n",
    "    insert = [nyS, nyI]#, nyI, nyD]\n",
    "    ny.append(insert)\n",
    "    tempI = tempnyI\n",
    "    tempD = tempnyD\n",
    "    k += 1\n",
    "\n",
    "# Washington\n",
    "wash = []\n",
    "k=0\n",
    "for i in dates:\n",
    "    washI = sum(wash_temp[i])\n",
    "    washD = sum(wash_tempDeaths[i])\n",
    "    washS = popWA - washI - washD\n",
    "    insert = [washS, washI, washI, washD]\n",
    "    wash.append(insert)\n",
    "    k += 1\n",
    "    \n",
    "# California    \n",
    "cali = []\n",
    "k=0\n",
    "for i in dates:\n",
    "    caliI = sum(cali_temp[i])\n",
    "    caliD = sum(cali_tempDeaths[i])\n",
    "    caliS = popCA - caliI - caliD\n",
    "    insert = [caliS, caliI, caliI, caliD]\n",
    "    cali.append(insert)\n",
    "    k += 1\n",
    "    \n",
    "# New Jersey\n",
    "nj = []\n",
    "k=0\n",
    "for i in dates:\n",
    "    njI = sum(nj_temp[i])\n",
    "    njD = sum(nj_tempDeaths[i])\n",
    "    njS = popNJ - njI - njD\n",
    "    insert = [njS, njI, njI, njD]\n",
    "    nj.append(insert)\n",
    "    k += 1\n",
    "\n",
    "# Massachusetts\n",
    "mass = []\n",
    "k=0\n",
    "for i in dates:\n",
    "    massI = sum(mass_temp[i])\n",
    "    massD = sum(mass_tempDeaths[i])\n",
    "    massS = popMA - massI - massD\n",
    "    insert = [massS, massI, massI, massD]\n",
    "    mass.append(insert)\n",
    "    k += 1"
   ]
  },
  {
   "cell_type": "markdown",
   "metadata": {},
   "source": [
    "# SEIR Model"
   ]
  },
  {
   "cell_type": "code",
   "execution_count": 176,
   "metadata": {},
   "outputs": [],
   "source": [
    "# beta is infection rate\n",
    "# sigma is incubation rate (average duration is 1/sigma)\n",
    "# gamma is recovery/mortality rate\n",
    "\n",
    "def SEIR(y, t, beta, sigma, gamma):\n",
    "    S, E, I, R = y\n",
    "    N = S+E+I+R\n",
    "    # Ordinary differential equations\n",
    "    dS = (-beta * S * I) / N\n",
    "    dE = ((beta * S * I)/N) - (sigma * E)\n",
    "    dI = (sigma * E) - (gamma * I)\n",
    "    dR = gamma * I\n",
    "    return(dS, dE, dI, dR)"
   ]
  },
  {
   "cell_type": "markdown",
   "metadata": {},
   "source": [
    "# Parameter Fitting for NY"
   ]
  },
  {
   "cell_type": "code",
   "execution_count": 178,
   "metadata": {},
   "outputs": [
    {
     "data": {
      "image/png": "[encoded data removed]",
      "text/plain": [
       "<Figure size 432x288 with 1 Axes>"
      ]
     },
     "metadata": {},
     "output_type": "display_data"
    }
   ],
   "source": [
    "# Run SEIR for NY\n",
    "N = popNY \n",
    "E0 = 100\n",
    "I0 = 10\n",
    "R0 = 0\n",
    "S0 = N - E0 - I0 - R0\n",
    "sigma = 1/(5)\n",
    "gamma = 1/(10)\n",
    "r0 = 5\n",
    "beta = r0 * gamma\n",
    "days = 200\n",
    "\n",
    "# Init parameters for optimization\n",
    "params = Parameters()\n",
    "params.add('beta', value=beta, min=0, max=10)\n",
    "params.add('sigma', value=sigma, min=0, max=10)\n",
    "params.add('gamma', value=gamma, min=0, max=10)\n",
    "\n",
    "t = np.linspace(0, days, days)\n",
    "y0 = S0, E0, I0, R0\n",
    "\n",
    "# Integrate equations over t\n",
    "def ode_sol(t, init, params):\n",
    "    beta, sigma, gamma = params['beta'].value, params['sigma'].value, params['gamma'].value\n",
    "    out = odeint(SEIR, init, t, args=(beta, sigma, gamma))\n",
    "    return out\n",
    "\n",
    "res = ode_sol(t, y0, params)\n",
    "S, E, I, R = res.T\n",
    "\n",
    "# Plot data on curves\n",
    "fig = plt.figure(facecolor='w')\n",
    "ax = fig.add_subplot(111, facecolor='#dddddd', axisbelow=True)\n",
    "ax.plot(t, S/1000000, 'b', alpha=0.5, lw=2, label='Susceptible')\n",
    "ax.plot(t, E/1000000, 'y', alpha=0.5, lw=2, label='Exposed')\n",
    "ax.plot(t, I/1000000, 'r', alpha=0.5, lw=2, label='Infected')\n",
    "ax.plot(t, R/1000000, 'g', alpha=0.5, lw=2, label='Recovered with immunity')\n",
    "ax.set_xlabel('Time (days)')\n",
    "ax.set_ylabel('Number (millions)')\n",
    "ax.set_ylim(0,40)\n",
    "ax.yaxis.set_tick_params(length=0)\n",
    "ax.xaxis.set_tick_params(length=0)\n",
    "ax.grid(b=True, which='major', c='w', lw=2, ls='-')\n",
    "legend = ax.legend()\n",
    "legend.get_frame().set_alpha(0.5)\n",
    "for spine in ('top', 'right', 'bottom', 'left'):\n",
    "    ax.spines[spine].set_visible(False)\n",
    "plt.show()"
   ]
  },
  {
   "cell_type": "code",
   "execution_count": 166,
   "metadata": {},
   "outputs": [
    {
     "data": {
      "text/html": [
       "<table><tr><th> name </th><th> value </th><th> initial value </th><th> min </th><th> max </th><th> vary </th></tr><tr><td> beta </td><td>  0.50000000 </td><td> 0.5 </td><td>  0.00000000 </td><td>  10.0000000 </td><td> True </td></tr><tr><td> sigma </td><td>  0.20000000 </td><td> 0.2 </td><td>  0.00000000 </td><td>  10.0000000 </td><td> True </td></tr><tr><td> gamma </td><td>  0.10000000 </td><td> 0.1 </td><td>  0.00000000 </td><td>  10.0000000 </td><td> True </td></tr></table>"
      ],
      "text/plain": [
       "Parameters([('beta', <Parameter 'beta', value=0.5, bounds=[0:10]>),\n",
       "            ('sigma', <Parameter 'sigma', value=0.2, bounds=[0:10]>),\n",
       "            ('gamma', <Parameter 'gamma', value=0.1, bounds=[0:10]>)])"
      ]
     },
     "execution_count": 166,
     "metadata": {},
     "output_type": "execute_result"
    }
   ],
   "source": [
    "def error(param, init, tspan, data):\n",
    "    sol = ode_sol(tspan, init, param)\n",
    "    #print(sol[:, 0:1])\n",
    "    return (sol[:, 0:2] - data).ravel()\n",
    "\n",
    "params"
   ]
  },
  {
   "cell_type": "code",
   "execution_count": 167,
   "metadata": {},
   "outputs": [],
   "source": [
    "# Fit model to New York\n",
    "E0 = 100\n",
    "# Look at first 3 days of cases\n",
    "I0 = sum(ny[1][1:3])\n",
    "R0 = 0\n",
    "N0 = popNY\n",
    "days = 91\n",
    "S0 = N0 - E0 - I0 - R0\n",
    "tspan = np.arange(0, days, 1)\n",
    "data = ny\n",
    "init = [S0, E0, I0, R0]\n",
    "\n",
    "# Fit the model\n",
    "result = minimize(error, params, args=(init, tspan, data), method='leastsq')"
   ]
  },
  {
   "cell_type": "code",
   "execution_count": 168,
   "metadata": {},
   "outputs": [
    {
     "data": {
      "text/html": [
       "<table><tr><th> name </th><th> value </th><th> standard error </th><th> relative error </th><th> initial value </th><th> min </th><th> max </th><th> vary </th></tr><tr><td> beta </td><td>  7.51909129 </td><td>  0.69746522 </td><td> (9.28%) </td><td> 0.5 </td><td>  0.00000000 </td><td>  10.0000000 </td><td> True </td></tr><tr><td> sigma </td><td>  8.11611526 </td><td>  0.64423286 </td><td> (7.94%) </td><td> 0.2 </td><td>  0.00000000 </td><td>  10.0000000 </td><td> True </td></tr><tr><td> gamma </td><td>  7.66705989 </td><td>  0.70652094 </td><td> (9.22%) </td><td> 0.1 </td><td>  0.00000000 </td><td>  10.0000000 </td><td> True </td></tr></table>"
      ],
      "text/plain": [
       "Parameters([('beta',\n",
       "             <Parameter 'beta', value=7.519091292486342 +/- 0.697, bounds=[0:10]>),\n",
       "            ('sigma',\n",
       "             <Parameter 'sigma', value=8.116115256705225 +/- 0.644, bounds=[0:10]>),\n",
       "            ('gamma',\n",
       "             <Parameter 'gamma', value=7.667059894257584 +/- 0.707, bounds=[0:10]>)])"
      ]
     },
     "execution_count": 168,
     "metadata": {},
     "output_type": "execute_result"
    }
   ],
   "source": [
    "# Check fitted parameters\n",
    "result.params"
   ]
  },
  {
   "cell_type": "code",
   "execution_count": 169,
   "metadata": {},
   "outputs": [
    {
     "name": "stdout",
     "output_type": "stream",
     "text": [
      "[[Fit Statistics]]\n",
      "    # fitting method   = leastsq\n",
      "    # function evals   = 88\n",
      "    # data points      = 182\n",
      "    # variables        = 3\n",
      "    chi-square         = 3.5150e+09\n",
      "    reduced chi-square = 19637120.3\n",
      "    Akaike info crit   = 3059.28866\n",
      "    Bayesian info crit = 3068.90068\n",
      "[[Variables]]\n",
      "    beta:   7.51909129 +/- 0.69746522 (9.28%) (init = 0.5)\n",
      "    sigma:  8.11611526 +/- 0.64423286 (7.94%) (init = 0.2)\n",
      "    gamma:  7.66705989 +/- 0.70652094 (9.22%) (init = 0.1)\n",
      "[[Correlations]] (unreported correlations are < 0.100)\n",
      "    C(beta, gamma)  =  1.000\n",
      "    C(sigma, gamma) = -0.848\n",
      "    C(beta, sigma)  = -0.840\n"
     ]
    }
   ],
   "source": [
    "report_fit(result)"
   ]
  },
  {
   "cell_type": "code",
   "execution_count": 170,
   "metadata": {},
   "outputs": [
    {
     "data": {
      "image/png": "[encoded data removed]",
      "text/plain": [
       "<Figure size 432x288 with 1 Axes>"
      ]
     },
     "metadata": {},
     "output_type": "display_data"
    }
   ],
   "source": [
    "# Plot daily cases for New York\n",
    "printNY = [0]*len(dates)\n",
    "k=0\n",
    "\n",
    "for i in ny:\n",
    "    printNY[k] = i[1]/1000\n",
    "    k+=1\n",
    "\n",
    "t =  np.linspace(0, len(dates), len(dates))\n",
    "fig = plt.figure(facecolor='w')\n",
    "ax = fig.add_subplot(111, facecolor='#dddddd', axisbelow=True)\n",
    "ax.plot(t, printNY, 'b', alpha=0.5, lw=2, label='Daily Cases')\n",
    "ax.set_xlabel('Time (days)')\n",
    "ax.set_ylabel('Number (thousands)')\n",
    "ax.set_ylim(0,15)\n",
    "ax.yaxis.set_tick_params(length=0)\n",
    "ax.xaxis.set_tick_params(length=0)\n",
    "ax.grid(b=True, which='major', c='w', lw=2, ls='-')\n",
    "legend = ax.legend()\n",
    "legend.get_frame().set_alpha(0.5)\n",
    "for spine in ('top', 'right', 'bottom', 'left'):\n",
    "    ax.spines[spine].set_visible(False)\n",
    "plt.show()"
   ]
  },
  {
   "cell_type": "code",
   "execution_count": 179,
   "metadata": {},
   "outputs": [
    {
     "data": {
      "image/png": "[encoded data removed]",
      "text/plain": [
       "<Figure size 432x288 with 1 Axes>"
      ]
     },
     "metadata": {},
     "output_type": "display_data"
    }
   ],
   "source": [
    "# Plot SEIR model using fitted parameters for NY\n",
    "E0 = 100\n",
    "# Look at first 3 days of cases\n",
    "I0 = sum(ny[1][1:3])\n",
    "R0 = 0\n",
    "N0 = popNY\n",
    "S0 = N0 - E0 - I0 - R0\n",
    "days = 91\n",
    "t = np.linspace(0, days, days)\n",
    "y0 = S0, E0, I0, R0\n",
    "res = ode_sol(t, y0, result.params)\n",
    "S, E, I, R = res.T\n",
    "\n",
    "# Plot data on curves\n",
    "fig = plt.figure(facecolor='w')\n",
    "ax = fig.add_subplot(111, facecolor='#dddddd', axisbelow=True)\n",
    "ax.plot(t, S/1000, 'b', alpha=0.5, lw=2, label='Susceptible')\n",
    "ax.plot(t, E/1000, 'y', alpha=0.5, lw=2, label='Exposed')\n",
    "ax.plot(t, I/1000, 'r', alpha=0.5, lw=2, label='Infected')\n",
    "ax.plot(t, R/1000, 'g', alpha=0.5, lw=2, label='Recovered')\n",
    "ax.plot(t, printNY, 'p', alpha=0.5, lw=2, label='Recorded Daily Cases')\n",
    "ax.set_xlabel('Time (days)')\n",
    "ax.set_ylabel('Number (thousands)')\n",
    "ax.set_ylim(0,20)\n",
    "ax.yaxis.set_tick_params(length=0)\n",
    "ax.xaxis.set_tick_params(length=0)\n",
    "ax.grid(b=True, which='major', c='w', lw=2, ls='-')\n",
    "legend = ax.legend()\n",
    "legend.get_frame().set_alpha(0.5)\n",
    "for spine in ('top', 'right', 'bottom', 'left'):\n",
    "    ax.spines[spine].set_visible(False)\n",
    "plt.show()"
   ]
  },
  {
   "cell_type": "code",
   "execution_count": null,
   "metadata": {},
   "outputs": [],
   "source": []
  },
  {
   "cell_type": "code",
   "execution_count": null,
   "metadata": {},
   "outputs": [],
   "source": []
  }
 ],
 "metadata": {
  "kernelspec": {
   "display_name": "Python 3",
   "language": "python",
   "name": "python3"
  },
  "language_info": {
   "codemirror_mode": {
    "name": "ipython",
    "version": 3
   },
   "file_extension": ".py",
   "mimetype": "text/x-python",
   "name": "python",
   "nbconvert_exporter": "python",
   "pygments_lexer": "ipython3",
   "version": "3.7.3"
  }
 },
 "nbformat": 4,
 "nbformat_minor": 2
}
